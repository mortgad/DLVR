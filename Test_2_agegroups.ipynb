{
  "nbformat": 4,
  "nbformat_minor": 0,
  "metadata": {
    "colab": {
      "provenance": [],
      "collapsed_sections": [
        "nCayA0lnIKAU",
        "D71PpSjDhJ8o",
        "X_z1O3ORhQi4",
        "CssBWYNRC96E",
        "mJxsDfU0tDGc",
        "wyX9gD3s9C3I"
      ],
      "machine_shape": "hm",
      "gpuType": "V28",
      "authorship_tag": "ABX9TyODrl0bJyaj88cn/pb/eOt+",
      "include_colab_link": true
    },
    "kernelspec": {
      "name": "python3",
      "display_name": "Python 3"
    },
    "language_info": {
      "name": "python"
    },
    "accelerator": "TPU",
    "widgets": {
      "application/vnd.jupyter.widget-state+json": {
        "47a45e8553504b6d93eaec7c8f96cad1": {
          "model_module": "@jupyter-widgets/controls",
          "model_name": "HBoxModel",
          "model_module_version": "1.5.0",
          "state": {
            "_dom_classes": [],
            "_model_module": "@jupyter-widgets/controls",
            "_model_module_version": "1.5.0",
            "_model_name": "HBoxModel",
            "_view_count": null,
            "_view_module": "@jupyter-widgets/controls",
            "_view_module_version": "1.5.0",
            "_view_name": "HBoxView",
            "box_style": "",
            "children": [
              "IPY_MODEL_a96b660c8dc74790affa477a63bafbd1",
              "IPY_MODEL_8b043c8242894f21b59abc5fceef1267",
              "IPY_MODEL_d1d3908c48ff4514bafe712f08a00a91"
            ],
            "layout": "IPY_MODEL_b61d96cdc95941679e661c8485bcdd2e"
          }
        },
        "a96b660c8dc74790affa477a63bafbd1": {
          "model_module": "@jupyter-widgets/controls",
          "model_name": "HTMLModel",
          "model_module_version": "1.5.0",
          "state": {
            "_dom_classes": [],
            "_model_module": "@jupyter-widgets/controls",
            "_model_module_version": "1.5.0",
            "_model_name": "HTMLModel",
            "_view_count": null,
            "_view_module": "@jupyter-widgets/controls",
            "_view_module_version": "1.5.0",
            "_view_name": "HTMLView",
            "description": "",
            "description_tooltip": null,
            "layout": "IPY_MODEL_42e391d64c494bf7b097b30048050f70",
            "placeholder": "​",
            "style": "IPY_MODEL_4a9226b0b8cb422f9b2b0e60a99e68ff",
            "value": "100%"
          }
        },
        "8b043c8242894f21b59abc5fceef1267": {
          "model_module": "@jupyter-widgets/controls",
          "model_name": "FloatProgressModel",
          "model_module_version": "1.5.0",
          "state": {
            "_dom_classes": [],
            "_model_module": "@jupyter-widgets/controls",
            "_model_module_version": "1.5.0",
            "_model_name": "FloatProgressModel",
            "_view_count": null,
            "_view_module": "@jupyter-widgets/controls",
            "_view_module_version": "1.5.0",
            "_view_name": "ProgressView",
            "bar_style": "success",
            "description": "",
            "description_tooltip": null,
            "layout": "IPY_MODEL_0d75a9f65b4a43d0bc3156694e7aa7c2",
            "max": 86744,
            "min": 0,
            "orientation": "horizontal",
            "style": "IPY_MODEL_4aced51cb2264fa380af7f393cbef610",
            "value": 86744
          }
        },
        "d1d3908c48ff4514bafe712f08a00a91": {
          "model_module": "@jupyter-widgets/controls",
          "model_name": "HTMLModel",
          "model_module_version": "1.5.0",
          "state": {
            "_dom_classes": [],
            "_model_module": "@jupyter-widgets/controls",
            "_model_module_version": "1.5.0",
            "_model_name": "HTMLModel",
            "_view_count": null,
            "_view_module": "@jupyter-widgets/controls",
            "_view_module_version": "1.5.0",
            "_view_name": "HTMLView",
            "description": "",
            "description_tooltip": null,
            "layout": "IPY_MODEL_95d2c546341d489fb31350bf2ddbd017",
            "placeholder": "​",
            "style": "IPY_MODEL_9c8504c28f494651861dcde86fd621f1",
            "value": " 86744/86744 [00:00&lt;00:00, 223246.62it/s]"
          }
        },
        "b61d96cdc95941679e661c8485bcdd2e": {
          "model_module": "@jupyter-widgets/base",
          "model_name": "LayoutModel",
          "model_module_version": "1.2.0",
          "state": {
            "_model_module": "@jupyter-widgets/base",
            "_model_module_version": "1.2.0",
            "_model_name": "LayoutModel",
            "_view_count": null,
            "_view_module": "@jupyter-widgets/base",
            "_view_module_version": "1.2.0",
            "_view_name": "LayoutView",
            "align_content": null,
            "align_items": null,
            "align_self": null,
            "border": null,
            "bottom": null,
            "display": null,
            "flex": null,
            "flex_flow": null,
            "grid_area": null,
            "grid_auto_columns": null,
            "grid_auto_flow": null,
            "grid_auto_rows": null,
            "grid_column": null,
            "grid_gap": null,
            "grid_row": null,
            "grid_template_areas": null,
            "grid_template_columns": null,
            "grid_template_rows": null,
            "height": null,
            "justify_content": null,
            "justify_items": null,
            "left": null,
            "margin": null,
            "max_height": null,
            "max_width": null,
            "min_height": null,
            "min_width": null,
            "object_fit": null,
            "object_position": null,
            "order": null,
            "overflow": null,
            "overflow_x": null,
            "overflow_y": null,
            "padding": null,
            "right": null,
            "top": null,
            "visibility": null,
            "width": null
          }
        },
        "42e391d64c494bf7b097b30048050f70": {
          "model_module": "@jupyter-widgets/base",
          "model_name": "LayoutModel",
          "model_module_version": "1.2.0",
          "state": {
            "_model_module": "@jupyter-widgets/base",
            "_model_module_version": "1.2.0",
            "_model_name": "LayoutModel",
            "_view_count": null,
            "_view_module": "@jupyter-widgets/base",
            "_view_module_version": "1.2.0",
            "_view_name": "LayoutView",
            "align_content": null,
            "align_items": null,
            "align_self": null,
            "border": null,
            "bottom": null,
            "display": null,
            "flex": null,
            "flex_flow": null,
            "grid_area": null,
            "grid_auto_columns": null,
            "grid_auto_flow": null,
            "grid_auto_rows": null,
            "grid_column": null,
            "grid_gap": null,
            "grid_row": null,
            "grid_template_areas": null,
            "grid_template_columns": null,
            "grid_template_rows": null,
            "height": null,
            "justify_content": null,
            "justify_items": null,
            "left": null,
            "margin": null,
            "max_height": null,
            "max_width": null,
            "min_height": null,
            "min_width": null,
            "object_fit": null,
            "object_position": null,
            "order": null,
            "overflow": null,
            "overflow_x": null,
            "overflow_y": null,
            "padding": null,
            "right": null,
            "top": null,
            "visibility": null,
            "width": null
          }
        },
        "4a9226b0b8cb422f9b2b0e60a99e68ff": {
          "model_module": "@jupyter-widgets/controls",
          "model_name": "DescriptionStyleModel",
          "model_module_version": "1.5.0",
          "state": {
            "_model_module": "@jupyter-widgets/controls",
            "_model_module_version": "1.5.0",
            "_model_name": "DescriptionStyleModel",
            "_view_count": null,
            "_view_module": "@jupyter-widgets/base",
            "_view_module_version": "1.2.0",
            "_view_name": "StyleView",
            "description_width": ""
          }
        },
        "0d75a9f65b4a43d0bc3156694e7aa7c2": {
          "model_module": "@jupyter-widgets/base",
          "model_name": "LayoutModel",
          "model_module_version": "1.2.0",
          "state": {
            "_model_module": "@jupyter-widgets/base",
            "_model_module_version": "1.2.0",
            "_model_name": "LayoutModel",
            "_view_count": null,
            "_view_module": "@jupyter-widgets/base",
            "_view_module_version": "1.2.0",
            "_view_name": "LayoutView",
            "align_content": null,
            "align_items": null,
            "align_self": null,
            "border": null,
            "bottom": null,
            "display": null,
            "flex": null,
            "flex_flow": null,
            "grid_area": null,
            "grid_auto_columns": null,
            "grid_auto_flow": null,
            "grid_auto_rows": null,
            "grid_column": null,
            "grid_gap": null,
            "grid_row": null,
            "grid_template_areas": null,
            "grid_template_columns": null,
            "grid_template_rows": null,
            "height": null,
            "justify_content": null,
            "justify_items": null,
            "left": null,
            "margin": null,
            "max_height": null,
            "max_width": null,
            "min_height": null,
            "min_width": null,
            "object_fit": null,
            "object_position": null,
            "order": null,
            "overflow": null,
            "overflow_x": null,
            "overflow_y": null,
            "padding": null,
            "right": null,
            "top": null,
            "visibility": null,
            "width": null
          }
        },
        "4aced51cb2264fa380af7f393cbef610": {
          "model_module": "@jupyter-widgets/controls",
          "model_name": "ProgressStyleModel",
          "model_module_version": "1.5.0",
          "state": {
            "_model_module": "@jupyter-widgets/controls",
            "_model_module_version": "1.5.0",
            "_model_name": "ProgressStyleModel",
            "_view_count": null,
            "_view_module": "@jupyter-widgets/base",
            "_view_module_version": "1.2.0",
            "_view_name": "StyleView",
            "bar_color": null,
            "description_width": ""
          }
        },
        "95d2c546341d489fb31350bf2ddbd017": {
          "model_module": "@jupyter-widgets/base",
          "model_name": "LayoutModel",
          "model_module_version": "1.2.0",
          "state": {
            "_model_module": "@jupyter-widgets/base",
            "_model_module_version": "1.2.0",
            "_model_name": "LayoutModel",
            "_view_count": null,
            "_view_module": "@jupyter-widgets/base",
            "_view_module_version": "1.2.0",
            "_view_name": "LayoutView",
            "align_content": null,
            "align_items": null,
            "align_self": null,
            "border": null,
            "bottom": null,
            "display": null,
            "flex": null,
            "flex_flow": null,
            "grid_area": null,
            "grid_auto_columns": null,
            "grid_auto_flow": null,
            "grid_auto_rows": null,
            "grid_column": null,
            "grid_gap": null,
            "grid_row": null,
            "grid_template_areas": null,
            "grid_template_columns": null,
            "grid_template_rows": null,
            "height": null,
            "justify_content": null,
            "justify_items": null,
            "left": null,
            "margin": null,
            "max_height": null,
            "max_width": null,
            "min_height": null,
            "min_width": null,
            "object_fit": null,
            "object_position": null,
            "order": null,
            "overflow": null,
            "overflow_x": null,
            "overflow_y": null,
            "padding": null,
            "right": null,
            "top": null,
            "visibility": null,
            "width": null
          }
        },
        "9c8504c28f494651861dcde86fd621f1": {
          "model_module": "@jupyter-widgets/controls",
          "model_name": "DescriptionStyleModel",
          "model_module_version": "1.5.0",
          "state": {
            "_model_module": "@jupyter-widgets/controls",
            "_model_module_version": "1.5.0",
            "_model_name": "DescriptionStyleModel",
            "_view_count": null,
            "_view_module": "@jupyter-widgets/base",
            "_view_module_version": "1.2.0",
            "_view_name": "StyleView",
            "description_width": ""
          }
        },
        "567f22d7a1fb483a9384cab30d5175b9": {
          "model_module": "@jupyter-widgets/controls",
          "model_name": "HBoxModel",
          "model_module_version": "1.5.0",
          "state": {
            "_dom_classes": [],
            "_model_module": "@jupyter-widgets/controls",
            "_model_module_version": "1.5.0",
            "_model_name": "HBoxModel",
            "_view_count": null,
            "_view_module": "@jupyter-widgets/controls",
            "_view_module_version": "1.5.0",
            "_view_name": "HBoxView",
            "box_style": "",
            "children": [
              "IPY_MODEL_572ca42434b14a00b57bbbbb2c193e1c",
              "IPY_MODEL_6adb4bbc0ecd47d2b8512a9e270bd60e",
              "IPY_MODEL_17ef1ea8f6bb494fbc3667ac2e8e1208"
            ],
            "layout": "IPY_MODEL_e6fb8f7fcffe4933b179e4679b27a7f8"
          }
        },
        "572ca42434b14a00b57bbbbb2c193e1c": {
          "model_module": "@jupyter-widgets/controls",
          "model_name": "HTMLModel",
          "model_module_version": "1.5.0",
          "state": {
            "_dom_classes": [],
            "_model_module": "@jupyter-widgets/controls",
            "_model_module_version": "1.5.0",
            "_model_name": "HTMLModel",
            "_view_count": null,
            "_view_module": "@jupyter-widgets/controls",
            "_view_module_version": "1.5.0",
            "_view_name": "HTMLView",
            "description": "",
            "description_tooltip": null,
            "layout": "IPY_MODEL_0dbfaea387064b6ab3dc35f669a02645",
            "placeholder": "​",
            "style": "IPY_MODEL_6204d2a2beff463b91491a90d723b241",
            "value": "100%"
          }
        },
        "6adb4bbc0ecd47d2b8512a9e270bd60e": {
          "model_module": "@jupyter-widgets/controls",
          "model_name": "FloatProgressModel",
          "model_module_version": "1.5.0",
          "state": {
            "_dom_classes": [],
            "_model_module": "@jupyter-widgets/controls",
            "_model_module_version": "1.5.0",
            "_model_name": "FloatProgressModel",
            "_view_count": null,
            "_view_module": "@jupyter-widgets/controls",
            "_view_module_version": "1.5.0",
            "_view_name": "ProgressView",
            "bar_style": "success",
            "description": "",
            "description_tooltip": null,
            "layout": "IPY_MODEL_8435a0585fd541f597cffefa1e82a738",
            "max": 10954,
            "min": 0,
            "orientation": "horizontal",
            "style": "IPY_MODEL_f135869b3e9c41a99ca23feb31a36c80",
            "value": 10954
          }
        },
        "17ef1ea8f6bb494fbc3667ac2e8e1208": {
          "model_module": "@jupyter-widgets/controls",
          "model_name": "HTMLModel",
          "model_module_version": "1.5.0",
          "state": {
            "_dom_classes": [],
            "_model_module": "@jupyter-widgets/controls",
            "_model_module_version": "1.5.0",
            "_model_name": "HTMLModel",
            "_view_count": null,
            "_view_module": "@jupyter-widgets/controls",
            "_view_module_version": "1.5.0",
            "_view_name": "HTMLView",
            "description": "",
            "description_tooltip": null,
            "layout": "IPY_MODEL_a2dc1f2ccc2b4dc2b5f84a5914203893",
            "placeholder": "​",
            "style": "IPY_MODEL_d919069545e14dfc826fc5204785dc09",
            "value": " 10954/10954 [00:00&lt;00:00, 179016.50it/s]"
          }
        },
        "e6fb8f7fcffe4933b179e4679b27a7f8": {
          "model_module": "@jupyter-widgets/base",
          "model_name": "LayoutModel",
          "model_module_version": "1.2.0",
          "state": {
            "_model_module": "@jupyter-widgets/base",
            "_model_module_version": "1.2.0",
            "_model_name": "LayoutModel",
            "_view_count": null,
            "_view_module": "@jupyter-widgets/base",
            "_view_module_version": "1.2.0",
            "_view_name": "LayoutView",
            "align_content": null,
            "align_items": null,
            "align_self": null,
            "border": null,
            "bottom": null,
            "display": null,
            "flex": null,
            "flex_flow": null,
            "grid_area": null,
            "grid_auto_columns": null,
            "grid_auto_flow": null,
            "grid_auto_rows": null,
            "grid_column": null,
            "grid_gap": null,
            "grid_row": null,
            "grid_template_areas": null,
            "grid_template_columns": null,
            "grid_template_rows": null,
            "height": null,
            "justify_content": null,
            "justify_items": null,
            "left": null,
            "margin": null,
            "max_height": null,
            "max_width": null,
            "min_height": null,
            "min_width": null,
            "object_fit": null,
            "object_position": null,
            "order": null,
            "overflow": null,
            "overflow_x": null,
            "overflow_y": null,
            "padding": null,
            "right": null,
            "top": null,
            "visibility": null,
            "width": null
          }
        },
        "0dbfaea387064b6ab3dc35f669a02645": {
          "model_module": "@jupyter-widgets/base",
          "model_name": "LayoutModel",
          "model_module_version": "1.2.0",
          "state": {
            "_model_module": "@jupyter-widgets/base",
            "_model_module_version": "1.2.0",
            "_model_name": "LayoutModel",
            "_view_count": null,
            "_view_module": "@jupyter-widgets/base",
            "_view_module_version": "1.2.0",
            "_view_name": "LayoutView",
            "align_content": null,
            "align_items": null,
            "align_self": null,
            "border": null,
            "bottom": null,
            "display": null,
            "flex": null,
            "flex_flow": null,
            "grid_area": null,
            "grid_auto_columns": null,
            "grid_auto_flow": null,
            "grid_auto_rows": null,
            "grid_column": null,
            "grid_gap": null,
            "grid_row": null,
            "grid_template_areas": null,
            "grid_template_columns": null,
            "grid_template_rows": null,
            "height": null,
            "justify_content": null,
            "justify_items": null,
            "left": null,
            "margin": null,
            "max_height": null,
            "max_width": null,
            "min_height": null,
            "min_width": null,
            "object_fit": null,
            "object_position": null,
            "order": null,
            "overflow": null,
            "overflow_x": null,
            "overflow_y": null,
            "padding": null,
            "right": null,
            "top": null,
            "visibility": null,
            "width": null
          }
        },
        "6204d2a2beff463b91491a90d723b241": {
          "model_module": "@jupyter-widgets/controls",
          "model_name": "DescriptionStyleModel",
          "model_module_version": "1.5.0",
          "state": {
            "_model_module": "@jupyter-widgets/controls",
            "_model_module_version": "1.5.0",
            "_model_name": "DescriptionStyleModel",
            "_view_count": null,
            "_view_module": "@jupyter-widgets/base",
            "_view_module_version": "1.2.0",
            "_view_name": "StyleView",
            "description_width": ""
          }
        },
        "8435a0585fd541f597cffefa1e82a738": {
          "model_module": "@jupyter-widgets/base",
          "model_name": "LayoutModel",
          "model_module_version": "1.2.0",
          "state": {
            "_model_module": "@jupyter-widgets/base",
            "_model_module_version": "1.2.0",
            "_model_name": "LayoutModel",
            "_view_count": null,
            "_view_module": "@jupyter-widgets/base",
            "_view_module_version": "1.2.0",
            "_view_name": "LayoutView",
            "align_content": null,
            "align_items": null,
            "align_self": null,
            "border": null,
            "bottom": null,
            "display": null,
            "flex": null,
            "flex_flow": null,
            "grid_area": null,
            "grid_auto_columns": null,
            "grid_auto_flow": null,
            "grid_auto_rows": null,
            "grid_column": null,
            "grid_gap": null,
            "grid_row": null,
            "grid_template_areas": null,
            "grid_template_columns": null,
            "grid_template_rows": null,
            "height": null,
            "justify_content": null,
            "justify_items": null,
            "left": null,
            "margin": null,
            "max_height": null,
            "max_width": null,
            "min_height": null,
            "min_width": null,
            "object_fit": null,
            "object_position": null,
            "order": null,
            "overflow": null,
            "overflow_x": null,
            "overflow_y": null,
            "padding": null,
            "right": null,
            "top": null,
            "visibility": null,
            "width": null
          }
        },
        "f135869b3e9c41a99ca23feb31a36c80": {
          "model_module": "@jupyter-widgets/controls",
          "model_name": "ProgressStyleModel",
          "model_module_version": "1.5.0",
          "state": {
            "_model_module": "@jupyter-widgets/controls",
            "_model_module_version": "1.5.0",
            "_model_name": "ProgressStyleModel",
            "_view_count": null,
            "_view_module": "@jupyter-widgets/base",
            "_view_module_version": "1.2.0",
            "_view_name": "StyleView",
            "bar_color": null,
            "description_width": ""
          }
        },
        "a2dc1f2ccc2b4dc2b5f84a5914203893": {
          "model_module": "@jupyter-widgets/base",
          "model_name": "LayoutModel",
          "model_module_version": "1.2.0",
          "state": {
            "_model_module": "@jupyter-widgets/base",
            "_model_module_version": "1.2.0",
            "_model_name": "LayoutModel",
            "_view_count": null,
            "_view_module": "@jupyter-widgets/base",
            "_view_module_version": "1.2.0",
            "_view_name": "LayoutView",
            "align_content": null,
            "align_items": null,
            "align_self": null,
            "border": null,
            "bottom": null,
            "display": null,
            "flex": null,
            "flex_flow": null,
            "grid_area": null,
            "grid_auto_columns": null,
            "grid_auto_flow": null,
            "grid_auto_rows": null,
            "grid_column": null,
            "grid_gap": null,
            "grid_row": null,
            "grid_template_areas": null,
            "grid_template_columns": null,
            "grid_template_rows": null,
            "height": null,
            "justify_content": null,
            "justify_items": null,
            "left": null,
            "margin": null,
            "max_height": null,
            "max_width": null,
            "min_height": null,
            "min_width": null,
            "object_fit": null,
            "object_position": null,
            "order": null,
            "overflow": null,
            "overflow_x": null,
            "overflow_y": null,
            "padding": null,
            "right": null,
            "top": null,
            "visibility": null,
            "width": null
          }
        },
        "d919069545e14dfc826fc5204785dc09": {
          "model_module": "@jupyter-widgets/controls",
          "model_name": "DescriptionStyleModel",
          "model_module_version": "1.5.0",
          "state": {
            "_model_module": "@jupyter-widgets/controls",
            "_model_module_version": "1.5.0",
            "_model_name": "DescriptionStyleModel",
            "_view_count": null,
            "_view_module": "@jupyter-widgets/base",
            "_view_module_version": "1.2.0",
            "_view_name": "StyleView",
            "description_width": ""
          }
        },
        "d81b97ba5eb84359998b29f70b73f772": {
          "model_module": "@jupyter-widgets/controls",
          "model_name": "HBoxModel",
          "model_module_version": "1.5.0",
          "state": {
            "_dom_classes": [],
            "_model_module": "@jupyter-widgets/controls",
            "_model_module_version": "1.5.0",
            "_model_name": "HBoxModel",
            "_view_count": null,
            "_view_module": "@jupyter-widgets/controls",
            "_view_module_version": "1.5.0",
            "_view_name": "HBoxView",
            "box_style": "",
            "children": [
              "IPY_MODEL_74050e3972f3494cb25268f77254028b",
              "IPY_MODEL_f242ca2506ac4775b7f267b60a0047e6",
              "IPY_MODEL_69f9850c51734a088bc4ed71a52e272a"
            ],
            "layout": "IPY_MODEL_2be5661e05714907a6e8fb5229eea0ed"
          }
        },
        "74050e3972f3494cb25268f77254028b": {
          "model_module": "@jupyter-widgets/controls",
          "model_name": "HTMLModel",
          "model_module_version": "1.5.0",
          "state": {
            "_dom_classes": [],
            "_model_module": "@jupyter-widgets/controls",
            "_model_module_version": "1.5.0",
            "_model_name": "HTMLModel",
            "_view_count": null,
            "_view_module": "@jupyter-widgets/controls",
            "_view_module_version": "1.5.0",
            "_view_name": "HTMLView",
            "description": "",
            "description_tooltip": null,
            "layout": "IPY_MODEL_11cce0862d60411682e725ae44d9b9b3",
            "placeholder": "​",
            "style": "IPY_MODEL_93eadcf6eefb4de98fcdf199191dd72d",
            "value": "100%"
          }
        },
        "f242ca2506ac4775b7f267b60a0047e6": {
          "model_module": "@jupyter-widgets/controls",
          "model_name": "FloatProgressModel",
          "model_module_version": "1.5.0",
          "state": {
            "_dom_classes": [],
            "_model_module": "@jupyter-widgets/controls",
            "_model_module_version": "1.5.0",
            "_model_name": "FloatProgressModel",
            "_view_count": null,
            "_view_module": "@jupyter-widgets/controls",
            "_view_module_version": "1.5.0",
            "_view_name": "ProgressView",
            "bar_style": "success",
            "description": "",
            "description_tooltip": null,
            "layout": "IPY_MODEL_fab63c82101f4bd9bd6d946262c45e53",
            "max": 86744,
            "min": 0,
            "orientation": "horizontal",
            "style": "IPY_MODEL_49c43cdd3dc745d59c98ade84c956d10",
            "value": 86744
          }
        },
        "69f9850c51734a088bc4ed71a52e272a": {
          "model_module": "@jupyter-widgets/controls",
          "model_name": "HTMLModel",
          "model_module_version": "1.5.0",
          "state": {
            "_dom_classes": [],
            "_model_module": "@jupyter-widgets/controls",
            "_model_module_version": "1.5.0",
            "_model_name": "HTMLModel",
            "_view_count": null,
            "_view_module": "@jupyter-widgets/controls",
            "_view_module_version": "1.5.0",
            "_view_name": "HTMLView",
            "description": "",
            "description_tooltip": null,
            "layout": "IPY_MODEL_16996d47c3df456da51dfdd6bf3f498d",
            "placeholder": "​",
            "style": "IPY_MODEL_66c3850783ba4736a2525032a2ceeeab",
            "value": " 86744/86744 [00:00&lt;00:00, 854876.74it/s]"
          }
        },
        "2be5661e05714907a6e8fb5229eea0ed": {
          "model_module": "@jupyter-widgets/base",
          "model_name": "LayoutModel",
          "model_module_version": "1.2.0",
          "state": {
            "_model_module": "@jupyter-widgets/base",
            "_model_module_version": "1.2.0",
            "_model_name": "LayoutModel",
            "_view_count": null,
            "_view_module": "@jupyter-widgets/base",
            "_view_module_version": "1.2.0",
            "_view_name": "LayoutView",
            "align_content": null,
            "align_items": null,
            "align_self": null,
            "border": null,
            "bottom": null,
            "display": null,
            "flex": null,
            "flex_flow": null,
            "grid_area": null,
            "grid_auto_columns": null,
            "grid_auto_flow": null,
            "grid_auto_rows": null,
            "grid_column": null,
            "grid_gap": null,
            "grid_row": null,
            "grid_template_areas": null,
            "grid_template_columns": null,
            "grid_template_rows": null,
            "height": null,
            "justify_content": null,
            "justify_items": null,
            "left": null,
            "margin": null,
            "max_height": null,
            "max_width": null,
            "min_height": null,
            "min_width": null,
            "object_fit": null,
            "object_position": null,
            "order": null,
            "overflow": null,
            "overflow_x": null,
            "overflow_y": null,
            "padding": null,
            "right": null,
            "top": null,
            "visibility": null,
            "width": null
          }
        },
        "11cce0862d60411682e725ae44d9b9b3": {
          "model_module": "@jupyter-widgets/base",
          "model_name": "LayoutModel",
          "model_module_version": "1.2.0",
          "state": {
            "_model_module": "@jupyter-widgets/base",
            "_model_module_version": "1.2.0",
            "_model_name": "LayoutModel",
            "_view_count": null,
            "_view_module": "@jupyter-widgets/base",
            "_view_module_version": "1.2.0",
            "_view_name": "LayoutView",
            "align_content": null,
            "align_items": null,
            "align_self": null,
            "border": null,
            "bottom": null,
            "display": null,
            "flex": null,
            "flex_flow": null,
            "grid_area": null,
            "grid_auto_columns": null,
            "grid_auto_flow": null,
            "grid_auto_rows": null,
            "grid_column": null,
            "grid_gap": null,
            "grid_row": null,
            "grid_template_areas": null,
            "grid_template_columns": null,
            "grid_template_rows": null,
            "height": null,
            "justify_content": null,
            "justify_items": null,
            "left": null,
            "margin": null,
            "max_height": null,
            "max_width": null,
            "min_height": null,
            "min_width": null,
            "object_fit": null,
            "object_position": null,
            "order": null,
            "overflow": null,
            "overflow_x": null,
            "overflow_y": null,
            "padding": null,
            "right": null,
            "top": null,
            "visibility": null,
            "width": null
          }
        },
        "93eadcf6eefb4de98fcdf199191dd72d": {
          "model_module": "@jupyter-widgets/controls",
          "model_name": "DescriptionStyleModel",
          "model_module_version": "1.5.0",
          "state": {
            "_model_module": "@jupyter-widgets/controls",
            "_model_module_version": "1.5.0",
            "_model_name": "DescriptionStyleModel",
            "_view_count": null,
            "_view_module": "@jupyter-widgets/base",
            "_view_module_version": "1.2.0",
            "_view_name": "StyleView",
            "description_width": ""
          }
        },
        "fab63c82101f4bd9bd6d946262c45e53": {
          "model_module": "@jupyter-widgets/base",
          "model_name": "LayoutModel",
          "model_module_version": "1.2.0",
          "state": {
            "_model_module": "@jupyter-widgets/base",
            "_model_module_version": "1.2.0",
            "_model_name": "LayoutModel",
            "_view_count": null,
            "_view_module": "@jupyter-widgets/base",
            "_view_module_version": "1.2.0",
            "_view_name": "LayoutView",
            "align_content": null,
            "align_items": null,
            "align_self": null,
            "border": null,
            "bottom": null,
            "display": null,
            "flex": null,
            "flex_flow": null,
            "grid_area": null,
            "grid_auto_columns": null,
            "grid_auto_flow": null,
            "grid_auto_rows": null,
            "grid_column": null,
            "grid_gap": null,
            "grid_row": null,
            "grid_template_areas": null,
            "grid_template_columns": null,
            "grid_template_rows": null,
            "height": null,
            "justify_content": null,
            "justify_items": null,
            "left": null,
            "margin": null,
            "max_height": null,
            "max_width": null,
            "min_height": null,
            "min_width": null,
            "object_fit": null,
            "object_position": null,
            "order": null,
            "overflow": null,
            "overflow_x": null,
            "overflow_y": null,
            "padding": null,
            "right": null,
            "top": null,
            "visibility": null,
            "width": null
          }
        },
        "49c43cdd3dc745d59c98ade84c956d10": {
          "model_module": "@jupyter-widgets/controls",
          "model_name": "ProgressStyleModel",
          "model_module_version": "1.5.0",
          "state": {
            "_model_module": "@jupyter-widgets/controls",
            "_model_module_version": "1.5.0",
            "_model_name": "ProgressStyleModel",
            "_view_count": null,
            "_view_module": "@jupyter-widgets/base",
            "_view_module_version": "1.2.0",
            "_view_name": "StyleView",
            "bar_color": null,
            "description_width": ""
          }
        },
        "16996d47c3df456da51dfdd6bf3f498d": {
          "model_module": "@jupyter-widgets/base",
          "model_name": "LayoutModel",
          "model_module_version": "1.2.0",
          "state": {
            "_model_module": "@jupyter-widgets/base",
            "_model_module_version": "1.2.0",
            "_model_name": "LayoutModel",
            "_view_count": null,
            "_view_module": "@jupyter-widgets/base",
            "_view_module_version": "1.2.0",
            "_view_name": "LayoutView",
            "align_content": null,
            "align_items": null,
            "align_self": null,
            "border": null,
            "bottom": null,
            "display": null,
            "flex": null,
            "flex_flow": null,
            "grid_area": null,
            "grid_auto_columns": null,
            "grid_auto_flow": null,
            "grid_auto_rows": null,
            "grid_column": null,
            "grid_gap": null,
            "grid_row": null,
            "grid_template_areas": null,
            "grid_template_columns": null,
            "grid_template_rows": null,
            "height": null,
            "justify_content": null,
            "justify_items": null,
            "left": null,
            "margin": null,
            "max_height": null,
            "max_width": null,
            "min_height": null,
            "min_width": null,
            "object_fit": null,
            "object_position": null,
            "order": null,
            "overflow": null,
            "overflow_x": null,
            "overflow_y": null,
            "padding": null,
            "right": null,
            "top": null,
            "visibility": null,
            "width": null
          }
        },
        "66c3850783ba4736a2525032a2ceeeab": {
          "model_module": "@jupyter-widgets/controls",
          "model_name": "DescriptionStyleModel",
          "model_module_version": "1.5.0",
          "state": {
            "_model_module": "@jupyter-widgets/controls",
            "_model_module_version": "1.5.0",
            "_model_name": "DescriptionStyleModel",
            "_view_count": null,
            "_view_module": "@jupyter-widgets/base",
            "_view_module_version": "1.2.0",
            "_view_name": "StyleView",
            "description_width": ""
          }
        },
        "9a72e0e0085542faac3a8aa423f22714": {
          "model_module": "@jupyter-widgets/controls",
          "model_name": "HBoxModel",
          "model_module_version": "1.5.0",
          "state": {
            "_dom_classes": [],
            "_model_module": "@jupyter-widgets/controls",
            "_model_module_version": "1.5.0",
            "_model_name": "HBoxModel",
            "_view_count": null,
            "_view_module": "@jupyter-widgets/controls",
            "_view_module_version": "1.5.0",
            "_view_name": "HBoxView",
            "box_style": "",
            "children": [
              "IPY_MODEL_8d1a317155e345cea18ef47bcfa3e5d9",
              "IPY_MODEL_4815ab1c6b4a4c1d86ccb0251e2a9de8",
              "IPY_MODEL_737f07b3b49b4ac083067bf7a4ccfc5f"
            ],
            "layout": "IPY_MODEL_f62d1a6ccfd241fdad83a542a36127df"
          }
        },
        "8d1a317155e345cea18ef47bcfa3e5d9": {
          "model_module": "@jupyter-widgets/controls",
          "model_name": "HTMLModel",
          "model_module_version": "1.5.0",
          "state": {
            "_dom_classes": [],
            "_model_module": "@jupyter-widgets/controls",
            "_model_module_version": "1.5.0",
            "_model_name": "HTMLModel",
            "_view_count": null,
            "_view_module": "@jupyter-widgets/controls",
            "_view_module_version": "1.5.0",
            "_view_name": "HTMLView",
            "description": "",
            "description_tooltip": null,
            "layout": "IPY_MODEL_1a4e955c89ce42ac8e3700e2121d707a",
            "placeholder": "​",
            "style": "IPY_MODEL_91f8c40f59424047b4e14b604b454886",
            "value": "100%"
          }
        },
        "4815ab1c6b4a4c1d86ccb0251e2a9de8": {
          "model_module": "@jupyter-widgets/controls",
          "model_name": "FloatProgressModel",
          "model_module_version": "1.5.0",
          "state": {
            "_dom_classes": [],
            "_model_module": "@jupyter-widgets/controls",
            "_model_module_version": "1.5.0",
            "_model_name": "FloatProgressModel",
            "_view_count": null,
            "_view_module": "@jupyter-widgets/controls",
            "_view_module_version": "1.5.0",
            "_view_name": "ProgressView",
            "bar_style": "success",
            "description": "",
            "description_tooltip": null,
            "layout": "IPY_MODEL_735f932b9d0b4f71936631784c126fe8",
            "max": 10954,
            "min": 0,
            "orientation": "horizontal",
            "style": "IPY_MODEL_e52ac00b14e2437c82dbbd4795415a6f",
            "value": 10954
          }
        },
        "737f07b3b49b4ac083067bf7a4ccfc5f": {
          "model_module": "@jupyter-widgets/controls",
          "model_name": "HTMLModel",
          "model_module_version": "1.5.0",
          "state": {
            "_dom_classes": [],
            "_model_module": "@jupyter-widgets/controls",
            "_model_module_version": "1.5.0",
            "_model_name": "HTMLModel",
            "_view_count": null,
            "_view_module": "@jupyter-widgets/controls",
            "_view_module_version": "1.5.0",
            "_view_name": "HTMLView",
            "description": "",
            "description_tooltip": null,
            "layout": "IPY_MODEL_d978929c7b6b4e8eb122d20750e0e3aa",
            "placeholder": "​",
            "style": "IPY_MODEL_dc24ccc26ada4f11a4b7a6af9fe51e05",
            "value": " 10954/10954 [00:00&lt;00:00, 468959.24it/s]"
          }
        },
        "f62d1a6ccfd241fdad83a542a36127df": {
          "model_module": "@jupyter-widgets/base",
          "model_name": "LayoutModel",
          "model_module_version": "1.2.0",
          "state": {
            "_model_module": "@jupyter-widgets/base",
            "_model_module_version": "1.2.0",
            "_model_name": "LayoutModel",
            "_view_count": null,
            "_view_module": "@jupyter-widgets/base",
            "_view_module_version": "1.2.0",
            "_view_name": "LayoutView",
            "align_content": null,
            "align_items": null,
            "align_self": null,
            "border": null,
            "bottom": null,
            "display": null,
            "flex": null,
            "flex_flow": null,
            "grid_area": null,
            "grid_auto_columns": null,
            "grid_auto_flow": null,
            "grid_auto_rows": null,
            "grid_column": null,
            "grid_gap": null,
            "grid_row": null,
            "grid_template_areas": null,
            "grid_template_columns": null,
            "grid_template_rows": null,
            "height": null,
            "justify_content": null,
            "justify_items": null,
            "left": null,
            "margin": null,
            "max_height": null,
            "max_width": null,
            "min_height": null,
            "min_width": null,
            "object_fit": null,
            "object_position": null,
            "order": null,
            "overflow": null,
            "overflow_x": null,
            "overflow_y": null,
            "padding": null,
            "right": null,
            "top": null,
            "visibility": null,
            "width": null
          }
        },
        "1a4e955c89ce42ac8e3700e2121d707a": {
          "model_module": "@jupyter-widgets/base",
          "model_name": "LayoutModel",
          "model_module_version": "1.2.0",
          "state": {
            "_model_module": "@jupyter-widgets/base",
            "_model_module_version": "1.2.0",
            "_model_name": "LayoutModel",
            "_view_count": null,
            "_view_module": "@jupyter-widgets/base",
            "_view_module_version": "1.2.0",
            "_view_name": "LayoutView",
            "align_content": null,
            "align_items": null,
            "align_self": null,
            "border": null,
            "bottom": null,
            "display": null,
            "flex": null,
            "flex_flow": null,
            "grid_area": null,
            "grid_auto_columns": null,
            "grid_auto_flow": null,
            "grid_auto_rows": null,
            "grid_column": null,
            "grid_gap": null,
            "grid_row": null,
            "grid_template_areas": null,
            "grid_template_columns": null,
            "grid_template_rows": null,
            "height": null,
            "justify_content": null,
            "justify_items": null,
            "left": null,
            "margin": null,
            "max_height": null,
            "max_width": null,
            "min_height": null,
            "min_width": null,
            "object_fit": null,
            "object_position": null,
            "order": null,
            "overflow": null,
            "overflow_x": null,
            "overflow_y": null,
            "padding": null,
            "right": null,
            "top": null,
            "visibility": null,
            "width": null
          }
        },
        "91f8c40f59424047b4e14b604b454886": {
          "model_module": "@jupyter-widgets/controls",
          "model_name": "DescriptionStyleModel",
          "model_module_version": "1.5.0",
          "state": {
            "_model_module": "@jupyter-widgets/controls",
            "_model_module_version": "1.5.0",
            "_model_name": "DescriptionStyleModel",
            "_view_count": null,
            "_view_module": "@jupyter-widgets/base",
            "_view_module_version": "1.2.0",
            "_view_name": "StyleView",
            "description_width": ""
          }
        },
        "735f932b9d0b4f71936631784c126fe8": {
          "model_module": "@jupyter-widgets/base",
          "model_name": "LayoutModel",
          "model_module_version": "1.2.0",
          "state": {
            "_model_module": "@jupyter-widgets/base",
            "_model_module_version": "1.2.0",
            "_model_name": "LayoutModel",
            "_view_count": null,
            "_view_module": "@jupyter-widgets/base",
            "_view_module_version": "1.2.0",
            "_view_name": "LayoutView",
            "align_content": null,
            "align_items": null,
            "align_self": null,
            "border": null,
            "bottom": null,
            "display": null,
            "flex": null,
            "flex_flow": null,
            "grid_area": null,
            "grid_auto_columns": null,
            "grid_auto_flow": null,
            "grid_auto_rows": null,
            "grid_column": null,
            "grid_gap": null,
            "grid_row": null,
            "grid_template_areas": null,
            "grid_template_columns": null,
            "grid_template_rows": null,
            "height": null,
            "justify_content": null,
            "justify_items": null,
            "left": null,
            "margin": null,
            "max_height": null,
            "max_width": null,
            "min_height": null,
            "min_width": null,
            "object_fit": null,
            "object_position": null,
            "order": null,
            "overflow": null,
            "overflow_x": null,
            "overflow_y": null,
            "padding": null,
            "right": null,
            "top": null,
            "visibility": null,
            "width": null
          }
        },
        "e52ac00b14e2437c82dbbd4795415a6f": {
          "model_module": "@jupyter-widgets/controls",
          "model_name": "ProgressStyleModel",
          "model_module_version": "1.5.0",
          "state": {
            "_model_module": "@jupyter-widgets/controls",
            "_model_module_version": "1.5.0",
            "_model_name": "ProgressStyleModel",
            "_view_count": null,
            "_view_module": "@jupyter-widgets/base",
            "_view_module_version": "1.2.0",
            "_view_name": "StyleView",
            "bar_color": null,
            "description_width": ""
          }
        },
        "d978929c7b6b4e8eb122d20750e0e3aa": {
          "model_module": "@jupyter-widgets/base",
          "model_name": "LayoutModel",
          "model_module_version": "1.2.0",
          "state": {
            "_model_module": "@jupyter-widgets/base",
            "_model_module_version": "1.2.0",
            "_model_name": "LayoutModel",
            "_view_count": null,
            "_view_module": "@jupyter-widgets/base",
            "_view_module_version": "1.2.0",
            "_view_name": "LayoutView",
            "align_content": null,
            "align_items": null,
            "align_self": null,
            "border": null,
            "bottom": null,
            "display": null,
            "flex": null,
            "flex_flow": null,
            "grid_area": null,
            "grid_auto_columns": null,
            "grid_auto_flow": null,
            "grid_auto_rows": null,
            "grid_column": null,
            "grid_gap": null,
            "grid_row": null,
            "grid_template_areas": null,
            "grid_template_columns": null,
            "grid_template_rows": null,
            "height": null,
            "justify_content": null,
            "justify_items": null,
            "left": null,
            "margin": null,
            "max_height": null,
            "max_width": null,
            "min_height": null,
            "min_width": null,
            "object_fit": null,
            "object_position": null,
            "order": null,
            "overflow": null,
            "overflow_x": null,
            "overflow_y": null,
            "padding": null,
            "right": null,
            "top": null,
            "visibility": null,
            "width": null
          }
        },
        "dc24ccc26ada4f11a4b7a6af9fe51e05": {
          "model_module": "@jupyter-widgets/controls",
          "model_name": "DescriptionStyleModel",
          "model_module_version": "1.5.0",
          "state": {
            "_model_module": "@jupyter-widgets/controls",
            "_model_module_version": "1.5.0",
            "_model_name": "DescriptionStyleModel",
            "_view_count": null,
            "_view_module": "@jupyter-widgets/base",
            "_view_module_version": "1.2.0",
            "_view_name": "StyleView",
            "description_width": ""
          }
        },
        "a996c67995784cbf91bc690c2438a8f7": {
          "model_module": "@jupyter-widgets/controls",
          "model_name": "HBoxModel",
          "model_module_version": "1.5.0",
          "state": {
            "_dom_classes": [],
            "_model_module": "@jupyter-widgets/controls",
            "_model_module_version": "1.5.0",
            "_model_name": "HBoxModel",
            "_view_count": null,
            "_view_module": "@jupyter-widgets/controls",
            "_view_module_version": "1.5.0",
            "_view_name": "HBoxView",
            "box_style": "",
            "children": [
              "IPY_MODEL_58e171fa16714f958db6c14133a2242e",
              "IPY_MODEL_7c8b978d70eb433a9a9397a9c3704bd6",
              "IPY_MODEL_bd5a587817914ec1a6029bdac79b3900"
            ],
            "layout": "IPY_MODEL_6c2f7ff58a3545e8b57489d96801abd8"
          }
        },
        "58e171fa16714f958db6c14133a2242e": {
          "model_module": "@jupyter-widgets/controls",
          "model_name": "HTMLModel",
          "model_module_version": "1.5.0",
          "state": {
            "_dom_classes": [],
            "_model_module": "@jupyter-widgets/controls",
            "_model_module_version": "1.5.0",
            "_model_name": "HTMLModel",
            "_view_count": null,
            "_view_module": "@jupyter-widgets/controls",
            "_view_module_version": "1.5.0",
            "_view_name": "HTMLView",
            "description": "",
            "description_tooltip": null,
            "layout": "IPY_MODEL_5f67bada07954d6b88944e798d4ecdf8",
            "placeholder": "​",
            "style": "IPY_MODEL_92f447b8ab6f4e69b72b6d865e85178e",
            "value": "100%"
          }
        },
        "7c8b978d70eb433a9a9397a9c3704bd6": {
          "model_module": "@jupyter-widgets/controls",
          "model_name": "FloatProgressModel",
          "model_module_version": "1.5.0",
          "state": {
            "_dom_classes": [],
            "_model_module": "@jupyter-widgets/controls",
            "_model_module_version": "1.5.0",
            "_model_name": "FloatProgressModel",
            "_view_count": null,
            "_view_module": "@jupyter-widgets/controls",
            "_view_module_version": "1.5.0",
            "_view_name": "ProgressView",
            "bar_style": "success",
            "description": "",
            "description_tooltip": null,
            "layout": "IPY_MODEL_f7df861121b7443ebd5dc74d3bf2156a",
            "max": 10954,
            "min": 0,
            "orientation": "horizontal",
            "style": "IPY_MODEL_bc4f583bb4e94c4a9f24f6117a8765a5",
            "value": 10954
          }
        },
        "bd5a587817914ec1a6029bdac79b3900": {
          "model_module": "@jupyter-widgets/controls",
          "model_name": "HTMLModel",
          "model_module_version": "1.5.0",
          "state": {
            "_dom_classes": [],
            "_model_module": "@jupyter-widgets/controls",
            "_model_module_version": "1.5.0",
            "_model_name": "HTMLModel",
            "_view_count": null,
            "_view_module": "@jupyter-widgets/controls",
            "_view_module_version": "1.5.0",
            "_view_name": "HTMLView",
            "description": "",
            "description_tooltip": null,
            "layout": "IPY_MODEL_01d231957e814791b5e6ec942a1c57e0",
            "placeholder": "​",
            "style": "IPY_MODEL_fe82c2e0840a4b2ca77d610154b611bb",
            "value": " 10954/10954 [00:00&lt;00:00, 473477.95it/s]"
          }
        },
        "6c2f7ff58a3545e8b57489d96801abd8": {
          "model_module": "@jupyter-widgets/base",
          "model_name": "LayoutModel",
          "model_module_version": "1.2.0",
          "state": {
            "_model_module": "@jupyter-widgets/base",
            "_model_module_version": "1.2.0",
            "_model_name": "LayoutModel",
            "_view_count": null,
            "_view_module": "@jupyter-widgets/base",
            "_view_module_version": "1.2.0",
            "_view_name": "LayoutView",
            "align_content": null,
            "align_items": null,
            "align_self": null,
            "border": null,
            "bottom": null,
            "display": null,
            "flex": null,
            "flex_flow": null,
            "grid_area": null,
            "grid_auto_columns": null,
            "grid_auto_flow": null,
            "grid_auto_rows": null,
            "grid_column": null,
            "grid_gap": null,
            "grid_row": null,
            "grid_template_areas": null,
            "grid_template_columns": null,
            "grid_template_rows": null,
            "height": null,
            "justify_content": null,
            "justify_items": null,
            "left": null,
            "margin": null,
            "max_height": null,
            "max_width": null,
            "min_height": null,
            "min_width": null,
            "object_fit": null,
            "object_position": null,
            "order": null,
            "overflow": null,
            "overflow_x": null,
            "overflow_y": null,
            "padding": null,
            "right": null,
            "top": null,
            "visibility": null,
            "width": null
          }
        },
        "5f67bada07954d6b88944e798d4ecdf8": {
          "model_module": "@jupyter-widgets/base",
          "model_name": "LayoutModel",
          "model_module_version": "1.2.0",
          "state": {
            "_model_module": "@jupyter-widgets/base",
            "_model_module_version": "1.2.0",
            "_model_name": "LayoutModel",
            "_view_count": null,
            "_view_module": "@jupyter-widgets/base",
            "_view_module_version": "1.2.0",
            "_view_name": "LayoutView",
            "align_content": null,
            "align_items": null,
            "align_self": null,
            "border": null,
            "bottom": null,
            "display": null,
            "flex": null,
            "flex_flow": null,
            "grid_area": null,
            "grid_auto_columns": null,
            "grid_auto_flow": null,
            "grid_auto_rows": null,
            "grid_column": null,
            "grid_gap": null,
            "grid_row": null,
            "grid_template_areas": null,
            "grid_template_columns": null,
            "grid_template_rows": null,
            "height": null,
            "justify_content": null,
            "justify_items": null,
            "left": null,
            "margin": null,
            "max_height": null,
            "max_width": null,
            "min_height": null,
            "min_width": null,
            "object_fit": null,
            "object_position": null,
            "order": null,
            "overflow": null,
            "overflow_x": null,
            "overflow_y": null,
            "padding": null,
            "right": null,
            "top": null,
            "visibility": null,
            "width": null
          }
        },
        "92f447b8ab6f4e69b72b6d865e85178e": {
          "model_module": "@jupyter-widgets/controls",
          "model_name": "DescriptionStyleModel",
          "model_module_version": "1.5.0",
          "state": {
            "_model_module": "@jupyter-widgets/controls",
            "_model_module_version": "1.5.0",
            "_model_name": "DescriptionStyleModel",
            "_view_count": null,
            "_view_module": "@jupyter-widgets/base",
            "_view_module_version": "1.2.0",
            "_view_name": "StyleView",
            "description_width": ""
          }
        },
        "f7df861121b7443ebd5dc74d3bf2156a": {
          "model_module": "@jupyter-widgets/base",
          "model_name": "LayoutModel",
          "model_module_version": "1.2.0",
          "state": {
            "_model_module": "@jupyter-widgets/base",
            "_model_module_version": "1.2.0",
            "_model_name": "LayoutModel",
            "_view_count": null,
            "_view_module": "@jupyter-widgets/base",
            "_view_module_version": "1.2.0",
            "_view_name": "LayoutView",
            "align_content": null,
            "align_items": null,
            "align_self": null,
            "border": null,
            "bottom": null,
            "display": null,
            "flex": null,
            "flex_flow": null,
            "grid_area": null,
            "grid_auto_columns": null,
            "grid_auto_flow": null,
            "grid_auto_rows": null,
            "grid_column": null,
            "grid_gap": null,
            "grid_row": null,
            "grid_template_areas": null,
            "grid_template_columns": null,
            "grid_template_rows": null,
            "height": null,
            "justify_content": null,
            "justify_items": null,
            "left": null,
            "margin": null,
            "max_height": null,
            "max_width": null,
            "min_height": null,
            "min_width": null,
            "object_fit": null,
            "object_position": null,
            "order": null,
            "overflow": null,
            "overflow_x": null,
            "overflow_y": null,
            "padding": null,
            "right": null,
            "top": null,
            "visibility": null,
            "width": null
          }
        },
        "bc4f583bb4e94c4a9f24f6117a8765a5": {
          "model_module": "@jupyter-widgets/controls",
          "model_name": "ProgressStyleModel",
          "model_module_version": "1.5.0",
          "state": {
            "_model_module": "@jupyter-widgets/controls",
            "_model_module_version": "1.5.0",
            "_model_name": "ProgressStyleModel",
            "_view_count": null,
            "_view_module": "@jupyter-widgets/base",
            "_view_module_version": "1.2.0",
            "_view_name": "StyleView",
            "bar_color": null,
            "description_width": ""
          }
        },
        "01d231957e814791b5e6ec942a1c57e0": {
          "model_module": "@jupyter-widgets/base",
          "model_name": "LayoutModel",
          "model_module_version": "1.2.0",
          "state": {
            "_model_module": "@jupyter-widgets/base",
            "_model_module_version": "1.2.0",
            "_model_name": "LayoutModel",
            "_view_count": null,
            "_view_module": "@jupyter-widgets/base",
            "_view_module_version": "1.2.0",
            "_view_name": "LayoutView",
            "align_content": null,
            "align_items": null,
            "align_self": null,
            "border": null,
            "bottom": null,
            "display": null,
            "flex": null,
            "flex_flow": null,
            "grid_area": null,
            "grid_auto_columns": null,
            "grid_auto_flow": null,
            "grid_auto_rows": null,
            "grid_column": null,
            "grid_gap": null,
            "grid_row": null,
            "grid_template_areas": null,
            "grid_template_columns": null,
            "grid_template_rows": null,
            "height": null,
            "justify_content": null,
            "justify_items": null,
            "left": null,
            "margin": null,
            "max_height": null,
            "max_width": null,
            "min_height": null,
            "min_width": null,
            "object_fit": null,
            "object_position": null,
            "order": null,
            "overflow": null,
            "overflow_x": null,
            "overflow_y": null,
            "padding": null,
            "right": null,
            "top": null,
            "visibility": null,
            "width": null
          }
        },
        "fe82c2e0840a4b2ca77d610154b611bb": {
          "model_module": "@jupyter-widgets/controls",
          "model_name": "DescriptionStyleModel",
          "model_module_version": "1.5.0",
          "state": {
            "_model_module": "@jupyter-widgets/controls",
            "_model_module_version": "1.5.0",
            "_model_name": "DescriptionStyleModel",
            "_view_count": null,
            "_view_module": "@jupyter-widgets/base",
            "_view_module_version": "1.2.0",
            "_view_name": "StyleView",
            "description_width": ""
          }
        },
        "41b52cdb938f447aab3d6c18adc368fe": {
          "model_module": "@jupyter-widgets/controls",
          "model_name": "HBoxModel",
          "model_module_version": "1.5.0",
          "state": {
            "_dom_classes": [],
            "_model_module": "@jupyter-widgets/controls",
            "_model_module_version": "1.5.0",
            "_model_name": "HBoxModel",
            "_view_count": null,
            "_view_module": "@jupyter-widgets/controls",
            "_view_module_version": "1.5.0",
            "_view_name": "HBoxView",
            "box_style": "",
            "children": [
              "IPY_MODEL_4c7ca9880c7547bba051c60a59c72f1a",
              "IPY_MODEL_440aa7a2b3e94eb8bebb44cdd996e27b",
              "IPY_MODEL_5eb519f71e454162b6dc6f25c3759ad2"
            ],
            "layout": "IPY_MODEL_eebaeeedeb7c40f3b9d5bc4b1646d09f"
          }
        },
        "4c7ca9880c7547bba051c60a59c72f1a": {
          "model_module": "@jupyter-widgets/controls",
          "model_name": "HTMLModel",
          "model_module_version": "1.5.0",
          "state": {
            "_dom_classes": [],
            "_model_module": "@jupyter-widgets/controls",
            "_model_module_version": "1.5.0",
            "_model_name": "HTMLModel",
            "_view_count": null,
            "_view_module": "@jupyter-widgets/controls",
            "_view_module_version": "1.5.0",
            "_view_name": "HTMLView",
            "description": "",
            "description_tooltip": null,
            "layout": "IPY_MODEL_e7cf622bc2444dff86299143ced11891",
            "placeholder": "​",
            "style": "IPY_MODEL_8a6fb24deb19454aa130664397d96ef5",
            "value": "100%"
          }
        },
        "440aa7a2b3e94eb8bebb44cdd996e27b": {
          "model_module": "@jupyter-widgets/controls",
          "model_name": "FloatProgressModel",
          "model_module_version": "1.5.0",
          "state": {
            "_dom_classes": [],
            "_model_module": "@jupyter-widgets/controls",
            "_model_module_version": "1.5.0",
            "_model_name": "FloatProgressModel",
            "_view_count": null,
            "_view_module": "@jupyter-widgets/controls",
            "_view_module_version": "1.5.0",
            "_view_name": "ProgressView",
            "bar_style": "success",
            "description": "",
            "description_tooltip": null,
            "layout": "IPY_MODEL_3e37b8ccb9114730bc114c55fdc1293c",
            "max": 10954,
            "min": 0,
            "orientation": "horizontal",
            "style": "IPY_MODEL_7f789c1a1077439cb94deb96bb659e91",
            "value": 10954
          }
        },
        "5eb519f71e454162b6dc6f25c3759ad2": {
          "model_module": "@jupyter-widgets/controls",
          "model_name": "HTMLModel",
          "model_module_version": "1.5.0",
          "state": {
            "_dom_classes": [],
            "_model_module": "@jupyter-widgets/controls",
            "_model_module_version": "1.5.0",
            "_model_name": "HTMLModel",
            "_view_count": null,
            "_view_module": "@jupyter-widgets/controls",
            "_view_module_version": "1.5.0",
            "_view_name": "HTMLView",
            "description": "",
            "description_tooltip": null,
            "layout": "IPY_MODEL_419fee0ee47f4daf90e3744c108c3cc5",
            "placeholder": "​",
            "style": "IPY_MODEL_b188247535ec478f841a80bc601f6dfa",
            "value": " 10954/10954 [00:00&lt;00:00, 462198.76it/s]"
          }
        },
        "eebaeeedeb7c40f3b9d5bc4b1646d09f": {
          "model_module": "@jupyter-widgets/base",
          "model_name": "LayoutModel",
          "model_module_version": "1.2.0",
          "state": {
            "_model_module": "@jupyter-widgets/base",
            "_model_module_version": "1.2.0",
            "_model_name": "LayoutModel",
            "_view_count": null,
            "_view_module": "@jupyter-widgets/base",
            "_view_module_version": "1.2.0",
            "_view_name": "LayoutView",
            "align_content": null,
            "align_items": null,
            "align_self": null,
            "border": null,
            "bottom": null,
            "display": null,
            "flex": null,
            "flex_flow": null,
            "grid_area": null,
            "grid_auto_columns": null,
            "grid_auto_flow": null,
            "grid_auto_rows": null,
            "grid_column": null,
            "grid_gap": null,
            "grid_row": null,
            "grid_template_areas": null,
            "grid_template_columns": null,
            "grid_template_rows": null,
            "height": null,
            "justify_content": null,
            "justify_items": null,
            "left": null,
            "margin": null,
            "max_height": null,
            "max_width": null,
            "min_height": null,
            "min_width": null,
            "object_fit": null,
            "object_position": null,
            "order": null,
            "overflow": null,
            "overflow_x": null,
            "overflow_y": null,
            "padding": null,
            "right": null,
            "top": null,
            "visibility": null,
            "width": null
          }
        },
        "e7cf622bc2444dff86299143ced11891": {
          "model_module": "@jupyter-widgets/base",
          "model_name": "LayoutModel",
          "model_module_version": "1.2.0",
          "state": {
            "_model_module": "@jupyter-widgets/base",
            "_model_module_version": "1.2.0",
            "_model_name": "LayoutModel",
            "_view_count": null,
            "_view_module": "@jupyter-widgets/base",
            "_view_module_version": "1.2.0",
            "_view_name": "LayoutView",
            "align_content": null,
            "align_items": null,
            "align_self": null,
            "border": null,
            "bottom": null,
            "display": null,
            "flex": null,
            "flex_flow": null,
            "grid_area": null,
            "grid_auto_columns": null,
            "grid_auto_flow": null,
            "grid_auto_rows": null,
            "grid_column": null,
            "grid_gap": null,
            "grid_row": null,
            "grid_template_areas": null,
            "grid_template_columns": null,
            "grid_template_rows": null,
            "height": null,
            "justify_content": null,
            "justify_items": null,
            "left": null,
            "margin": null,
            "max_height": null,
            "max_width": null,
            "min_height": null,
            "min_width": null,
            "object_fit": null,
            "object_position": null,
            "order": null,
            "overflow": null,
            "overflow_x": null,
            "overflow_y": null,
            "padding": null,
            "right": null,
            "top": null,
            "visibility": null,
            "width": null
          }
        },
        "8a6fb24deb19454aa130664397d96ef5": {
          "model_module": "@jupyter-widgets/controls",
          "model_name": "DescriptionStyleModel",
          "model_module_version": "1.5.0",
          "state": {
            "_model_module": "@jupyter-widgets/controls",
            "_model_module_version": "1.5.0",
            "_model_name": "DescriptionStyleModel",
            "_view_count": null,
            "_view_module": "@jupyter-widgets/base",
            "_view_module_version": "1.2.0",
            "_view_name": "StyleView",
            "description_width": ""
          }
        },
        "3e37b8ccb9114730bc114c55fdc1293c": {
          "model_module": "@jupyter-widgets/base",
          "model_name": "LayoutModel",
          "model_module_version": "1.2.0",
          "state": {
            "_model_module": "@jupyter-widgets/base",
            "_model_module_version": "1.2.0",
            "_model_name": "LayoutModel",
            "_view_count": null,
            "_view_module": "@jupyter-widgets/base",
            "_view_module_version": "1.2.0",
            "_view_name": "LayoutView",
            "align_content": null,
            "align_items": null,
            "align_self": null,
            "border": null,
            "bottom": null,
            "display": null,
            "flex": null,
            "flex_flow": null,
            "grid_area": null,
            "grid_auto_columns": null,
            "grid_auto_flow": null,
            "grid_auto_rows": null,
            "grid_column": null,
            "grid_gap": null,
            "grid_row": null,
            "grid_template_areas": null,
            "grid_template_columns": null,
            "grid_template_rows": null,
            "height": null,
            "justify_content": null,
            "justify_items": null,
            "left": null,
            "margin": null,
            "max_height": null,
            "max_width": null,
            "min_height": null,
            "min_width": null,
            "object_fit": null,
            "object_position": null,
            "order": null,
            "overflow": null,
            "overflow_x": null,
            "overflow_y": null,
            "padding": null,
            "right": null,
            "top": null,
            "visibility": null,
            "width": null
          }
        },
        "7f789c1a1077439cb94deb96bb659e91": {
          "model_module": "@jupyter-widgets/controls",
          "model_name": "ProgressStyleModel",
          "model_module_version": "1.5.0",
          "state": {
            "_model_module": "@jupyter-widgets/controls",
            "_model_module_version": "1.5.0",
            "_model_name": "ProgressStyleModel",
            "_view_count": null,
            "_view_module": "@jupyter-widgets/base",
            "_view_module_version": "1.2.0",
            "_view_name": "StyleView",
            "bar_color": null,
            "description_width": ""
          }
        },
        "419fee0ee47f4daf90e3744c108c3cc5": {
          "model_module": "@jupyter-widgets/base",
          "model_name": "LayoutModel",
          "model_module_version": "1.2.0",
          "state": {
            "_model_module": "@jupyter-widgets/base",
            "_model_module_version": "1.2.0",
            "_model_name": "LayoutModel",
            "_view_count": null,
            "_view_module": "@jupyter-widgets/base",
            "_view_module_version": "1.2.0",
            "_view_name": "LayoutView",
            "align_content": null,
            "align_items": null,
            "align_self": null,
            "border": null,
            "bottom": null,
            "display": null,
            "flex": null,
            "flex_flow": null,
            "grid_area": null,
            "grid_auto_columns": null,
            "grid_auto_flow": null,
            "grid_auto_rows": null,
            "grid_column": null,
            "grid_gap": null,
            "grid_row": null,
            "grid_template_areas": null,
            "grid_template_columns": null,
            "grid_template_rows": null,
            "height": null,
            "justify_content": null,
            "justify_items": null,
            "left": null,
            "margin": null,
            "max_height": null,
            "max_width": null,
            "min_height": null,
            "min_width": null,
            "object_fit": null,
            "object_position": null,
            "order": null,
            "overflow": null,
            "overflow_x": null,
            "overflow_y": null,
            "padding": null,
            "right": null,
            "top": null,
            "visibility": null,
            "width": null
          }
        },
        "b188247535ec478f841a80bc601f6dfa": {
          "model_module": "@jupyter-widgets/controls",
          "model_name": "DescriptionStyleModel",
          "model_module_version": "1.5.0",
          "state": {
            "_model_module": "@jupyter-widgets/controls",
            "_model_module_version": "1.5.0",
            "_model_name": "DescriptionStyleModel",
            "_view_count": null,
            "_view_module": "@jupyter-widgets/base",
            "_view_module_version": "1.2.0",
            "_view_name": "StyleView",
            "description_width": ""
          }
        }
      }
    }
  },
  "cells": [
    {
      "cell_type": "markdown",
      "metadata": {
        "id": "view-in-github",
        "colab_type": "text"
      },
      "source": [
        "<a href=\"https://colab.research.google.com/github/mortgad/DLVR/blob/main/Test_2_agegroups.ipynb\" target=\"_parent\"><img src=\"https://colab.research.google.com/assets/colab-badge.svg\" alt=\"Open In Colab\"/></a>"
      ]
    },
    {
      "cell_type": "markdown",
      "source": [
        "# Get Data\n"
      ],
      "metadata": {
        "id": "RtzxA-VTIAck"
      }
    },
    {
      "cell_type": "code",
      "execution_count": 1,
      "metadata": {
        "colab": {
          "base_uri": "https://localhost:8080/"
        },
        "id": "ovCde6iLF52Z",
        "outputId": "7807cc52-0520-409a-d88c-a8b0effca85d"
      },
      "outputs": [
        {
          "output_type": "stream",
          "name": "stdout",
          "text": [
            "Mounted at /content/drive\n"
          ]
        }
      ],
      "source": [
        "from google.colab import drive\n",
        "drive.mount('/content/drive')"
      ]
    },
    {
      "cell_type": "code",
      "source": [
        "# save_model_path = '/content/drive/MyDrive/DL for VR/Project/Models' # Thomas\n",
        "#save_model_path = '/content/drive/MyDrive/Deep_Learning_Visual_Recognition/Project/' # Morten\n",
        "save_model_path = '/content/drive/MyDrive/Visual reg/Project/' # Mads"
      ],
      "metadata": {
        "id": "xL2prsdGH1nN"
      },
      "execution_count": 3,
      "outputs": []
    },
    {
      "cell_type": "code",
      "source": [
        "!pip install PyDrive\n",
        "from pydrive.auth import GoogleAuth\n",
        "from pydrive.drive import GoogleDriveFile\n",
        "import os\n",
        "import numpy as np\n",
        "import pandas as pd\n",
        "from pydrive.auth import GoogleAuth\n",
        "from pydrive.drive import GoogleDrive\n",
        "from google.colab import auth\n",
        "from oauth2client.client import GoogleCredentials\n",
        "from pathlib import Path\n",
        "from tqdm.notebook import tqdm\n",
        "from PIL import Image\n",
        "import numpy as np\n",
        "import cv2\n",
        "import matplotlib.pyplot as plt\n",
        "import seaborn as sns\n",
        "from google.colab import drive\n",
        "from sklearn.model_selection import train_test_split\n",
        "from keras.applications import mobilenet_v3\n",
        "import keras\n",
        "from keras import layers, models\n",
        "\n",
        "def create_lists(df):\n",
        "  import numpy as np\n",
        "  import pandas as pd\n",
        "  from PIL import Image\n",
        "  # Initialize lists to store images and labels\n",
        "  images = []\n",
        "  ages = []\n",
        "  races = []\n",
        "  genders = []\n",
        "\n",
        "  # Iterate over each row in the DataFrame\n",
        "  for _, row in df.iterrows():  # Iterate over each row in the sampled dataframe\n",
        "    img_path = row['file']           # Extract the file path\n",
        "    age_code = row['age_code']       # Extract the age code\n",
        "    race_code = row['race_code']     # Extract the race code\n",
        "    gender_code = row['gender_code'] # Extract the gender code\n",
        "\n",
        "    try:\n",
        "        # Open the image\n",
        "        img = Image.open(img_path)\n",
        "\n",
        "        # Convert the image to RGB (if it's grayscale or RGBA)\n",
        "        img = img.convert(\"RGB\")\n",
        "\n",
        "        # Resize the image to the target size (224, 224)\n",
        "        img = img.resize((224, 224))\n",
        "\n",
        "        # Convert the resized image to a numpy array\n",
        "        img_array = np.array(img)\n",
        "\n",
        "        # Ensure the image has the correct shape (224, 224, 3)\n",
        "        if img_array.shape == (224, 224, 3):\n",
        "            images.append(img_array)  # Append the image to the list\n",
        "            ages.append(age_code)  # Append the age code to the 'ages' list\n",
        "            races.append(race_code)\n",
        "            genders.append(gender_code)\n",
        "\n",
        "        else:\n",
        "            print(f\"Skipping image with incorrect shape: {img_path}\")\n",
        "    except Exception as e:\n",
        "        print(f\"Error loading image {img_path}: {e}\")\n",
        "\n",
        "  # Convert lists to numpy arrays\n",
        "  images = np.array(images)\n",
        "  ages = np.array(ages)\n",
        "  races = np.array(races)\n",
        "  genders = np.array(genders)\n",
        "\n",
        "  return images, ages, races, genders\n",
        "\n",
        "def split_data(images, ages, races, genders):\n",
        "  from sklearn.model_selection import train_test_split\n",
        "  # Reduce sample size\n",
        "  images_sample, hep_x, ages_sample, hep_y, races_sample, hep_z, genders_sample, hep_w = train_test_split(\n",
        "      images, ages, races, genders, test_size=0.50, random_state=42, stratify=ages)\n",
        "\n",
        "  # Split into train (75%) and temp (25%)\n",
        "  X_train, X_temp, y_train_age, y_temp_age, y_train_races, y_temp_races, y_train_gender, y_temp_gender = train_test_split(\n",
        "      images_sample, ages_sample, races_sample, genders_sample, test_size=0.25, random_state=42, stratify=ages_sample)\n",
        "\n",
        "  # Split temp into validation (80% of temp) and test (20% of test)\n",
        "  X_val, X_test, y_val_age, y_test_age, y_val_races, y_test_races, y_val_gender, y_test_gender = train_test_split(\n",
        "      X_temp, y_temp_age, y_temp_races, y_temp_gender, test_size=0.20, random_state=42, stratify=y_temp_age)\n",
        "\n",
        "  # Print output\n",
        "  print(f\"Training set: {X_train.shape}, Training labels: {y_train_age.shape}\")\n",
        "  print(f\"Age validation set: {X_val.shape}, Age validation labels: {y_val_age.shape}\")\n",
        "  print(f\"Age test set: {X_test.shape}, Age test labels: {y_test_age.shape}\")\n",
        "  print(f\"Race validation labels: {y_val_races.shape}\")\n",
        "  print(f\"Race test labels: {y_test_races.shape}\")\n",
        "  print(f\"Gender validation labels: {y_val_gender.shape}\")\n",
        "  print(f\"Gender test labels: {y_test_gender.shape}\")\n",
        "\n",
        "  return X_train, X_val, X_test, y_train_age, y_val_age, y_test_age, y_train_races, y_val_races, y_test_races, y_train_gender, y_val_gender, y_test_gender"
      ],
      "metadata": {
        "colab": {
          "base_uri": "https://localhost:8080/"
        },
        "id": "GVvKxekOH7C0",
        "outputId": "4b807a85-5f70-45e6-e717-1802949137f3"
      },
      "execution_count": 50,
      "outputs": [
        {
          "output_type": "stream",
          "name": "stdout",
          "text": [
            "Requirement already satisfied: PyDrive in /usr/local/lib/python3.10/dist-packages (1.3.1)\n",
            "Requirement already satisfied: google-api-python-client>=1.2 in /usr/local/lib/python3.10/dist-packages (from PyDrive) (2.149.0)\n",
            "Requirement already satisfied: oauth2client>=4.0.0 in /usr/local/lib/python3.10/dist-packages (from PyDrive) (4.1.3)\n",
            "Requirement already satisfied: PyYAML>=3.0 in /usr/local/lib/python3.10/dist-packages (from PyDrive) (6.0.2)\n",
            "Requirement already satisfied: httplib2<1.dev0,>=0.19.0 in /usr/lib/python3/dist-packages (from google-api-python-client>=1.2->PyDrive) (0.20.2)\n",
            "Requirement already satisfied: google-auth!=2.24.0,!=2.25.0,<3.0.0.dev0,>=1.32.0 in /usr/local/lib/python3.10/dist-packages (from google-api-python-client>=1.2->PyDrive) (2.27.0)\n",
            "Requirement already satisfied: google-auth-httplib2<1.0.0,>=0.2.0 in /usr/local/lib/python3.10/dist-packages (from google-api-python-client>=1.2->PyDrive) (0.2.0)\n",
            "Requirement already satisfied: google-api-core!=2.0.*,!=2.1.*,!=2.2.*,!=2.3.0,<3.0.0.dev0,>=1.31.5 in /usr/local/lib/python3.10/dist-packages (from google-api-python-client>=1.2->PyDrive) (2.21.0)\n",
            "Requirement already satisfied: uritemplate<5,>=3.0.1 in /usr/local/lib/python3.10/dist-packages (from google-api-python-client>=1.2->PyDrive) (4.1.1)\n",
            "Requirement already satisfied: pyasn1>=0.1.7 in /usr/local/lib/python3.10/dist-packages (from oauth2client>=4.0.0->PyDrive) (0.6.1)\n",
            "Requirement already satisfied: pyasn1-modules>=0.0.5 in /usr/local/lib/python3.10/dist-packages (from oauth2client>=4.0.0->PyDrive) (0.4.1)\n",
            "Requirement already satisfied: rsa>=3.1.4 in /usr/local/lib/python3.10/dist-packages (from oauth2client>=4.0.0->PyDrive) (4.9)\n",
            "Requirement already satisfied: six>=1.6.1 in /usr/local/lib/python3.10/dist-packages (from oauth2client>=4.0.0->PyDrive) (1.16.0)\n",
            "Requirement already satisfied: googleapis-common-protos<2.0.dev0,>=1.56.2 in /usr/local/lib/python3.10/dist-packages (from google-api-core!=2.0.*,!=2.1.*,!=2.2.*,!=2.3.0,<3.0.0.dev0,>=1.31.5->google-api-python-client>=1.2->PyDrive) (1.65.0)\n",
            "Requirement already satisfied: protobuf!=3.20.0,!=3.20.1,!=4.21.0,!=4.21.1,!=4.21.2,!=4.21.3,!=4.21.4,!=4.21.5,<6.0.0.dev0,>=3.19.5 in /usr/local/lib/python3.10/dist-packages (from google-api-core!=2.0.*,!=2.1.*,!=2.2.*,!=2.3.0,<3.0.0.dev0,>=1.31.5->google-api-python-client>=1.2->PyDrive) (4.25.5)\n",
            "Requirement already satisfied: proto-plus<2.0.0dev,>=1.22.3 in /usr/local/lib/python3.10/dist-packages (from google-api-core!=2.0.*,!=2.1.*,!=2.2.*,!=2.3.0,<3.0.0.dev0,>=1.31.5->google-api-python-client>=1.2->PyDrive) (1.24.0)\n",
            "Requirement already satisfied: requests<3.0.0.dev0,>=2.18.0 in /usr/local/lib/python3.10/dist-packages (from google-api-core!=2.0.*,!=2.1.*,!=2.2.*,!=2.3.0,<3.0.0.dev0,>=1.31.5->google-api-python-client>=1.2->PyDrive) (2.32.3)\n",
            "Requirement already satisfied: cachetools<6.0,>=2.0.0 in /usr/local/lib/python3.10/dist-packages (from google-auth!=2.24.0,!=2.25.0,<3.0.0.dev0,>=1.32.0->google-api-python-client>=1.2->PyDrive) (5.5.0)\n",
            "Requirement already satisfied: pyparsing!=3.0.0,!=3.0.1,!=3.0.2,!=3.0.3,<4,>=2.4.2 in /usr/local/lib/python3.10/dist-packages (from httplib2<1.dev0,>=0.19.0->google-api-python-client>=1.2->PyDrive) (3.2.0)\n",
            "Requirement already satisfied: charset-normalizer<4,>=2 in /usr/local/lib/python3.10/dist-packages (from requests<3.0.0.dev0,>=2.18.0->google-api-core!=2.0.*,!=2.1.*,!=2.2.*,!=2.3.0,<3.0.0.dev0,>=1.31.5->google-api-python-client>=1.2->PyDrive) (3.4.0)\n",
            "Requirement already satisfied: idna<4,>=2.5 in /usr/local/lib/python3.10/dist-packages (from requests<3.0.0.dev0,>=2.18.0->google-api-core!=2.0.*,!=2.1.*,!=2.2.*,!=2.3.0,<3.0.0.dev0,>=1.31.5->google-api-python-client>=1.2->PyDrive) (3.10)\n",
            "Requirement already satisfied: urllib3<3,>=1.21.1 in /usr/local/lib/python3.10/dist-packages (from requests<3.0.0.dev0,>=2.18.0->google-api-core!=2.0.*,!=2.1.*,!=2.2.*,!=2.3.0,<3.0.0.dev0,>=1.31.5->google-api-python-client>=1.2->PyDrive) (2.2.3)\n",
            "Requirement already satisfied: certifi>=2017.4.17 in /usr/local/lib/python3.10/dist-packages (from requests<3.0.0.dev0,>=2.18.0->google-api-core!=2.0.*,!=2.1.*,!=2.2.*,!=2.3.0,<3.0.0.dev0,>=1.31.5->google-api-python-client>=1.2->PyDrive) (2024.8.30)\n"
          ]
        }
      ]
    },
    {
      "cell_type": "markdown",
      "source": [
        "# Setting evaluation metrics"
      ],
      "metadata": {
        "id": "nCayA0lnIKAU"
      }
    },
    {
      "cell_type": "code",
      "source": [
        "def evaluate_and_plot(history, accuracy_key = 'accuracy', val_accuracy_key = 'val_accuracy', loss_key = 'loss', val_loss_key = 'val_loss'):\n",
        "  import matplotlib.pyplot as plt\n",
        "  # Get the accuracy and loss data from the history object\n",
        "  accuracy = history.history[accuracy_key]\n",
        "  val_accuracy = history.history[val_accuracy_key]\n",
        "  loss = history.history[loss_key]\n",
        "  val_loss = history.history[val_loss_key]\n",
        "  epochs = range(1, len(accuracy) + 1)\n",
        "\n",
        "  # Find the best accuracy and loss values\n",
        "  best_acc = max(accuracy)\n",
        "  best_val_acc = max(val_accuracy)\n",
        "  best_loss = min(loss)\n",
        "  best_val_loss = min(val_loss)\n",
        "\n",
        "  # Print the best values\n",
        "  print(f\"Best Training Accuracy: {best_acc:.4f}\")\n",
        "  print(f\"Best Validation Accuracy: {best_val_acc:.4f}\")\n",
        "  print(f\"Best Training Loss: {best_loss:.4f}\")\n",
        "  print(f\"Best Validation Loss: {best_val_loss:.4f}\")\n",
        "\n",
        "  # Plotting accuracy\n",
        "  plt.figure(figsize=(12, 5))\n",
        "\n",
        "  plt.subplot(1, 2, 1)\n",
        "  plt.plot(epochs, accuracy, label='Training Accuracy')\n",
        "  plt.plot(epochs, val_accuracy, label='Validation Accuracy')\n",
        "  plt.title('Training and Validation Accuracy')\n",
        "  plt.xlabel('Epochs')\n",
        "  plt.ylabel('Accuracy')\n",
        "  plt.legend()\n",
        "\n",
        "  # Plotting loss\n",
        "  plt.subplot(1, 2, 2)\n",
        "  plt.plot(epochs, loss, label='Training Loss')\n",
        "  plt.plot(epochs, val_loss, label='Validation Loss')\n",
        "  plt.title('Training and Validation Loss')\n",
        "  plt.xlabel('Epochs')\n",
        "  plt.ylabel('Loss')\n",
        "  plt.legend()\n",
        "\n",
        "  # Show the plots\n",
        "  plt.tight_layout()\n",
        "  plt.show()\n",
        "\n",
        "def plot_confusion_matrix(X_test, y_test, model):\n",
        "  from sklearn.metrics import confusion_matrix\n",
        "  import numpy as np\n",
        "  import matplotlib.pyplot as plt\n",
        "  import seaborn as sns\n",
        "  y_pred = model.predict(X_test)  # x_test is your test data\n",
        "  y_pred = np.argmax(y_pred, axis=1)  # Convert one-hot to sparse integer predictions\n",
        "  cm = confusion_matrix(y_test, y_pred) # Calculate confusion matrix\n",
        "  plt.figure(figsize=(10, 7))\n",
        "  sns.heatmap(cm, annot=True, fmt='g', cmap='Blues', xticklabels=age_group_mapping.values(), yticklabels=age_group_mapping.values())\n",
        "  plt.xlabel('Predicted')\n",
        "  plt.ylabel('True')\n",
        "  plt.title('Confusion Matrix')\n",
        "  plt.show()"
      ],
      "metadata": {
        "id": "8kDzC-47H9Pb"
      },
      "execution_count": 5,
      "outputs": []
    },
    {
      "cell_type": "code",
      "source": [],
      "metadata": {
        "id": "yQZ-EzlNISnW"
      },
      "execution_count": null,
      "outputs": []
    },
    {
      "cell_type": "markdown",
      "source": [
        "# 1. Loading and preprocessing data FairFace"
      ],
      "metadata": {
        "id": "D71PpSjDhJ8o"
      }
    },
    {
      "cell_type": "markdown",
      "source": [
        "## Loading"
      ],
      "metadata": {
        "id": "ukQweKPEExiw"
      }
    },
    {
      "cell_type": "markdown",
      "source": [
        "### Loading images"
      ],
      "metadata": {
        "id": "X_z1O3ORhQi4"
      }
    },
    {
      "cell_type": "code",
      "execution_count": 6,
      "metadata": {
        "colab": {
          "base_uri": "https://localhost:8080/"
        },
        "id": "8dq8nKJ-hFp7",
        "outputId": "50cf1165-077b-4d41-c80a-c827b0c5ec65"
      },
      "outputs": [
        {
          "output_type": "stream",
          "name": "stdout",
          "text": [
            "Requirement already satisfied: PyDrive in /usr/local/lib/python3.10/dist-packages (1.3.1)\n",
            "Requirement already satisfied: google-api-python-client>=1.2 in /usr/local/lib/python3.10/dist-packages (from PyDrive) (2.149.0)\n",
            "Requirement already satisfied: oauth2client>=4.0.0 in /usr/local/lib/python3.10/dist-packages (from PyDrive) (4.1.3)\n",
            "Requirement already satisfied: PyYAML>=3.0 in /usr/local/lib/python3.10/dist-packages (from PyDrive) (6.0.2)\n",
            "Requirement already satisfied: httplib2<1.dev0,>=0.19.0 in /usr/lib/python3/dist-packages (from google-api-python-client>=1.2->PyDrive) (0.20.2)\n",
            "Requirement already satisfied: google-auth!=2.24.0,!=2.25.0,<3.0.0.dev0,>=1.32.0 in /usr/local/lib/python3.10/dist-packages (from google-api-python-client>=1.2->PyDrive) (2.27.0)\n",
            "Requirement already satisfied: google-auth-httplib2<1.0.0,>=0.2.0 in /usr/local/lib/python3.10/dist-packages (from google-api-python-client>=1.2->PyDrive) (0.2.0)\n",
            "Requirement already satisfied: google-api-core!=2.0.*,!=2.1.*,!=2.2.*,!=2.3.0,<3.0.0.dev0,>=1.31.5 in /usr/local/lib/python3.10/dist-packages (from google-api-python-client>=1.2->PyDrive) (2.21.0)\n",
            "Requirement already satisfied: uritemplate<5,>=3.0.1 in /usr/local/lib/python3.10/dist-packages (from google-api-python-client>=1.2->PyDrive) (4.1.1)\n",
            "Requirement already satisfied: pyasn1>=0.1.7 in /usr/local/lib/python3.10/dist-packages (from oauth2client>=4.0.0->PyDrive) (0.6.1)\n",
            "Requirement already satisfied: pyasn1-modules>=0.0.5 in /usr/local/lib/python3.10/dist-packages (from oauth2client>=4.0.0->PyDrive) (0.4.1)\n",
            "Requirement already satisfied: rsa>=3.1.4 in /usr/local/lib/python3.10/dist-packages (from oauth2client>=4.0.0->PyDrive) (4.9)\n",
            "Requirement already satisfied: six>=1.6.1 in /usr/local/lib/python3.10/dist-packages (from oauth2client>=4.0.0->PyDrive) (1.16.0)\n",
            "Requirement already satisfied: googleapis-common-protos<2.0.dev0,>=1.56.2 in /usr/local/lib/python3.10/dist-packages (from google-api-core!=2.0.*,!=2.1.*,!=2.2.*,!=2.3.0,<3.0.0.dev0,>=1.31.5->google-api-python-client>=1.2->PyDrive) (1.65.0)\n",
            "Requirement already satisfied: protobuf!=3.20.0,!=3.20.1,!=4.21.0,!=4.21.1,!=4.21.2,!=4.21.3,!=4.21.4,!=4.21.5,<6.0.0.dev0,>=3.19.5 in /usr/local/lib/python3.10/dist-packages (from google-api-core!=2.0.*,!=2.1.*,!=2.2.*,!=2.3.0,<3.0.0.dev0,>=1.31.5->google-api-python-client>=1.2->PyDrive) (4.25.5)\n",
            "Requirement already satisfied: proto-plus<2.0.0dev,>=1.22.3 in /usr/local/lib/python3.10/dist-packages (from google-api-core!=2.0.*,!=2.1.*,!=2.2.*,!=2.3.0,<3.0.0.dev0,>=1.31.5->google-api-python-client>=1.2->PyDrive) (1.24.0)\n",
            "Requirement already satisfied: requests<3.0.0.dev0,>=2.18.0 in /usr/local/lib/python3.10/dist-packages (from google-api-core!=2.0.*,!=2.1.*,!=2.2.*,!=2.3.0,<3.0.0.dev0,>=1.31.5->google-api-python-client>=1.2->PyDrive) (2.32.3)\n",
            "Requirement already satisfied: cachetools<6.0,>=2.0.0 in /usr/local/lib/python3.10/dist-packages (from google-auth!=2.24.0,!=2.25.0,<3.0.0.dev0,>=1.32.0->google-api-python-client>=1.2->PyDrive) (5.5.0)\n",
            "Requirement already satisfied: pyparsing!=3.0.0,!=3.0.1,!=3.0.2,!=3.0.3,<4,>=2.4.2 in /usr/local/lib/python3.10/dist-packages (from httplib2<1.dev0,>=0.19.0->google-api-python-client>=1.2->PyDrive) (3.2.0)\n",
            "Requirement already satisfied: charset-normalizer<4,>=2 in /usr/local/lib/python3.10/dist-packages (from requests<3.0.0.dev0,>=2.18.0->google-api-core!=2.0.*,!=2.1.*,!=2.2.*,!=2.3.0,<3.0.0.dev0,>=1.31.5->google-api-python-client>=1.2->PyDrive) (3.4.0)\n",
            "Requirement already satisfied: idna<4,>=2.5 in /usr/local/lib/python3.10/dist-packages (from requests<3.0.0.dev0,>=2.18.0->google-api-core!=2.0.*,!=2.1.*,!=2.2.*,!=2.3.0,<3.0.0.dev0,>=1.31.5->google-api-python-client>=1.2->PyDrive) (3.10)\n",
            "Requirement already satisfied: urllib3<3,>=1.21.1 in /usr/local/lib/python3.10/dist-packages (from requests<3.0.0.dev0,>=2.18.0->google-api-core!=2.0.*,!=2.1.*,!=2.2.*,!=2.3.0,<3.0.0.dev0,>=1.31.5->google-api-python-client>=1.2->PyDrive) (2.2.3)\n",
            "Requirement already satisfied: certifi>=2017.4.17 in /usr/local/lib/python3.10/dist-packages (from requests<3.0.0.dev0,>=2.18.0->google-api-core!=2.0.*,!=2.1.*,!=2.2.*,!=2.3.0,<3.0.0.dev0,>=1.31.5->google-api-python-client>=1.2->PyDrive) (2024.8.30)\n",
            "downloaded_file.zip downloaded successfully!\n",
            "File extracted to /content/extracted\n"
          ]
        }
      ],
      "source": [
        "# Step 1: Install PyDrive\n",
        "!pip install PyDrive\n",
        "\n",
        "# Step 2: Import the required libraries\n",
        "import os\n",
        "import zipfile\n",
        "from pydrive.auth import GoogleAuth\n",
        "from pydrive.drive import GoogleDrive\n",
        "from google.colab import auth\n",
        "from oauth2client.client import GoogleCredentials\n",
        "\n",
        "# Step 3: Authenticate and create the PyDrive client\n",
        "auth.authenticate_user()\n",
        "gauth = GoogleAuth()\n",
        "gauth.credentials = GoogleCredentials.get_application_default()\n",
        "drive = GoogleDrive(gauth)\n",
        "\n",
        "# Step 4: Specify the file ID from the link\n",
        "file_id = '1Z1RqRo0_JiavaZw2yzZG6WETdZQ8qX86'\n",
        "\n",
        "# Step 5: Download the .zip file\n",
        "downloaded = drive.CreateFile({'id': file_id})\n",
        "zip_filename = 'downloaded_file.zip'  # Name of the downloaded zip file\n",
        "downloaded.GetContentFile(zip_filename)\n",
        "\n",
        "print(f\"{zip_filename} downloaded successfully!\")\n",
        "\n",
        "# Step 6: Create the extracted directory if it doesn't exist\n",
        "extract_dir = '/content/extracted'\n",
        "if not os.path.exists(extract_dir):\n",
        "    os.makedirs(extract_dir)\n",
        "\n",
        "# Step 7: Extract the .zip file into the /content/extracted directory\n",
        "with zipfile.ZipFile(zip_filename, 'r') as zip_ref:\n",
        "    zip_ref.extractall(extract_dir)\n",
        "\n",
        "print(f\"File extracted to {extract_dir}\")"
      ]
    },
    {
      "cell_type": "markdown",
      "source": [
        "### Loading labels"
      ],
      "metadata": {
        "id": "l_Y4WDlAhR-h"
      }
    },
    {
      "cell_type": "code",
      "source": [
        "# Step 1: Import the necessary libraries if not already imported\n",
        "import os\n",
        "from pydrive.auth import GoogleAuth\n",
        "from pydrive.drive import GoogleDrive\n",
        "from google.colab import auth\n",
        "from oauth2client.client import GoogleCredentials\n",
        "import pandas as pd\n",
        "\n",
        "# Step 2: Authenticate and create the PyDrive client (if not already done)\n",
        "auth.authenticate_user()\n",
        "gauth = GoogleAuth()\n",
        "gauth.credentials = GoogleCredentials.get_application_default()\n",
        "drive = GoogleDrive(gauth)\n",
        "\n",
        "# Step 3: Function to download CSV file from Google Drive\n",
        "def download_csv(file_id, destination):\n",
        "    downloaded = drive.CreateFile({'id': file_id})\n",
        "    downloaded.GetContentFile(destination)\n",
        "    print(f\"Downloaded file saved as {destination}\")\n",
        "\n",
        "# Step 4: File IDs and destinations for Train and Validation labels\n",
        "train_file_id = '1i1L3Yqwaio7YSOCj7ftgk8ZZchPG7dmH'  # Train labels file ID\n",
        "val_file_id = '1wOdja-ezstMEp81tX1a-EYkFebev4h7D'    # Validation labels file ID\n",
        "\n",
        "train_labels_path = '/content/train_labels.csv'\n",
        "val_labels_path = '/content/val_labels.csv'\n",
        "\n",
        "# Step 5: Download Train and Validation label CSV files\n",
        "download_csv(train_file_id, train_labels_path)\n",
        "download_csv(val_file_id, val_labels_path)\n",
        "\n",
        "df_fairface_train = pd.read_csv(train_labels_path)\n",
        "df_fairface_val = pd.read_csv(val_labels_path)"
      ],
      "metadata": {
        "id": "OEm0DQ0iiJeq",
        "colab": {
          "base_uri": "https://localhost:8080/"
        },
        "outputId": "3975f854-8fe9-4e6d-91ef-ef6914314035"
      },
      "execution_count": 7,
      "outputs": [
        {
          "output_type": "stream",
          "name": "stdout",
          "text": [
            "Downloaded file saved as /content/train_labels.csv\n",
            "Downloaded file saved as /content/val_labels.csv\n"
          ]
        }
      ]
    },
    {
      "cell_type": "markdown",
      "source": [
        "## Data preprocessing\n",
        "- Currently uses train and validations set defined from the original paper -> no need to use data_split later"
      ],
      "metadata": {
        "id": "_ZV559H3iemq"
      }
    },
    {
      "cell_type": "code",
      "source": [
        "from pathlib import Path\n",
        "from tqdm.notebook import tqdm  # For the progress bar (if not already installed, run: !pip install tqdm)\n",
        "\n",
        "tqdm.pandas()\n",
        "\n",
        "train_df = df_fairface_train.copy()\n",
        "val_df = df_fairface_val.copy()\n",
        "\n",
        "# Not sure what service_test is\n",
        "train_df.drop(columns=['service_test'],inplace=True)\n",
        "val_df.drop(columns=['service_test'],inplace=True)\n",
        "\n",
        "# Define the base image directory\n",
        "base_img = Path('/content/extracted')\n",
        "\n",
        "# Update labels in both train_df and val_df\n",
        "train_df['age'] = train_df['age'].replace('more than 70', '70+')\n",
        "val_df['age'] = val_df['age'].replace('more than 70', '70+')\n",
        "\n",
        "# Update the 'file' column for train and val dataframes\n",
        "train_df['file'] = train_df['file'].progress_map(lambda x: base_img / x)\n",
        "val_df['file'] = val_df['file'].progress_map(lambda x: base_img / x)"
      ],
      "metadata": {
        "id": "81GDVwbVigTO",
        "colab": {
          "base_uri": "https://localhost:8080/",
          "referenced_widgets": [
            "47a45e8553504b6d93eaec7c8f96cad1",
            "a96b660c8dc74790affa477a63bafbd1",
            "8b043c8242894f21b59abc5fceef1267",
            "d1d3908c48ff4514bafe712f08a00a91",
            "b61d96cdc95941679e661c8485bcdd2e",
            "42e391d64c494bf7b097b30048050f70",
            "4a9226b0b8cb422f9b2b0e60a99e68ff",
            "0d75a9f65b4a43d0bc3156694e7aa7c2",
            "4aced51cb2264fa380af7f393cbef610",
            "95d2c546341d489fb31350bf2ddbd017",
            "9c8504c28f494651861dcde86fd621f1",
            "567f22d7a1fb483a9384cab30d5175b9",
            "572ca42434b14a00b57bbbbb2c193e1c",
            "6adb4bbc0ecd47d2b8512a9e270bd60e",
            "17ef1ea8f6bb494fbc3667ac2e8e1208",
            "e6fb8f7fcffe4933b179e4679b27a7f8",
            "0dbfaea387064b6ab3dc35f669a02645",
            "6204d2a2beff463b91491a90d723b241",
            "8435a0585fd541f597cffefa1e82a738",
            "f135869b3e9c41a99ca23feb31a36c80",
            "a2dc1f2ccc2b4dc2b5f84a5914203893",
            "d919069545e14dfc826fc5204785dc09"
          ],
          "height": 81
        },
        "outputId": "819fee3c-59ac-4d8c-d821-1422d6ba4f6e"
      },
      "execution_count": 8,
      "outputs": [
        {
          "output_type": "display_data",
          "data": {
            "text/plain": [
              "  0%|          | 0/86744 [00:00<?, ?it/s]"
            ],
            "application/vnd.jupyter.widget-view+json": {
              "version_major": 2,
              "version_minor": 0,
              "model_id": "47a45e8553504b6d93eaec7c8f96cad1"
            }
          },
          "metadata": {}
        },
        {
          "output_type": "display_data",
          "data": {
            "text/plain": [
              "  0%|          | 0/10954 [00:00<?, ?it/s]"
            ],
            "application/vnd.jupyter.widget-view+json": {
              "version_major": 2,
              "version_minor": 0,
              "model_id": "567f22d7a1fb483a9384cab30d5175b9"
            }
          },
          "metadata": {}
        }
      ]
    },
    {
      "cell_type": "code",
      "source": [
        "###### Mapping gender\n",
        "gender_map = {'Male': 0, 'Female': 1}\n",
        "\n",
        "train_df['gender_code'] = train_df['gender'].progress_map(lambda x:gender_map[x])\n",
        "val_df['gender_code'] = val_df['gender'].progress_map(lambda x:gender_map[x])\n",
        "\n",
        "###### Mapping age\n",
        "age_order = ['0-2', '3-9', '10-19', '20-29', '30-39', '40-49', '50-59', '60-69', '70+']\n",
        "\n",
        "# Setting the desired order\n",
        "train_df['age'] = train_df['age'].astype('category')\n",
        "train_df['age'] = train_df['age'].cat.set_categories(age_order, ordered=True)\n",
        "\n",
        "# Encoding the age groups\n",
        "train_df['age_code'] = train_df['age'].cat.codes\n",
        "\n",
        "# Creating the age map\n",
        "age_map = dict(zip(train_df['age'].cat.categories, range(len(train_df['age'].cat.categories))))\n",
        "val_df['age_code'] = val_df['age'].progress_map(lambda x: age_map[x])\n",
        "\n",
        "###### Mapping race\n",
        "train_df['race'] = train_df['race'].astype('category')\n",
        "train_df['race_code'] = train_df['race'].cat.codes\n",
        "\n",
        "race_map = dict(zip(train_df['race'].cat.categories,range(len(train_df['race'].cat.categories))))\n",
        "val_df['race_code'] = val_df['race'].progress_map(lambda x:race_map[x])"
      ],
      "metadata": {
        "id": "GdPiR-Rgn634",
        "colab": {
          "base_uri": "https://localhost:8080/",
          "referenced_widgets": [
            "d81b97ba5eb84359998b29f70b73f772",
            "74050e3972f3494cb25268f77254028b",
            "f242ca2506ac4775b7f267b60a0047e6",
            "69f9850c51734a088bc4ed71a52e272a",
            "2be5661e05714907a6e8fb5229eea0ed",
            "11cce0862d60411682e725ae44d9b9b3",
            "93eadcf6eefb4de98fcdf199191dd72d",
            "fab63c82101f4bd9bd6d946262c45e53",
            "49c43cdd3dc745d59c98ade84c956d10",
            "16996d47c3df456da51dfdd6bf3f498d",
            "66c3850783ba4736a2525032a2ceeeab",
            "9a72e0e0085542faac3a8aa423f22714",
            "8d1a317155e345cea18ef47bcfa3e5d9",
            "4815ab1c6b4a4c1d86ccb0251e2a9de8",
            "737f07b3b49b4ac083067bf7a4ccfc5f",
            "f62d1a6ccfd241fdad83a542a36127df",
            "1a4e955c89ce42ac8e3700e2121d707a",
            "91f8c40f59424047b4e14b604b454886",
            "735f932b9d0b4f71936631784c126fe8",
            "e52ac00b14e2437c82dbbd4795415a6f",
            "d978929c7b6b4e8eb122d20750e0e3aa",
            "dc24ccc26ada4f11a4b7a6af9fe51e05",
            "a996c67995784cbf91bc690c2438a8f7",
            "58e171fa16714f958db6c14133a2242e",
            "7c8b978d70eb433a9a9397a9c3704bd6",
            "bd5a587817914ec1a6029bdac79b3900",
            "6c2f7ff58a3545e8b57489d96801abd8",
            "5f67bada07954d6b88944e798d4ecdf8",
            "92f447b8ab6f4e69b72b6d865e85178e",
            "f7df861121b7443ebd5dc74d3bf2156a",
            "bc4f583bb4e94c4a9f24f6117a8765a5",
            "01d231957e814791b5e6ec942a1c57e0",
            "fe82c2e0840a4b2ca77d610154b611bb",
            "41b52cdb938f447aab3d6c18adc368fe",
            "4c7ca9880c7547bba051c60a59c72f1a",
            "440aa7a2b3e94eb8bebb44cdd996e27b",
            "5eb519f71e454162b6dc6f25c3759ad2",
            "eebaeeedeb7c40f3b9d5bc4b1646d09f",
            "e7cf622bc2444dff86299143ced11891",
            "8a6fb24deb19454aa130664397d96ef5",
            "3e37b8ccb9114730bc114c55fdc1293c",
            "7f789c1a1077439cb94deb96bb659e91",
            "419fee0ee47f4daf90e3744c108c3cc5",
            "b188247535ec478f841a80bc601f6dfa"
          ],
          "height": 145
        },
        "outputId": "c666bdf5-488e-4104-b791-09b0817d0334"
      },
      "execution_count": 9,
      "outputs": [
        {
          "output_type": "display_data",
          "data": {
            "text/plain": [
              "  0%|          | 0/86744 [00:00<?, ?it/s]"
            ],
            "application/vnd.jupyter.widget-view+json": {
              "version_major": 2,
              "version_minor": 0,
              "model_id": "d81b97ba5eb84359998b29f70b73f772"
            }
          },
          "metadata": {}
        },
        {
          "output_type": "display_data",
          "data": {
            "text/plain": [
              "  0%|          | 0/10954 [00:00<?, ?it/s]"
            ],
            "application/vnd.jupyter.widget-view+json": {
              "version_major": 2,
              "version_minor": 0,
              "model_id": "9a72e0e0085542faac3a8aa423f22714"
            }
          },
          "metadata": {}
        },
        {
          "output_type": "display_data",
          "data": {
            "text/plain": [
              "  0%|          | 0/10954 [00:00<?, ?it/s]"
            ],
            "application/vnd.jupyter.widget-view+json": {
              "version_major": 2,
              "version_minor": 0,
              "model_id": "a996c67995784cbf91bc690c2438a8f7"
            }
          },
          "metadata": {}
        },
        {
          "output_type": "display_data",
          "data": {
            "text/plain": [
              "  0%|          | 0/10954 [00:00<?, ?it/s]"
            ],
            "application/vnd.jupyter.widget-view+json": {
              "version_major": 2,
              "version_minor": 0,
              "model_id": "41b52cdb938f447aab3d6c18adc368fe"
            }
          },
          "metadata": {}
        }
      ]
    },
    {
      "cell_type": "code",
      "source": [
        "# New desired mapping: White, Black, Asian, Indian, and Others\n",
        "# Create a function to map the current race categories to the target categories\n",
        "def map_race_to_target(race):\n",
        "    if race in ['East Asian', 'Southeast Asian']:\n",
        "        return 'Asian'\n",
        "    elif race in ['Latino_Hispanic', 'Middle Eastern']:\n",
        "        return 'Others'\n",
        "    else:\n",
        "        return race  # Retain 'White', 'Black', and 'Indian' as is\n",
        "\n",
        "# Define the desired category order\n",
        "desired_order = ['White', 'Black', 'Asian', 'Indian', 'Others']\n",
        "\n",
        "# Apply the mapping function to map the races to the target categories\n",
        "train_df['race'] = train_df['race'].map(map_race_to_target)\n",
        "val_df['race'] = val_df['race'].map(map_race_to_target)\n",
        "\n",
        "# Convert to categorical type and set the desired category order\n",
        "train_df['race'] = train_df['race'].astype('category')\n",
        "train_df['race'] = train_df['race'].cat.set_categories(desired_order, ordered=True)\n",
        "\n",
        "val_df['race'] = val_df['race'].astype('category')\n",
        "val_df['race'] = val_df['race'].cat.set_categories(desired_order, ordered=True)\n",
        "\n",
        "# Create 'race_code' using the ordered categories\n",
        "train_df['race_code'] = train_df['race'].cat.codes\n",
        "val_df['race_code'] = val_df['race'].cat.codes\n",
        "\n",
        "# Create the new race_map based on the new categories\n",
        "race_map_fair = dict(zip(range(len(desired_order)), desired_order))\n",
        "\n",
        "# Display the resulting mappings\n",
        "print(\"New Race Mapping:\", race_map_fair)"
      ],
      "metadata": {
        "id": "YlWdFcr00Eys",
        "colab": {
          "base_uri": "https://localhost:8080/"
        },
        "outputId": "07c80964-e0eb-43bc-c7bb-8f6e9a6ab032"
      },
      "execution_count": 10,
      "outputs": [
        {
          "output_type": "stream",
          "name": "stdout",
          "text": [
            "New Race Mapping: {0: 'White', 1: 'Black', 2: 'Asian', 3: 'Indian', 4: 'Others'}\n"
          ]
        }
      ]
    },
    {
      "cell_type": "code",
      "source": [
        "# Assuming train_df and val_df are your dataframes\n",
        "df_fairface_raw = pd.concat([train_df, val_df], ignore_index=True)\n",
        "print(len(df_fairface_raw))\n",
        "df_fairface_raw.head()"
      ],
      "metadata": {
        "id": "xBP8PTlqF6U4",
        "colab": {
          "base_uri": "https://localhost:8080/",
          "height": 223
        },
        "outputId": "d670909d-af3b-4599-d7d5-f2622c482d50"
      },
      "execution_count": 11,
      "outputs": [
        {
          "output_type": "stream",
          "name": "stdout",
          "text": [
            "97698\n"
          ]
        },
        {
          "output_type": "execute_result",
          "data": {
            "text/plain": [
              "                             file    age  gender    race  gender_code  \\\n",
              "0  /content/extracted/train/1.jpg  50-59    Male   Asian            0   \n",
              "1  /content/extracted/train/2.jpg  30-39  Female  Indian            1   \n",
              "2  /content/extracted/train/3.jpg    3-9  Female   Black            1   \n",
              "3  /content/extracted/train/4.jpg  20-29  Female  Indian            1   \n",
              "4  /content/extracted/train/5.jpg  20-29  Female  Indian            1   \n",
              "\n",
              "   age_code  race_code  \n",
              "0         6          2  \n",
              "1         4          3  \n",
              "2         1          1  \n",
              "3         3          3  \n",
              "4         3          3  "
            ],
            "text/html": [
              "\n",
              "  <div id=\"df-926ee413-93e2-41c9-bcf4-bdc80cac9e49\" class=\"colab-df-container\">\n",
              "    <div>\n",
              "<style scoped>\n",
              "    .dataframe tbody tr th:only-of-type {\n",
              "        vertical-align: middle;\n",
              "    }\n",
              "\n",
              "    .dataframe tbody tr th {\n",
              "        vertical-align: top;\n",
              "    }\n",
              "\n",
              "    .dataframe thead th {\n",
              "        text-align: right;\n",
              "    }\n",
              "</style>\n",
              "<table border=\"1\" class=\"dataframe\">\n",
              "  <thead>\n",
              "    <tr style=\"text-align: right;\">\n",
              "      <th></th>\n",
              "      <th>file</th>\n",
              "      <th>age</th>\n",
              "      <th>gender</th>\n",
              "      <th>race</th>\n",
              "      <th>gender_code</th>\n",
              "      <th>age_code</th>\n",
              "      <th>race_code</th>\n",
              "    </tr>\n",
              "  </thead>\n",
              "  <tbody>\n",
              "    <tr>\n",
              "      <th>0</th>\n",
              "      <td>/content/extracted/train/1.jpg</td>\n",
              "      <td>50-59</td>\n",
              "      <td>Male</td>\n",
              "      <td>Asian</td>\n",
              "      <td>0</td>\n",
              "      <td>6</td>\n",
              "      <td>2</td>\n",
              "    </tr>\n",
              "    <tr>\n",
              "      <th>1</th>\n",
              "      <td>/content/extracted/train/2.jpg</td>\n",
              "      <td>30-39</td>\n",
              "      <td>Female</td>\n",
              "      <td>Indian</td>\n",
              "      <td>1</td>\n",
              "      <td>4</td>\n",
              "      <td>3</td>\n",
              "    </tr>\n",
              "    <tr>\n",
              "      <th>2</th>\n",
              "      <td>/content/extracted/train/3.jpg</td>\n",
              "      <td>3-9</td>\n",
              "      <td>Female</td>\n",
              "      <td>Black</td>\n",
              "      <td>1</td>\n",
              "      <td>1</td>\n",
              "      <td>1</td>\n",
              "    </tr>\n",
              "    <tr>\n",
              "      <th>3</th>\n",
              "      <td>/content/extracted/train/4.jpg</td>\n",
              "      <td>20-29</td>\n",
              "      <td>Female</td>\n",
              "      <td>Indian</td>\n",
              "      <td>1</td>\n",
              "      <td>3</td>\n",
              "      <td>3</td>\n",
              "    </tr>\n",
              "    <tr>\n",
              "      <th>4</th>\n",
              "      <td>/content/extracted/train/5.jpg</td>\n",
              "      <td>20-29</td>\n",
              "      <td>Female</td>\n",
              "      <td>Indian</td>\n",
              "      <td>1</td>\n",
              "      <td>3</td>\n",
              "      <td>3</td>\n",
              "    </tr>\n",
              "  </tbody>\n",
              "</table>\n",
              "</div>\n",
              "    <div class=\"colab-df-buttons\">\n",
              "\n",
              "  <div class=\"colab-df-container\">\n",
              "    <button class=\"colab-df-convert\" onclick=\"convertToInteractive('df-926ee413-93e2-41c9-bcf4-bdc80cac9e49')\"\n",
              "            title=\"Convert this dataframe to an interactive table.\"\n",
              "            style=\"display:none;\">\n",
              "\n",
              "  <svg xmlns=\"http://www.w3.org/2000/svg\" height=\"24px\" viewBox=\"0 -960 960 960\">\n",
              "    <path d=\"M120-120v-720h720v720H120Zm60-500h600v-160H180v160Zm220 220h160v-160H400v160Zm0 220h160v-160H400v160ZM180-400h160v-160H180v160Zm440 0h160v-160H620v160ZM180-180h160v-160H180v160Zm440 0h160v-160H620v160Z\"/>\n",
              "  </svg>\n",
              "    </button>\n",
              "\n",
              "  <style>\n",
              "    .colab-df-container {\n",
              "      display:flex;\n",
              "      gap: 12px;\n",
              "    }\n",
              "\n",
              "    .colab-df-convert {\n",
              "      background-color: #E8F0FE;\n",
              "      border: none;\n",
              "      border-radius: 50%;\n",
              "      cursor: pointer;\n",
              "      display: none;\n",
              "      fill: #1967D2;\n",
              "      height: 32px;\n",
              "      padding: 0 0 0 0;\n",
              "      width: 32px;\n",
              "    }\n",
              "\n",
              "    .colab-df-convert:hover {\n",
              "      background-color: #E2EBFA;\n",
              "      box-shadow: 0px 1px 2px rgba(60, 64, 67, 0.3), 0px 1px 3px 1px rgba(60, 64, 67, 0.15);\n",
              "      fill: #174EA6;\n",
              "    }\n",
              "\n",
              "    .colab-df-buttons div {\n",
              "      margin-bottom: 4px;\n",
              "    }\n",
              "\n",
              "    [theme=dark] .colab-df-convert {\n",
              "      background-color: #3B4455;\n",
              "      fill: #D2E3FC;\n",
              "    }\n",
              "\n",
              "    [theme=dark] .colab-df-convert:hover {\n",
              "      background-color: #434B5C;\n",
              "      box-shadow: 0px 1px 3px 1px rgba(0, 0, 0, 0.15);\n",
              "      filter: drop-shadow(0px 1px 2px rgba(0, 0, 0, 0.3));\n",
              "      fill: #FFFFFF;\n",
              "    }\n",
              "  </style>\n",
              "\n",
              "    <script>\n",
              "      const buttonEl =\n",
              "        document.querySelector('#df-926ee413-93e2-41c9-bcf4-bdc80cac9e49 button.colab-df-convert');\n",
              "      buttonEl.style.display =\n",
              "        google.colab.kernel.accessAllowed ? 'block' : 'none';\n",
              "\n",
              "      async function convertToInteractive(key) {\n",
              "        const element = document.querySelector('#df-926ee413-93e2-41c9-bcf4-bdc80cac9e49');\n",
              "        const dataTable =\n",
              "          await google.colab.kernel.invokeFunction('convertToInteractive',\n",
              "                                                    [key], {});\n",
              "        if (!dataTable) return;\n",
              "\n",
              "        const docLinkHtml = 'Like what you see? Visit the ' +\n",
              "          '<a target=\"_blank\" href=https://colab.research.google.com/notebooks/data_table.ipynb>data table notebook</a>'\n",
              "          + ' to learn more about interactive tables.';\n",
              "        element.innerHTML = '';\n",
              "        dataTable['output_type'] = 'display_data';\n",
              "        await google.colab.output.renderOutput(dataTable, element);\n",
              "        const docLink = document.createElement('div');\n",
              "        docLink.innerHTML = docLinkHtml;\n",
              "        element.appendChild(docLink);\n",
              "      }\n",
              "    </script>\n",
              "  </div>\n",
              "\n",
              "\n",
              "<div id=\"df-dfe2b40f-a009-42ec-8194-291577b02f8e\">\n",
              "  <button class=\"colab-df-quickchart\" onclick=\"quickchart('df-dfe2b40f-a009-42ec-8194-291577b02f8e')\"\n",
              "            title=\"Suggest charts\"\n",
              "            style=\"display:none;\">\n",
              "\n",
              "<svg xmlns=\"http://www.w3.org/2000/svg\" height=\"24px\"viewBox=\"0 0 24 24\"\n",
              "     width=\"24px\">\n",
              "    <g>\n",
              "        <path d=\"M19 3H5c-1.1 0-2 .9-2 2v14c0 1.1.9 2 2 2h14c1.1 0 2-.9 2-2V5c0-1.1-.9-2-2-2zM9 17H7v-7h2v7zm4 0h-2V7h2v10zm4 0h-2v-4h2v4z\"/>\n",
              "    </g>\n",
              "</svg>\n",
              "  </button>\n",
              "\n",
              "<style>\n",
              "  .colab-df-quickchart {\n",
              "      --bg-color: #E8F0FE;\n",
              "      --fill-color: #1967D2;\n",
              "      --hover-bg-color: #E2EBFA;\n",
              "      --hover-fill-color: #174EA6;\n",
              "      --disabled-fill-color: #AAA;\n",
              "      --disabled-bg-color: #DDD;\n",
              "  }\n",
              "\n",
              "  [theme=dark] .colab-df-quickchart {\n",
              "      --bg-color: #3B4455;\n",
              "      --fill-color: #D2E3FC;\n",
              "      --hover-bg-color: #434B5C;\n",
              "      --hover-fill-color: #FFFFFF;\n",
              "      --disabled-bg-color: #3B4455;\n",
              "      --disabled-fill-color: #666;\n",
              "  }\n",
              "\n",
              "  .colab-df-quickchart {\n",
              "    background-color: var(--bg-color);\n",
              "    border: none;\n",
              "    border-radius: 50%;\n",
              "    cursor: pointer;\n",
              "    display: none;\n",
              "    fill: var(--fill-color);\n",
              "    height: 32px;\n",
              "    padding: 0;\n",
              "    width: 32px;\n",
              "  }\n",
              "\n",
              "  .colab-df-quickchart:hover {\n",
              "    background-color: var(--hover-bg-color);\n",
              "    box-shadow: 0 1px 2px rgba(60, 64, 67, 0.3), 0 1px 3px 1px rgba(60, 64, 67, 0.15);\n",
              "    fill: var(--button-hover-fill-color);\n",
              "  }\n",
              "\n",
              "  .colab-df-quickchart-complete:disabled,\n",
              "  .colab-df-quickchart-complete:disabled:hover {\n",
              "    background-color: var(--disabled-bg-color);\n",
              "    fill: var(--disabled-fill-color);\n",
              "    box-shadow: none;\n",
              "  }\n",
              "\n",
              "  .colab-df-spinner {\n",
              "    border: 2px solid var(--fill-color);\n",
              "    border-color: transparent;\n",
              "    border-bottom-color: var(--fill-color);\n",
              "    animation:\n",
              "      spin 1s steps(1) infinite;\n",
              "  }\n",
              "\n",
              "  @keyframes spin {\n",
              "    0% {\n",
              "      border-color: transparent;\n",
              "      border-bottom-color: var(--fill-color);\n",
              "      border-left-color: var(--fill-color);\n",
              "    }\n",
              "    20% {\n",
              "      border-color: transparent;\n",
              "      border-left-color: var(--fill-color);\n",
              "      border-top-color: var(--fill-color);\n",
              "    }\n",
              "    30% {\n",
              "      border-color: transparent;\n",
              "      border-left-color: var(--fill-color);\n",
              "      border-top-color: var(--fill-color);\n",
              "      border-right-color: var(--fill-color);\n",
              "    }\n",
              "    40% {\n",
              "      border-color: transparent;\n",
              "      border-right-color: var(--fill-color);\n",
              "      border-top-color: var(--fill-color);\n",
              "    }\n",
              "    60% {\n",
              "      border-color: transparent;\n",
              "      border-right-color: var(--fill-color);\n",
              "    }\n",
              "    80% {\n",
              "      border-color: transparent;\n",
              "      border-right-color: var(--fill-color);\n",
              "      border-bottom-color: var(--fill-color);\n",
              "    }\n",
              "    90% {\n",
              "      border-color: transparent;\n",
              "      border-bottom-color: var(--fill-color);\n",
              "    }\n",
              "  }\n",
              "</style>\n",
              "\n",
              "  <script>\n",
              "    async function quickchart(key) {\n",
              "      const quickchartButtonEl =\n",
              "        document.querySelector('#' + key + ' button');\n",
              "      quickchartButtonEl.disabled = true;  // To prevent multiple clicks.\n",
              "      quickchartButtonEl.classList.add('colab-df-spinner');\n",
              "      try {\n",
              "        const charts = await google.colab.kernel.invokeFunction(\n",
              "            'suggestCharts', [key], {});\n",
              "      } catch (error) {\n",
              "        console.error('Error during call to suggestCharts:', error);\n",
              "      }\n",
              "      quickchartButtonEl.classList.remove('colab-df-spinner');\n",
              "      quickchartButtonEl.classList.add('colab-df-quickchart-complete');\n",
              "    }\n",
              "    (() => {\n",
              "      let quickchartButtonEl =\n",
              "        document.querySelector('#df-dfe2b40f-a009-42ec-8194-291577b02f8e button');\n",
              "      quickchartButtonEl.style.display =\n",
              "        google.colab.kernel.accessAllowed ? 'block' : 'none';\n",
              "    })();\n",
              "  </script>\n",
              "</div>\n",
              "\n",
              "    </div>\n",
              "  </div>\n"
            ],
            "application/vnd.google.colaboratory.intrinsic+json": {
              "type": "dataframe",
              "variable_name": "df_fairface_raw",
              "summary": "{\n  \"name\": \"df_fairface_raw\",\n  \"rows\": 97698,\n  \"fields\": [\n    {\n      \"column\": \"file\",\n      \"properties\": {\n        \"dtype\": \"string\",\n        \"num_unique_values\": 97698,\n        \"samples\": [\n          \"/content/extracted/train/65360.jpg\",\n          \"/content/extracted/train/43448.jpg\",\n          \"/content/extracted/train/61505.jpg\"\n        ],\n        \"semantic_type\": \"\",\n        \"description\": \"\"\n      }\n    },\n    {\n      \"column\": \"age\",\n      \"properties\": {\n        \"dtype\": \"category\",\n        \"num_unique_values\": 9,\n        \"samples\": [\n          \"0-2\",\n          \"30-39\",\n          \"10-19\"\n        ],\n        \"semantic_type\": \"\",\n        \"description\": \"\"\n      }\n    },\n    {\n      \"column\": \"gender\",\n      \"properties\": {\n        \"dtype\": \"category\",\n        \"num_unique_values\": 2,\n        \"samples\": [\n          \"Female\",\n          \"Male\"\n        ],\n        \"semantic_type\": \"\",\n        \"description\": \"\"\n      }\n    },\n    {\n      \"column\": \"race\",\n      \"properties\": {\n        \"dtype\": \"category\",\n        \"num_unique_values\": 5,\n        \"samples\": [\n          \"Indian\",\n          \"Others\"\n        ],\n        \"semantic_type\": \"\",\n        \"description\": \"\"\n      }\n    },\n    {\n      \"column\": \"gender_code\",\n      \"properties\": {\n        \"dtype\": \"number\",\n        \"std\": 0,\n        \"min\": 0,\n        \"max\": 1,\n        \"num_unique_values\": 2,\n        \"samples\": [\n          1,\n          0\n        ],\n        \"semantic_type\": \"\",\n        \"description\": \"\"\n      }\n    },\n    {\n      \"column\": \"age_code\",\n      \"properties\": {\n        \"dtype\": \"number\",\n        \"std\": 1,\n        \"min\": 0,\n        \"max\": 8,\n        \"num_unique_values\": 9,\n        \"samples\": [\n          0,\n          4\n        ],\n        \"semantic_type\": \"\",\n        \"description\": \"\"\n      }\n    },\n    {\n      \"column\": \"race_code\",\n      \"properties\": {\n        \"dtype\": \"int8\",\n        \"num_unique_values\": 5,\n        \"samples\": [\n          3,\n          4\n        ],\n        \"semantic_type\": \"\",\n        \"description\": \"\"\n      }\n    }\n  ]\n}"
            }
          },
          "metadata": {},
          "execution_count": 11
        }
      ]
    },
    {
      "cell_type": "code",
      "source": [
        "from PIL import Image\n",
        "import numpy as np\n",
        "\n",
        "# Lists to store the extracted data\n",
        "images_fairface = []\n",
        "ages_fairface = df_fairface_raw['age_code'].tolist()  # List of age codes\n",
        "genders_fairface = df_fairface_raw['gender_code'].tolist()  # List of gender codes\n",
        "ethnicities_fairface = df_fairface_raw['race_code'].tolist()  # List of race codes"
      ],
      "metadata": {
        "id": "3k5xMa2JQ3KR"
      },
      "execution_count": 12,
      "outputs": []
    },
    {
      "cell_type": "code",
      "source": [
        "df_fairface_eda = df_fairface_raw[['age','gender','race']]\n",
        "df_fairface_code = df_fairface_raw[['file','age_code','gender_code','race_code']]"
      ],
      "metadata": {
        "id": "hDUnkraDvFL5"
      },
      "execution_count": 13,
      "outputs": []
    },
    {
      "cell_type": "markdown",
      "source": [
        "### Data test"
      ],
      "metadata": {
        "id": "ddOf39_HiPPh"
      }
    },
    {
      "cell_type": "code",
      "source": [
        "import cv2\n",
        "import matplotlib.pyplot as plt\n",
        "\n",
        "file_path = '/content/extracted/train/1.jpg'\n",
        "image = cv2.imread(file_path)\n",
        "\n",
        "# Convert BGR to RGB\n",
        "image_rgb = cv2.cvtColor(image, cv2.COLOR_BGR2RGB)\n",
        "\n",
        "# Display the image\n",
        "plt.imshow(image_rgb)\n",
        "plt.axis('off')  # Hide axes\n",
        "plt.show()\n",
        "\n",
        "# Print the shape of the image\n",
        "print(f\"Shape: {image.shape}\")"
      ],
      "metadata": {
        "id": "F7jV3zLCiR0F",
        "colab": {
          "base_uri": "https://localhost:8080/",
          "height": 423
        },
        "outputId": "95e675af-f1a1-4dc8-aab3-b4a28dc58e91"
      },
      "execution_count": 14,
      "outputs": [
        {
          "output_type": "display_data",
          "data": {
            "text/plain": [
              "<Figure size 640x480 with 1 Axes>"
            ],
            "image/png": "[encoded data removed]"
          },
          "metadata": {}
        },
        {
          "output_type": "stream",
          "name": "stdout",
          "text": [
            "Shape: (224, 224, 3)\n"
          ]
        }
      ]
    },
    {
      "cell_type": "code",
      "source": [],
      "metadata": {
        "id": "WI6fwojoI6jN"
      },
      "execution_count": 14,
      "outputs": []
    },
    {
      "cell_type": "markdown",
      "source": [
        "# 2. Loading and preprocessing data UTKface"
      ],
      "metadata": {
        "id": "CssBWYNRC96E"
      }
    },
    {
      "cell_type": "markdown",
      "source": [
        "## Download data"
      ],
      "metadata": {
        "id": "mJxsDfU0tDGc"
      }
    },
    {
      "cell_type": "code",
      "source": [
        "!pip install PyDrive"
      ],
      "metadata": {
        "colab": {
          "base_uri": "https://localhost:8080/"
        },
        "id": "nUu407pkDW78",
        "outputId": "9d465190-bff5-43eb-9510-660af0fff7af"
      },
      "execution_count": 15,
      "outputs": [
        {
          "output_type": "stream",
          "name": "stdout",
          "text": [
            "Requirement already satisfied: PyDrive in /usr/local/lib/python3.10/dist-packages (1.3.1)\n",
            "Requirement already satisfied: google-api-python-client>=1.2 in /usr/local/lib/python3.10/dist-packages (from PyDrive) (2.149.0)\n",
            "Requirement already satisfied: oauth2client>=4.0.0 in /usr/local/lib/python3.10/dist-packages (from PyDrive) (4.1.3)\n",
            "Requirement already satisfied: PyYAML>=3.0 in /usr/local/lib/python3.10/dist-packages (from PyDrive) (6.0.2)\n",
            "Requirement already satisfied: httplib2<1.dev0,>=0.19.0 in /usr/lib/python3/dist-packages (from google-api-python-client>=1.2->PyDrive) (0.20.2)\n",
            "Requirement already satisfied: google-auth!=2.24.0,!=2.25.0,<3.0.0.dev0,>=1.32.0 in /usr/local/lib/python3.10/dist-packages (from google-api-python-client>=1.2->PyDrive) (2.27.0)\n",
            "Requirement already satisfied: google-auth-httplib2<1.0.0,>=0.2.0 in /usr/local/lib/python3.10/dist-packages (from google-api-python-client>=1.2->PyDrive) (0.2.0)\n",
            "Requirement already satisfied: google-api-core!=2.0.*,!=2.1.*,!=2.2.*,!=2.3.0,<3.0.0.dev0,>=1.31.5 in /usr/local/lib/python3.10/dist-packages (from google-api-python-client>=1.2->PyDrive) (2.21.0)\n",
            "Requirement already satisfied: uritemplate<5,>=3.0.1 in /usr/local/lib/python3.10/dist-packages (from google-api-python-client>=1.2->PyDrive) (4.1.1)\n",
            "Requirement already satisfied: pyasn1>=0.1.7 in /usr/local/lib/python3.10/dist-packages (from oauth2client>=4.0.0->PyDrive) (0.6.1)\n",
            "Requirement already satisfied: pyasn1-modules>=0.0.5 in /usr/local/lib/python3.10/dist-packages (from oauth2client>=4.0.0->PyDrive) (0.4.1)\n",
            "Requirement already satisfied: rsa>=3.1.4 in /usr/local/lib/python3.10/dist-packages (from oauth2client>=4.0.0->PyDrive) (4.9)\n",
            "Requirement already satisfied: six>=1.6.1 in /usr/local/lib/python3.10/dist-packages (from oauth2client>=4.0.0->PyDrive) (1.16.0)\n",
            "Requirement already satisfied: googleapis-common-protos<2.0.dev0,>=1.56.2 in /usr/local/lib/python3.10/dist-packages (from google-api-core!=2.0.*,!=2.1.*,!=2.2.*,!=2.3.0,<3.0.0.dev0,>=1.31.5->google-api-python-client>=1.2->PyDrive) (1.65.0)\n",
            "Requirement already satisfied: protobuf!=3.20.0,!=3.20.1,!=4.21.0,!=4.21.1,!=4.21.2,!=4.21.3,!=4.21.4,!=4.21.5,<6.0.0.dev0,>=3.19.5 in /usr/local/lib/python3.10/dist-packages (from google-api-core!=2.0.*,!=2.1.*,!=2.2.*,!=2.3.0,<3.0.0.dev0,>=1.31.5->google-api-python-client>=1.2->PyDrive) (4.25.5)\n",
            "Requirement already satisfied: proto-plus<2.0.0dev,>=1.22.3 in /usr/local/lib/python3.10/dist-packages (from google-api-core!=2.0.*,!=2.1.*,!=2.2.*,!=2.3.0,<3.0.0.dev0,>=1.31.5->google-api-python-client>=1.2->PyDrive) (1.24.0)\n",
            "Requirement already satisfied: requests<3.0.0.dev0,>=2.18.0 in /usr/local/lib/python3.10/dist-packages (from google-api-core!=2.0.*,!=2.1.*,!=2.2.*,!=2.3.0,<3.0.0.dev0,>=1.31.5->google-api-python-client>=1.2->PyDrive) (2.32.3)\n",
            "Requirement already satisfied: cachetools<6.0,>=2.0.0 in /usr/local/lib/python3.10/dist-packages (from google-auth!=2.24.0,!=2.25.0,<3.0.0.dev0,>=1.32.0->google-api-python-client>=1.2->PyDrive) (5.5.0)\n",
            "Requirement already satisfied: pyparsing!=3.0.0,!=3.0.1,!=3.0.2,!=3.0.3,<4,>=2.4.2 in /usr/local/lib/python3.10/dist-packages (from httplib2<1.dev0,>=0.19.0->google-api-python-client>=1.2->PyDrive) (3.2.0)\n",
            "Requirement already satisfied: charset-normalizer<4,>=2 in /usr/local/lib/python3.10/dist-packages (from requests<3.0.0.dev0,>=2.18.0->google-api-core!=2.0.*,!=2.1.*,!=2.2.*,!=2.3.0,<3.0.0.dev0,>=1.31.5->google-api-python-client>=1.2->PyDrive) (3.4.0)\n",
            "Requirement already satisfied: idna<4,>=2.5 in /usr/local/lib/python3.10/dist-packages (from requests<3.0.0.dev0,>=2.18.0->google-api-core!=2.0.*,!=2.1.*,!=2.2.*,!=2.3.0,<3.0.0.dev0,>=1.31.5->google-api-python-client>=1.2->PyDrive) (3.10)\n",
            "Requirement already satisfied: urllib3<3,>=1.21.1 in /usr/local/lib/python3.10/dist-packages (from requests<3.0.0.dev0,>=2.18.0->google-api-core!=2.0.*,!=2.1.*,!=2.2.*,!=2.3.0,<3.0.0.dev0,>=1.31.5->google-api-python-client>=1.2->PyDrive) (2.2.3)\n",
            "Requirement already satisfied: certifi>=2017.4.17 in /usr/local/lib/python3.10/dist-packages (from requests<3.0.0.dev0,>=2.18.0->google-api-core!=2.0.*,!=2.1.*,!=2.2.*,!=2.3.0,<3.0.0.dev0,>=1.31.5->google-api-python-client>=1.2->PyDrive) (2024.8.30)\n"
          ]
        }
      ]
    },
    {
      "cell_type": "code",
      "source": [
        "from pydrive.auth import GoogleAuth\n",
        "from pydrive.drive import GoogleDrive\n",
        "from google.colab import auth\n",
        "from oauth2client.client import GoogleCredentials\n",
        "import os\n",
        "import tarfile\n",
        "\n",
        "# Authenticate PyDrive\n",
        "auth.authenticate_user()\n",
        "gauth = GoogleAuth()\n",
        "gauth.credentials = GoogleCredentials.get_application_default()\n",
        "drive = GoogleDrive(gauth)\n",
        "\n",
        "# Folder ID from the shared Google Drive folder\n",
        "folder_id = '1HROmgviy4jUUUaCdvvrQ8PcqtNg2jn3G'\n",
        "file_list = drive.ListFile({'q': f\"'{folder_id}' in parents and trashed=false\"}).GetList()\n",
        "\n",
        "# Loop through the files and download each .tar.gz file\n",
        "for file in file_list:\n",
        "    if file['title'].endswith('.tar.gz'):\n",
        "        print(f'Downloading {file[\"title\"]}')\n",
        "        file.GetContentFile(file['title'])\n",
        "\n",
        "        # Extract the .tar.gz file\n",
        "        tar = tarfile.open(file['title'])\n",
        "        tar.extractall('/content/extracted')  # Extract all files to /content/extracted directory\n",
        "        tar.close()\n",
        "\n",
        "        print(f'Extracted {file[\"title\"]}')"
      ],
      "metadata": {
        "colab": {
          "base_uri": "https://localhost:8080/"
        },
        "id": "aPYEdpGKE4Pd",
        "outputId": "5d0a0702-72c4-4bd5-9ef4-7df75cec7555"
      },
      "execution_count": 16,
      "outputs": [
        {
          "output_type": "stream",
          "name": "stdout",
          "text": [
            "Downloading part3.tar.gz\n",
            "Extracted part3.tar.gz\n",
            "Downloading part2.tar.gz\n",
            "Extracted part2.tar.gz\n",
            "Downloading part1.tar.gz\n",
            "Extracted part1.tar.gz\n"
          ]
        }
      ]
    },
    {
      "cell_type": "markdown",
      "source": [
        "## Data Preprocessing"
      ],
      "metadata": {
        "id": "wyX9gD3s9C3I"
      }
    },
    {
      "cell_type": "markdown",
      "source": [
        "### Data test"
      ],
      "metadata": {
        "id": "_4m0Fd6y9G9d"
      }
    },
    {
      "cell_type": "code",
      "source": [
        "import cv2\n",
        "import matplotlib.pyplot as plt\n",
        "\n",
        "file_path = '/content/extracted/part3/100_1_0_20170119212053665.jpg'\n",
        "image = cv2.imread(file_path)\n",
        "\n",
        "# Convert BGR to RGB\n",
        "image_rgb = cv2.cvtColor(image, cv2.COLOR_BGR2RGB)\n",
        "\n",
        "# Display the image\n",
        "plt.imshow(image_rgb)\n",
        "plt.axis('off')  # Hide axes\n",
        "plt.show()\n",
        "\n",
        "# Print the shape of the image\n",
        "print(f\"Shape: {image.shape}\")\n"
      ],
      "metadata": {
        "colab": {
          "base_uri": "https://localhost:8080/",
          "height": 423
        },
        "id": "sjS9qqZe9Euv",
        "outputId": "63166251-750b-40f1-e6f2-2129c62f6405"
      },
      "execution_count": 17,
      "outputs": [
        {
          "output_type": "display_data",
          "data": {
            "text/plain": [
              "<Figure size 640x480 with 1 Axes>"
            ],
            "image/png": "[encoded data removed]"
          },
          "metadata": {}
        },
        {
          "output_type": "stream",
          "name": "stdout",
          "text": [
            "Shape: (551, 368, 3)\n"
          ]
        }
      ]
    },
    {
      "cell_type": "markdown",
      "source": [
        "### Delete non-images"
      ],
      "metadata": {
        "id": "Ns7pLvrn9MKY"
      }
    },
    {
      "cell_type": "code",
      "source": [
        "import os\n",
        "\n",
        "def delete_non_image_files(directories, allowed_extensions=('.jpg', '.jpeg', '.png', '.bmp', '.tiff')):\n",
        "    for directory in directories:\n",
        "        for filename in os.listdir(directory):\n",
        "            if not filename.lower().endswith(allowed_extensions):\n",
        "                file_path = os.path.join(directory, filename)\n",
        "                os.remove(file_path)\n",
        "                print(f\"Deleted: {file_path}\")\n",
        "\n",
        "# Specify the directories\n",
        "directories = [\n",
        "    '/content/extracted/part1',\n",
        "    '/content/extracted/part2',\n",
        "    '/content/extracted/part3'\n",
        "]\n",
        "\n",
        "# Run the function to delete non-image files\n",
        "delete_non_image_files(directories)"
      ],
      "metadata": {
        "colab": {
          "base_uri": "https://localhost:8080/"
        },
        "id": "XxVIkCYm9Q8D",
        "outputId": "48752222-40c9-4695-8aa9-bcd7cd2171da"
      },
      "execution_count": 18,
      "outputs": [
        {
          "output_type": "stream",
          "name": "stdout",
          "text": [
            "Deleted: /content/extracted/part3/44_1_4_20170116235150272.pg\n",
            "Deleted: /content/extracted/part3/55_0_0_20170116232725357jpg\n",
            "Deleted: /content/extracted/part3/.DS_Store\n"
          ]
        }
      ]
    },
    {
      "cell_type": "markdown",
      "source": [
        "### Delete invalid mesasges"
      ],
      "metadata": {
        "id": "Wx6luy6a9SLj"
      }
    },
    {
      "cell_type": "code",
      "source": [
        "import os\n",
        "import re\n",
        "\n",
        "def delete_invalid_images(directories):\n",
        "    # Regular expression pattern to match the desired format\n",
        "    pattern = re.compile(r'^\\d+_\\d+_\\d+_\\d+\\.\\w+$')\n",
        "\n",
        "    for directory in directories:\n",
        "        for filename in os.listdir(directory):\n",
        "            # Check if the filename matches the desired pattern\n",
        "            if not pattern.match(filename):\n",
        "                file_path = os.path.join(directory, filename)\n",
        "                os.remove(file_path)\n",
        "                print(f\"Deleted: {file_path}\")\n",
        "\n",
        "# Specify the directories\n",
        "directories = [\n",
        "    '/content/extracted/part1',\n",
        "    '/content/extracted/part2',\n",
        "    '/content/extracted/part3'\n",
        "]\n",
        "\n",
        "# Run the function to delete invalid images\n",
        "delete_invalid_images(directories)"
      ],
      "metadata": {
        "colab": {
          "base_uri": "https://localhost:8080/"
        },
        "id": "hAjFIOtv9Wmm",
        "outputId": "56c2abce-9536-4358-eadd-14da0c7bec8f"
      },
      "execution_count": 19,
      "outputs": [
        {
          "output_type": "stream",
          "name": "stdout",
          "text": [
            "Deleted: /content/extracted/part1/61_1_20170109142408075.jpg\n",
            "Deleted: /content/extracted/part1/61_3_20170109150557335.jpg\n",
            "Deleted: /content/extracted/part2/53__0_20170116184028385.jpg\n",
            "Deleted: /content/extracted/part2/39_1_20170116174525125.jpg\n",
            "Deleted: /content/extracted/part3/24_0_1_20170116220224657 .jpg\n"
          ]
        }
      ]
    },
    {
      "cell_type": "markdown",
      "source": [
        "### Creating lists for training"
      ],
      "metadata": {
        "id": "elhhE-b49jy6"
      }
    },
    {
      "cell_type": "code",
      "source": [
        "import os\n",
        "import cv2\n",
        "import numpy as np\n",
        "import pandas as pd\n",
        "from pathlib import Path\n",
        "\n",
        "# Specify the directories\n",
        "directories = [\n",
        "    '/content/extracted/part1',\n",
        "    '/content/extracted/part2',\n",
        "    '/content/extracted/part3'\n",
        "]\n",
        "\n",
        "# Initialize lists to store images and labels\n",
        "images = []\n",
        "ages_utkface = []\n",
        "genders_utkface = []\n",
        "ethnicities_utkface = []\n",
        "files_utkface = []  # New list to store file paths\n",
        "\n",
        "# Process each directory\n",
        "for directory in directories:\n",
        "    print(f\"Processing from: {directory}\")\n",
        "    files = os.listdir(directory)\n",
        "\n",
        "    for file in files:\n",
        "        file_path = os.path.join(directory, file)  # Create the full file path\n",
        "\n",
        "        if image is not None:  # Check if the image was loaded successfully\n",
        "            # Parse filename to extract labels\n",
        "            split_var = file.split('_')\n",
        "            ages_utkface.append(int(split_var[0]))\n",
        "            genders_utkface.append(int(split_var[1]))\n",
        "            ethnicities_utkface.append(int(split_var[2]))\n",
        "            files_utkface.append(file_path)  # Store the file path in the list\n",
        "        else:\n",
        "            print(f\"Failed to load image: {file_path}\")\n",
        "\n",
        "# Create a dataframe from the lists\n",
        "df_utkface = pd.DataFrame({\n",
        "    'age': ages_utkface,\n",
        "    'gender': genders_utkface,\n",
        "    'ethnicity': ethnicities_utkface,\n",
        "    'file': files_utkface  # Add the file paths as a column\n",
        "})"
      ],
      "metadata": {
        "colab": {
          "base_uri": "https://localhost:8080/"
        },
        "id": "GzG6YN1y9jOS",
        "outputId": "0082a584-43ea-4b56-abb8-7b43b3666a7f"
      },
      "execution_count": 20,
      "outputs": [
        {
          "output_type": "stream",
          "name": "stdout",
          "text": [
            "Processing from: /content/extracted/part1\n",
            "Processing from: /content/extracted/part2\n",
            "Processing from: /content/extracted/part3\n"
          ]
        }
      ]
    },
    {
      "cell_type": "code",
      "source": [
        "# Create a DataFrame from the lists\n",
        "df_utkface_raw = pd.DataFrame({\n",
        "    'file': files_utkface,\n",
        "    'age_raw': ages_utkface,\n",
        "    'gender_code': genders_utkface,\n",
        "    'race_code': ethnicities_utkface\n",
        "})"
      ],
      "metadata": {
        "id": "OAD8x1bBwdPX"
      },
      "execution_count": 21,
      "outputs": []
    },
    {
      "cell_type": "markdown",
      "source": [
        "## Mapping"
      ],
      "metadata": {
        "id": "Dt1nZNo9wFDG"
      }
    },
    {
      "cell_type": "code",
      "source": [
        "### Mapping age\n",
        "# Define the age mapping function\n",
        "def map_age(age):\n",
        "    if age <= 2:\n",
        "        return '0-2'\n",
        "    elif 3 <= age <= 9:\n",
        "        return '3-9'\n",
        "    elif 10 <= age <= 19:\n",
        "        return '10-19'\n",
        "    elif 20 <= age <= 29:\n",
        "        return '20-29'\n",
        "    elif 30 <= age <= 39:\n",
        "        return '30-39'\n",
        "    elif 40 <= age <= 49:\n",
        "        return '40-49'\n",
        "    elif 50 <= age <= 59:\n",
        "        return '50-59'\n",
        "    elif 60 <= age <= 69:\n",
        "        return '60-69'\n",
        "    else:\n",
        "        return '70+'\n",
        "\n",
        "# Map the 'age_raw' column to the 'age' column\n",
        "df_utkface_raw['age'] = df_utkface_raw['age_raw'].apply(map_age)\n",
        "\n",
        "# Setting the desired order for 'age'\n",
        "age_order = ['0-2', '3-9', '10-19', '20-29', '30-39', '40-49', '50-59', '60-69', '70+']\n",
        "df_utkface_raw['age'] = df_utkface_raw['age'].astype('category')\n",
        "df_utkface_raw['age'] = df_utkface_raw['age'].cat.set_categories(age_order, ordered=True)\n",
        "\n",
        "# Encoding the age groups\n",
        "df_utkface_raw['age_code'] = df_utkface_raw['age'].cat.codes"
      ],
      "metadata": {
        "id": "ZXTbxNa7wBqB"
      },
      "execution_count": 22,
      "outputs": []
    },
    {
      "cell_type": "code",
      "source": [
        "# Mapping gender\n",
        "# Define gender mapping\n",
        "gender_map = {0: 'Male', 1: 'Female'}\n",
        "\n",
        "# Map 'gender_code' to the 'gender' column\n",
        "df_utkface_raw['gender'] = df_utkface_raw['gender_code'].map(gender_map)\n",
        "\n",
        "# Mapping race\n",
        "# Define race mapping based on the specified order\n",
        "race_map_utk = {0: 'White', 1: 'Black', 2: 'Asian', 3: 'Indian', 4: 'Others'}\n",
        "\n",
        "# Map 'race_code' to the 'race' column\n",
        "df_utkface_raw['race'] = df_utkface_raw['race_code'].map(race_map_utk)"
      ],
      "metadata": {
        "id": "ZExb2fB5x0HQ"
      },
      "execution_count": 23,
      "outputs": []
    },
    {
      "cell_type": "code",
      "source": [
        "df_utkface_code = df_utkface_raw[['file','age_code','gender_code','race_code']]\n",
        "df_utkface_eda = df_utkface_raw[['age','gender','race']]"
      ],
      "metadata": {
        "id": "ZFKERsXay1aa"
      },
      "execution_count": 24,
      "outputs": []
    },
    {
      "cell_type": "code",
      "source": [],
      "metadata": {
        "id": "IARRbYXUK_rr"
      },
      "execution_count": null,
      "outputs": []
    },
    {
      "cell_type": "code",
      "source": [],
      "metadata": {
        "id": "WPnnG7W2LD-u"
      },
      "execution_count": null,
      "outputs": []
    },
    {
      "cell_type": "markdown",
      "source": [
        "# 4. Normalizing age group distribution\n",
        "Methods\n",
        "1. Age groups 0-2 and 3-9 are combined into 0-9\n",
        "3. Add data from UTKface to: 0-9, 10-19, 40-49, 50-59, 60-69, and 70+"
      ],
      "metadata": {
        "id": "_3S7zROZ666m"
      }
    },
    {
      "cell_type": "markdown",
      "source": [
        "## Current distributions"
      ],
      "metadata": {
        "id": "GoBi5pRT6EmJ"
      }
    },
    {
      "cell_type": "code",
      "source": [
        "import matplotlib.pyplot as plt\n",
        "import seaborn as sns\n",
        "\n",
        "# Create a figure with two subplots\n",
        "fig, axes = plt.subplots(1, 2, figsize=(16, 6), sharey=True)\n",
        "\n",
        "# Plot the first distribution for the UTKFace dataset\n",
        "sns.countplot(data=df_utkface_code, x='age_code', ax=axes[0])\n",
        "axes[0].set_title('Age Group Distribution UTKFace')\n",
        "axes[0].set_xlabel('Age Group')\n",
        "axes[0].set_ylabel('Count')\n",
        "axes[0].set_xticks(range(len(age_map)))\n",
        "axes[0].set_xticklabels(age_map.keys())\n",
        "\n",
        "# Plot the second distribution for the FairFace dataset\n",
        "sns.countplot(data=df_fairface_code, x='age_code', ax=axes[1])\n",
        "axes[1].set_title('Age Group Distribution FairFace')\n",
        "axes[1].set_xlabel('Age Group')\n",
        "axes[1].set_ylabel('Count')\n",
        "axes[1].set_xticks(range(len(age_map)))\n",
        "axes[1].set_xticklabels(age_map.keys())\n",
        "\n",
        "# Adjust the layout and show the plots\n",
        "plt.suptitle('Age Group Distribution Comparison between UTKFace and FairFace Datasets')\n",
        "plt.tight_layout()\n",
        "plt.show()"
      ],
      "metadata": {
        "colab": {
          "base_uri": "https://localhost:8080/",
          "height": 432
        },
        "id": "6UuPUxzyNum0",
        "outputId": "b31368fb-ed4e-4d84-b512-4870128d8a82"
      },
      "execution_count": 88,
      "outputs": [
        {
          "output_type": "display_data",
          "data": {
            "text/plain": [
              "<Figure size 1600x600 with 2 Axes>"
            ],
            "image/png": "[encoded data removed]"
          },
          "metadata": {}
        }
      ]
    },
    {
      "cell_type": "markdown",
      "source": [
        "## Fairface"
      ],
      "metadata": {
        "id": "DkUL9d0_2e9S"
      }
    },
    {
      "cell_type": "code",
      "source": [
        "# Step 1: Define the mapping to merge age groups\n",
        "def merge_age_groups(age_code):\n",
        "    if age_code in [0, 1]:\n",
        "        return 0  # Merge age groups 0 (0-2) and 1 (3-9)\n",
        "    #elif age_code in [6, 7, 8]:\n",
        "        #return 7  # Merge age groups 7(60-69), and 8(70+) into group 7(60-69)\n",
        "    else:\n",
        "        return age_code  # Keep other age groups unchanged\n",
        "\n",
        "# Make sure df_fairface is a true copy to avoid modifying a slice\n",
        "df_fairface = df_fairface_code.copy()\n",
        "\n",
        "# Apply the merge mapping to the 'age_code' column using .loc to avoid SettingWithCopyWarning\n",
        "df_fairface.loc[:, 'age_code'] = df_fairface['age_code'].map(merge_age_groups)\n",
        "\n",
        "# Step 2: Create a sequential mapping for the merged groups\n",
        "sequential_mapping = {\n",
        "    0: 0,  # '0-9'\n",
        "    2: 1,  # '10-19'\n",
        "    3: 2,  # '20-29'\n",
        "    4: 3,  # '30-39'\n",
        "    5: 4,  # '40-49'\n",
        "    6: 5,  # 50-59\n",
        "    7: 6,  # 60-69\n",
        "    8: 7,  # 70+\n",
        "}\n",
        "\n",
        "# Apply the sequential mapping using .loc\n",
        "df_fairface.loc[:, 'age_code'] = df_fairface['age_code'].map(sequential_mapping)\n",
        "\n",
        "# Step 3: Update the age group labels accordingly\n",
        "age_group_mapping = {\n",
        "    0: '0-9',     # Group 0\n",
        "    1: '10-19',   # Group 1 (previously group 2)\n",
        "    2: '20-29',   # Group 2\n",
        "    3: '30-39',   # Group 3\n",
        "    4: '40-49',   # Group 4\n",
        "    5: '50-59',   # Group 5 (previously group 6)\n",
        "    6: '60-69',   # Group 6 (previously group 7)\n",
        "    7: '70+',   # Group 7 (previously group 8)\n",
        "}\n",
        "\n",
        "# Map the new age group labels based on the updated 'age_code' using .loc\n",
        "df_fairface.loc[:, 'age'] = df_fairface['age_code'].map(age_group_mapping)\n"
      ],
      "metadata": {
        "id": "BpwmaCpmLHdX"
      },
      "execution_count": 89,
      "outputs": []
    },
    {
      "cell_type": "code",
      "source": [
        "import matplotlib.pyplot as plt\n",
        "import seaborn as sns\n",
        "\n",
        "# Define the correct order of the age groups based on the mapping\n",
        "age_order = sorted(df_fairface['age_code'].unique())\n",
        "age_labels = [age_group_mapping[code] for code in age_order]  # Corresponding labels\n",
        "\n",
        "# Plot the countplot with the specified order and labels\n",
        "sns.countplot(data=df_fairface, x='age_code', order=age_order)\n",
        "plt.xticks(ticks=age_order, labels=age_labels)  # Set the x-tick labels directly\n",
        "\n",
        "# Adding plot labels\n",
        "plt.title('FairFace Age Group Distribution After Merging')\n",
        "plt.xlabel('Age Group')\n",
        "plt.ylabel('Count')\n",
        "\n",
        "# Show the plot\n",
        "plt.show()"
      ],
      "metadata": {
        "colab": {
          "base_uri": "https://localhost:8080/",
          "height": 472
        },
        "id": "D5R6HHgOIoFG",
        "outputId": "dec439ea-baec-43d3-bd85-de949597cad9"
      },
      "execution_count": 90,
      "outputs": [
        {
          "output_type": "display_data",
          "data": {
            "text/plain": [
              "<Figure size 640x480 with 1 Axes>"
            ],
            "image/png": "[encoded data removed]"
          },
          "metadata": {}
        }
      ]
    },
    {
      "cell_type": "markdown",
      "source": [
        "## UTKFace"
      ],
      "metadata": {
        "id": "2geFVm7538-x"
      }
    },
    {
      "cell_type": "code",
      "source": [
        "# Step 1: Define the mapping to merge age groups\n",
        "def merge_age_groups(age_code):\n",
        "    if age_code in [0, 1]:\n",
        "        return 0  # Merge age groups 0 (0-2) and 1 (3-9)\n",
        "    #elif age_code in [7, 8]:\n",
        "        #return 7  # Merge age groups 7(60-69), and 8(70+) into group 7(60-69)\n",
        "    else:\n",
        "        return age_code  # Keep other age groups unchanged\n",
        "\n",
        "# Make sure df_fairface is a true copy to avoid modifying a slice\n",
        "df_utkface = df_utkface_code.copy()\n",
        "\n",
        "# Explicitly cast the 'age_code' column to a larger integer type to avoid dtype issues\n",
        "df_utkface['age_code'] = df_utkface['age_code'].astype('int64')\n",
        "\n",
        "# Apply the merge mapping to the 'age_code' column using .loc to avoid SettingWithCopyWarning\n",
        "df_utkface.loc[:, 'age_code'] = df_utkface['age_code'].map(merge_age_groups)\n",
        "\n",
        "# Step 2: Create a sequential mapping for the merged groups\n",
        "sequential_mapping = {\n",
        "    0: 0,  # '0-9'\n",
        "    2: 1,  # '10-19'\n",
        "    3: 2,  # '20-29'\n",
        "    4: 3,  # '30-39'\n",
        "    5: 4,  # '40-49'\n",
        "    6: 5,  # 50-59\n",
        "    7: 6,  # 60-69\n",
        "    8: 7,  # 70+\n",
        "}\n",
        "\n",
        "# Apply the sequential mapping using .loc\n",
        "df_utkface.loc[:, 'age_code'] = df_utkface['age_code'].map(sequential_mapping)\n",
        "\n",
        "# Step 3: Update the age group labels accordingly\n",
        "age_group_mapping = {\n",
        "    0: '0-9',     # Group 0\n",
        "    1: '10-19',   # Group 1 (previously group 2)\n",
        "    2: '20-29',   # Group 2\n",
        "    3: '30-39',   # Group 3\n",
        "    4: '40-49',   # Group 4\n",
        "    5: '50-59',   # Group 5 (previously group 6)\n",
        "    6: '60-69',   # Group 6 (previously group 7)\n",
        "    7: '70+',   # Group 7 (previously group 8)\n",
        "}\n",
        "\n",
        "# Map the new age group labels based on the updated 'age_code' using .loc\n",
        "df_utkface.loc[:, 'age'] = df_utkface['age_code'].map(age_group_mapping)"
      ],
      "metadata": {
        "id": "kJTDaw05LWQG"
      },
      "execution_count": 91,
      "outputs": []
    },
    {
      "cell_type": "code",
      "source": [
        "import matplotlib.pyplot as plt\n",
        "import seaborn as sns\n",
        "\n",
        "# Define the correct order of the age groups based on the mapping\n",
        "age_order = sorted(df_utkface['age_code'].unique())\n",
        "age_labels = [age_group_mapping[code] for code in age_order]  # Corresponding labels\n",
        "\n",
        "# Plot the countplot with the specified order and labels\n",
        "sns.countplot(data=df_utkface, x='age_code', order=age_order)\n",
        "plt.xticks(ticks=age_order, labels=age_labels)  # Set the x-tick labels directly\n",
        "\n",
        "# Adding plot labels\n",
        "plt.title('UTKface Age Group Distribution After Merging')\n",
        "plt.xlabel('Age Group')\n",
        "plt.ylabel('Count')\n",
        "\n",
        "# Show the plot\n",
        "plt.show()"
      ],
      "metadata": {
        "colab": {
          "base_uri": "https://localhost:8080/",
          "height": 472
        },
        "id": "5J7t6sMKQHkr",
        "outputId": "8e97082c-7e9f-4da7-8bbb-a37ed5403547"
      },
      "execution_count": 92,
      "outputs": [
        {
          "output_type": "display_data",
          "data": {
            "text/plain": [
              "<Figure size 640x480 with 1 Axes>"
            ],
            "image/png": "[encoded data removed]"
          },
          "metadata": {}
        }
      ]
    },
    {
      "cell_type": "markdown",
      "source": [
        "## Concatenating age groups 0, 1, 4, 5, and 6\n",
        "- Age groups: 0-9, 10-19, 40-49, 50-59, and 60+"
      ],
      "metadata": {
        "id": "hbIxdUs3RbOl"
      }
    },
    {
      "cell_type": "code",
      "source": [
        "import pandas as pd\n",
        "\n",
        "# Step 1: Filter `df_utkface` to include only the specified age groups\n",
        "filtered_utkface = df_utkface[df_utkface['age_code'].isin([0, 1, 4, 5, 6, 7])]\n",
        "\n",
        "# Add columns indicating if the image is from UTK or FairFace\n",
        "filtered_utkface['dataset'] = 'UTK'\n",
        "df_fairface['dataset'] = 'FairFace'\n",
        "\n",
        "# Step 2: Concatenate the filtered `df_utkface` with `df_fairface`\n",
        "df = pd.concat([df_fairface, filtered_utkface], ignore_index=True)\n",
        "\n",
        "# Define the correct order of the age groups based on the mapping\n",
        "age_order = sorted(df['age_code'].unique())\n",
        "age_labels = [age_group_mapping[code] for code in age_order]  # Corresponding labels\n",
        "\n",
        "# Plot the countplot with the specified order and labels\n",
        "sns.countplot(data=df, x='age_code', order=age_order)\n",
        "plt.xticks(ticks=age_order, labels=age_labels)  # Set the x-tick labels directly\n",
        "\n",
        "# Adding plot labels\n",
        "plt.title('Combined Datasets Age Group Distribution')\n",
        "plt.xlabel('Age Group')\n",
        "plt.ylabel('Count')\n",
        "\n",
        "# Show the plot\n",
        "plt.show()"
      ],
      "metadata": {
        "colab": {
          "base_uri": "https://localhost:8080/",
          "height": 576
        },
        "id": "bCVKRLj5Rh7a",
        "outputId": "3f3b5c51-dd3d-4d0b-abe8-bdcff7e634e7"
      },
      "execution_count": 93,
      "outputs": [
        {
          "output_type": "stream",
          "name": "stderr",
          "text": [
            "<ipython-input-93-aa1b0141c384>:7: SettingWithCopyWarning: \n",
            "A value is trying to be set on a copy of a slice from a DataFrame.\n",
            "Try using .loc[row_indexer,col_indexer] = value instead\n",
            "\n",
            "See the caveats in the documentation: https://pandas.pydata.org/pandas-docs/stable/user_guide/indexing.html#returning-a-view-versus-a-copy\n",
            "  filtered_utkface['dataset'] = 'UTK'\n"
          ]
        },
        {
          "output_type": "display_data",
          "data": {
            "text/plain": [
              "<Figure size 640x480 with 1 Axes>"
            ],
            "image/png": "[encoded data removed]"
          },
          "metadata": {}
        }
      ]
    },
    {
      "cell_type": "code",
      "source": [
        "df['age_code'] = df['age_code'].apply(lambda x: 0 if 0 <= x <= 2 else 1)"
      ],
      "metadata": {
        "id": "VLWBEm-bL6Tp"
      },
      "execution_count": 94,
      "outputs": []
    },
    {
      "cell_type": "markdown",
      "source": [
        "# 5. Downsample and split data into train, val and test"
      ],
      "metadata": {
        "id": "M00GqGALJzbk"
      }
    },
    {
      "cell_type": "code",
      "source": [
        "df.shape"
      ],
      "metadata": {
        "colab": {
          "base_uri": "https://localhost:8080/"
        },
        "id": "4haUxRPlw-NM",
        "outputId": "e17f6f01-5959-4fe9-85bb-059a5ee3d1e0"
      },
      "execution_count": 95,
      "outputs": [
        {
          "output_type": "execute_result",
          "data": {
            "text/plain": [
              "(109890, 6)"
            ]
          },
          "metadata": {},
          "execution_count": 95
        }
      ]
    },
    {
      "cell_type": "code",
      "source": [
        "# Find age group with lowest n\n",
        "lowest_n = df['age'].value_counts().sort_values(ascending=True).iloc[0]\n",
        "\n",
        "# Downsample\n",
        "df_down = df.groupby('age').apply(lambda x: x.sample(lowest_n)).reset_index(drop=True)\n",
        "\n",
        "# Display\n",
        "df_down.head()\n",
        "\n",
        "df_down.groupby('age_code').size()"
      ],
      "metadata": {
        "colab": {
          "base_uri": "https://localhost:8080/",
          "height": 233
        },
        "id": "QdNWodykxBpi",
        "outputId": "71f30835-8179-407b-c786-2b2c5a80179f"
      },
      "execution_count": 96,
      "outputs": [
        {
          "output_type": "stream",
          "name": "stderr",
          "text": [
            "<ipython-input-96-6af78e0d1284>:5: DeprecationWarning: DataFrameGroupBy.apply operated on the grouping columns. This behavior is deprecated, and in a future version of pandas the grouping columns will be excluded from the operation. Either pass `include_groups=False` to exclude the groupings or explicitly select the grouping columns after groupby to silence this warning.\n",
            "  df_down = df.groupby('age').apply(lambda x: x.sample(lowest_n)).reset_index(drop=True)\n"
          ]
        },
        {
          "output_type": "execute_result",
          "data": {
            "text/plain": [
              "age_code\n",
              "0     7122\n",
              "1    11870\n",
              "dtype: int64"
            ],
            "text/html": [
              "<div>\n",
              "<style scoped>\n",
              "    .dataframe tbody tr th:only-of-type {\n",
              "        vertical-align: middle;\n",
              "    }\n",
              "\n",
              "    .dataframe tbody tr th {\n",
              "        vertical-align: top;\n",
              "    }\n",
              "\n",
              "    .dataframe thead th {\n",
              "        text-align: right;\n",
              "    }\n",
              "</style>\n",
              "<table border=\"1\" class=\"dataframe\">\n",
              "  <thead>\n",
              "    <tr style=\"text-align: right;\">\n",
              "      <th></th>\n",
              "      <th>0</th>\n",
              "    </tr>\n",
              "    <tr>\n",
              "      <th>age_code</th>\n",
              "      <th></th>\n",
              "    </tr>\n",
              "  </thead>\n",
              "  <tbody>\n",
              "    <tr>\n",
              "      <th>0</th>\n",
              "      <td>7122</td>\n",
              "    </tr>\n",
              "    <tr>\n",
              "      <th>1</th>\n",
              "      <td>11870</td>\n",
              "    </tr>\n",
              "  </tbody>\n",
              "</table>\n",
              "</div><br><label><b>dtype:</b> int64</label>"
            ]
          },
          "metadata": {},
          "execution_count": 96
        }
      ]
    },
    {
      "cell_type": "markdown",
      "source": [
        "### Race codes\n",
        "\n",
        "#### UTKFace:\n",
        "\n",
        "0: 'White'\n",
        "\n",
        "1: 'Black'\n",
        "\n",
        "2: 'Asian'\n",
        "\n",
        "3: 'Indian'\n",
        "\n",
        "4: 'Others'\n",
        "\n",
        "\n",
        "#### FairFace:\n",
        "\n",
        "0: 'White'\n",
        "\n",
        "1: 'Black'\n",
        "\n",
        "2: 'Asian'\n",
        "\n",
        "3: 'Indian'\n",
        "\n",
        "4: 'Others'"
      ],
      "metadata": {
        "id": "K42w5HM3vPay"
      }
    },
    {
      "cell_type": "code",
      "source": [
        "from keras.applications.resnet_v2 import preprocess_input  # Update the import for ResNet50V2\n",
        "from keras.applications import ResNet50V2  # Import the ResNet50V2 model\n",
        "from keras import layers, models  # Import the required modules\n",
        "\n",
        "# Step 1: Create lists of images and labels\n",
        "images, ages, races, genders = create_lists(df_down)\n",
        "print(f\"Loaded {len(images)} images.\")\n",
        "\n",
        "# Step 2: Apply ResNet preprocessing\n",
        "images_preprocessed = preprocess_input(images)\n",
        "\n",
        "# Step 3: Get the number of classes for each target variable\n",
        "num_classes_age = len(set(ages))\n",
        "num_classes_gender = len(set(genders))\n",
        "num_classes_ethnicity = len(set(races))\n",
        "print(f\"Number of age classes: {num_classes_age}\")\n",
        "print(f\"Number of gender classes: {num_classes_gender}\")\n",
        "print(f\"Number of ethnicity classes: {num_classes_ethnicity}\")\n",
        "\n",
        "# Step 4: Split the preprocessed data into training, validation, and test sets\n",
        "X_train, X_val, X_test, y_train_age, y_val_age, y_test_age, y_train_races, y_val_races, y_test_races, y_train_gender, y_val_gender, y_test_gender = split_data(images_preprocessed, ages, races, genders)\n",
        "\n",
        "# Print the shapes of the resulting datasets\n",
        "print(f\"Training set shape: {X_train.shape}\")\n",
        "print(f\"Validation set shape: {X_val.shape}\")\n",
        "print(f\"Test set shape: {X_test.shape}\")\n",
        "\n"
      ],
      "metadata": {
        "id": "24Oo1AX0EwKO",
        "outputId": "60a1af4b-da4f-4287-c56e-61815e4d7603",
        "colab": {
          "base_uri": "https://localhost:8080/"
        }
      },
      "execution_count": 55,
      "outputs": [
        {
          "output_type": "stream",
          "name": "stdout",
          "text": [
            "Loaded 18992 images.\n",
            "Number of age classes: 2\n",
            "Number of gender classes: 2\n",
            "Number of ethnicity classes: 5\n",
            "Training set: (7122, 224, 224, 3), Training labels: (7122,)\n",
            "Age validation set: (1899, 224, 224, 3), Age validation labels: (1899,)\n",
            "Age test set: (475, 224, 224, 3), Age test labels: (475,)\n",
            "Race validation labels: (1899,)\n",
            "Race test labels: (475,)\n",
            "Gender validation labels: (1899,)\n",
            "Gender test labels: (475,)\n",
            "Training set shape: (7122, 224, 224, 3)\n",
            "Validation set shape: (1899, 224, 224, 3)\n",
            "Test set shape: (475, 224, 224, 3)\n"
          ]
        }
      ]
    },
    {
      "cell_type": "code",
      "source": [],
      "metadata": {
        "id": "198nI0TjR6K6"
      },
      "execution_count": null,
      "outputs": []
    },
    {
      "cell_type": "markdown",
      "source": [
        "# 7. Baseline ResNet50V2\n",
        "- learning rate at 0.00015 (1,5e-4)"
      ],
      "metadata": {
        "id": "g-4tum-k8I3C"
      }
    },
    {
      "cell_type": "code",
      "source": [
        "# Now proceed with the ResNet50V2 model using the preprocessed images\n",
        "conv_base = ResNet50V2(\n",
        "    include_top=False,  # Exclude the top fully connected layers\n",
        "    weights=\"imagenet\",  # Load pre-trained ImageNet weights\n",
        "    input_shape=(images_preprocessed[0].shape[0], images_preprocessed[0].shape[1], images_preprocessed[0].shape[2]),  # Input shape from the preprocessed images\n",
        ")\n",
        "\n",
        "conv_base.trainable = False  # Freeze the pre-trained layers\n",
        "\n",
        "# Create the new model using ResNet50V2 as the base\n",
        "inputs = keras.Input(shape=(images_preprocessed[0].shape[0], images_preprocessed[0].shape[1], images_preprocessed[0].shape[2]))\n",
        "x = conv_base(inputs)\n",
        "x = layers.GlobalAveragePooling2D()(x)\n",
        "x = layers.BatchNormalization()(x)\n",
        "x = layers.Dense(512, activation='relu')(x)\n",
        "x = layers.BatchNormalization()(x)\n",
        "x = layers.Dense(256, activation='relu')(x)\n",
        "x = layers.BatchNormalization()(x)\n",
        "x = layers.Dense(128, activation='relu')(x)\n",
        "x = layers.BatchNormalization()(x)\n",
        "x = layers.Dense(64, activation='relu')(x)\n",
        "\n",
        "# Adjust the number of classes for the output layers based on your task (e.g., age prediction, races, gender)\n",
        "outputs = layers.Dense(num_classes_age, activation=\"softmax\")(x)\n",
        "\n",
        "model = keras.Model(inputs=inputs, outputs=outputs)\n",
        "model.summary()"
      ],
      "metadata": {
        "id": "EYNRFknOHkYT",
        "outputId": "2ae83020-12f7-4f20-c2f2-e67a5c0d4a9e",
        "colab": {
          "base_uri": "https://localhost:8080/"
        }
      },
      "execution_count": 56,
      "outputs": [
        {
          "output_type": "stream",
          "name": "stdout",
          "text": [
            "Downloading data from https://storage.googleapis.com/tensorflow/keras-applications/resnet/resnet50v2_weights_tf_dim_ordering_tf_kernels_notop.h5\n",
            "94668760/94668760 [==============================] - 0s 0us/step\n",
            "Model: \"model\"\n",
            "_________________________________________________________________\n",
            " Layer (type)                Output Shape              Param #   \n",
            "=================================================================\n",
            " input_2 (InputLayer)        [(None, 224, 224, 3)]     0         \n",
            "                                                                 \n",
            " resnet50v2 (Functional)     (None, 7, 7, 2048)        23564800  \n",
            "                                                                 \n",
            " global_average_pooling2d (  (None, 2048)              0         \n",
            " GlobalAveragePooling2D)                                         \n",
            "                                                                 \n",
            " batch_normalization (Batch  (None, 2048)              8192      \n",
            " Normalization)                                                  \n",
            "                                                                 \n",
            " dense (Dense)               (None, 512)               1049088   \n",
            "                                                                 \n",
            " batch_normalization_1 (Bat  (None, 512)               2048      \n",
            " chNormalization)                                                \n",
            "                                                                 \n",
            " dense_1 (Dense)             (None, 256)               131328    \n",
            "                                                                 \n",
            " batch_normalization_2 (Bat  (None, 256)               1024      \n",
            " chNormalization)                                                \n",
            "                                                                 \n",
            " dense_2 (Dense)             (None, 128)               32896     \n",
            "                                                                 \n",
            " batch_normalization_3 (Bat  (None, 128)               512       \n",
            " chNormalization)                                                \n",
            "                                                                 \n",
            " dense_3 (Dense)             (None, 64)                8256      \n",
            "                                                                 \n",
            " dense_4 (Dense)             (None, 2)                 130       \n",
            "                                                                 \n",
            "=================================================================\n",
            "Total params: 24798274 (94.60 MB)\n",
            "Trainable params: 1227586 (4.68 MB)\n",
            "Non-trainable params: 23570688 (89.92 MB)\n",
            "_________________________________________________________________\n"
          ]
        }
      ]
    },
    {
      "cell_type": "code",
      "source": [
        "# Compile the model\n",
        "optimizer = keras.optimizers.Adam(learning_rate=1.5e-4)\n",
        "model.compile(loss=\"sparse_categorical_crossentropy\",\n",
        "              optimizer=optimizer,\n",
        "              metrics=[\"accuracy\"])\n",
        "\n",
        "# Define the callback for saving the best model\n",
        "from tensorflow.keras.callbacks import ModelCheckpoint\n",
        "file_path = save_model_path + \"/\"\n",
        "model_name = 'resnet50v2_model_baseline.keras'\n",
        "\n",
        "# Save the model in the new Keras format with the best validation accuracy\n",
        "checkpoint = ModelCheckpoint(file_path + model_name,\n",
        "                             monitor='val_accuracy',\n",
        "                             verbose=1,\n",
        "                             save_best_only=True,\n",
        "                             mode='max')\n",
        "\n",
        "# Train the model\n",
        "resnet_history = model.fit(\n",
        "    X_train,\n",
        "    y_train_age,\n",
        "    epochs=30,\n",
        "    batch_size=32,\n",
        "    validation_data=(X_val, y_val_age),\n",
        "    callbacks=[checkpoint]\n",
        ")\n"
      ],
      "metadata": {
        "id": "nhDD4zLv8OaB",
        "outputId": "c03124f1-eaca-4b54-8576-188b9a0801b2",
        "colab": {
          "base_uri": "https://localhost:8080/"
        }
      },
      "execution_count": 57,
      "outputs": [
        {
          "output_type": "stream",
          "name": "stdout",
          "text": [
            "Epoch 1/30\n",
            "223/223 [==============================] - ETA: 0s - loss: 0.4927 - accuracy: 0.7585\n",
            "Epoch 1: val_accuracy improved from -inf to 0.78726, saving model to /content/drive/MyDrive/Visual reg/Project/resnet50v2_model_baseline.keras\n",
            "223/223 [==============================] - 120s 517ms/step - loss: 0.4927 - accuracy: 0.7585 - val_loss: 0.4345 - val_accuracy: 0.7873\n",
            "Epoch 2/30\n",
            "223/223 [==============================] - ETA: 0s - loss: 0.3103 - accuracy: 0.8631\n",
            "Epoch 2: val_accuracy improved from 0.78726 to 0.81201, saving model to /content/drive/MyDrive/Visual reg/Project/resnet50v2_model_baseline.keras\n",
            "223/223 [==============================] - 111s 500ms/step - loss: 0.3103 - accuracy: 0.8631 - val_loss: 0.4271 - val_accuracy: 0.8120\n",
            "Epoch 3/30\n",
            "223/223 [==============================] - ETA: 0s - loss: 0.2288 - accuracy: 0.9078\n",
            "Epoch 3: val_accuracy did not improve from 0.81201\n",
            "223/223 [==============================] - 107s 481ms/step - loss: 0.2288 - accuracy: 0.9078 - val_loss: 0.4409 - val_accuracy: 0.8073\n",
            "Epoch 4/30\n",
            "223/223 [==============================] - ETA: 0s - loss: 0.1749 - accuracy: 0.9344\n",
            "Epoch 4: val_accuracy did not improve from 0.81201\n",
            "223/223 [==============================] - 107s 482ms/step - loss: 0.1749 - accuracy: 0.9344 - val_loss: 0.4741 - val_accuracy: 0.7994\n",
            "Epoch 5/30\n",
            "223/223 [==============================] - ETA: 0s - loss: 0.1344 - accuracy: 0.9520\n",
            "Epoch 5: val_accuracy did not improve from 0.81201\n",
            "223/223 [==============================] - 109s 488ms/step - loss: 0.1344 - accuracy: 0.9520 - val_loss: 0.4901 - val_accuracy: 0.8062\n",
            "Epoch 6/30\n",
            "223/223 [==============================] - ETA: 0s - loss: 0.0973 - accuracy: 0.9674\n",
            "Epoch 6: val_accuracy did not improve from 0.81201\n",
            "223/223 [==============================] - 109s 488ms/step - loss: 0.0973 - accuracy: 0.9674 - val_loss: 0.5302 - val_accuracy: 0.8041\n",
            "Epoch 7/30\n",
            "223/223 [==============================] - ETA: 0s - loss: 0.0883 - accuracy: 0.9715\n",
            "Epoch 7: val_accuracy did not improve from 0.81201\n",
            "223/223 [==============================] - 106s 477ms/step - loss: 0.0883 - accuracy: 0.9715 - val_loss: 0.5445 - val_accuracy: 0.8115\n",
            "Epoch 8/30\n",
            "223/223 [==============================] - ETA: 0s - loss: 0.0682 - accuracy: 0.9794\n",
            "Epoch 8: val_accuracy did not improve from 0.81201\n",
            "223/223 [==============================] - 108s 484ms/step - loss: 0.0682 - accuracy: 0.9794 - val_loss: 0.5838 - val_accuracy: 0.8078\n",
            "Epoch 9/30\n",
            "223/223 [==============================] - ETA: 0s - loss: 0.0585 - accuracy: 0.9812\n",
            "Epoch 9: val_accuracy did not improve from 0.81201\n",
            "223/223 [==============================] - 109s 490ms/step - loss: 0.0585 - accuracy: 0.9812 - val_loss: 0.6218 - val_accuracy: 0.8015\n",
            "Epoch 10/30\n",
            "223/223 [==============================] - ETA: 0s - loss: 0.0405 - accuracy: 0.9898\n",
            "Epoch 10: val_accuracy did not improve from 0.81201\n",
            "223/223 [==============================] - 108s 484ms/step - loss: 0.0405 - accuracy: 0.9898 - val_loss: 0.6488 - val_accuracy: 0.7962\n",
            "Epoch 11/30\n",
            "223/223 [==============================] - ETA: 0s - loss: 0.0355 - accuracy: 0.9893\n",
            "Epoch 11: val_accuracy did not improve from 0.81201\n",
            "223/223 [==============================] - 108s 486ms/step - loss: 0.0355 - accuracy: 0.9893 - val_loss: 0.7040 - val_accuracy: 0.7994\n",
            "Epoch 12/30\n",
            "223/223 [==============================] - ETA: 0s - loss: 0.0442 - accuracy: 0.9853\n",
            "Epoch 12: val_accuracy did not improve from 0.81201\n",
            "223/223 [==============================] - 110s 493ms/step - loss: 0.0442 - accuracy: 0.9853 - val_loss: 0.7025 - val_accuracy: 0.7920\n",
            "Epoch 13/30\n",
            "223/223 [==============================] - ETA: 0s - loss: 0.0355 - accuracy: 0.9902\n",
            "Epoch 13: val_accuracy did not improve from 0.81201\n",
            "223/223 [==============================] - 107s 482ms/step - loss: 0.0355 - accuracy: 0.9902 - val_loss: 0.6825 - val_accuracy: 0.8088\n",
            "Epoch 14/30\n",
            "223/223 [==============================] - ETA: 0s - loss: 0.0389 - accuracy: 0.9868\n",
            "Epoch 14: val_accuracy did not improve from 0.81201\n",
            "223/223 [==============================] - 108s 486ms/step - loss: 0.0389 - accuracy: 0.9868 - val_loss: 0.6938 - val_accuracy: 0.8078\n",
            "Epoch 15/30\n",
            "223/223 [==============================] - ETA: 0s - loss: 0.0350 - accuracy: 0.9885\n",
            "Epoch 15: val_accuracy did not improve from 0.81201\n",
            "223/223 [==============================] - 107s 482ms/step - loss: 0.0350 - accuracy: 0.9885 - val_loss: 0.7318 - val_accuracy: 0.8036\n",
            "Epoch 16/30\n",
            "223/223 [==============================] - ETA: 0s - loss: 0.0389 - accuracy: 0.9872\n",
            "Epoch 16: val_accuracy improved from 0.81201 to 0.81464, saving model to /content/drive/MyDrive/Visual reg/Project/resnet50v2_model_baseline.keras\n",
            "223/223 [==============================] - 111s 499ms/step - loss: 0.0389 - accuracy: 0.9872 - val_loss: 0.7421 - val_accuracy: 0.8146\n",
            "Epoch 17/30\n",
            "223/223 [==============================] - ETA: 0s - loss: 0.0309 - accuracy: 0.9888\n",
            "Epoch 17: val_accuracy did not improve from 0.81464\n",
            "223/223 [==============================] - 108s 483ms/step - loss: 0.0309 - accuracy: 0.9888 - val_loss: 0.7310 - val_accuracy: 0.8020\n",
            "Epoch 18/30\n",
            "223/223 [==============================] - ETA: 0s - loss: 0.0412 - accuracy: 0.9861\n",
            "Epoch 18: val_accuracy did not improve from 0.81464\n",
            "223/223 [==============================] - 108s 486ms/step - loss: 0.0412 - accuracy: 0.9861 - val_loss: 0.7995 - val_accuracy: 0.7920\n",
            "Epoch 19/30\n",
            "223/223 [==============================] - ETA: 0s - loss: 0.0291 - accuracy: 0.9890\n",
            "Epoch 19: val_accuracy improved from 0.81464 to 0.81517, saving model to /content/drive/MyDrive/Visual reg/Project/resnet50v2_model_baseline.keras\n",
            "223/223 [==============================] - 111s 497ms/step - loss: 0.0291 - accuracy: 0.9890 - val_loss: 0.7324 - val_accuracy: 0.8152\n",
            "Epoch 20/30\n",
            "223/223 [==============================] - ETA: 0s - loss: 0.0288 - accuracy: 0.9907\n",
            "Epoch 20: val_accuracy did not improve from 0.81517\n",
            "223/223 [==============================] - 109s 491ms/step - loss: 0.0288 - accuracy: 0.9907 - val_loss: 0.7456 - val_accuracy: 0.8062\n",
            "Epoch 21/30\n",
            "223/223 [==============================] - ETA: 0s - loss: 0.0194 - accuracy: 0.9937\n",
            "Epoch 21: val_accuracy did not improve from 0.81517\n",
            "223/223 [==============================] - 108s 484ms/step - loss: 0.0194 - accuracy: 0.9937 - val_loss: 0.7888 - val_accuracy: 0.8094\n",
            "Epoch 22/30\n",
            "223/223 [==============================] - ETA: 0s - loss: 0.0215 - accuracy: 0.9933\n",
            "Epoch 22: val_accuracy did not improve from 0.81517\n",
            "223/223 [==============================] - 109s 487ms/step - loss: 0.0215 - accuracy: 0.9933 - val_loss: 0.7723 - val_accuracy: 0.8009\n",
            "Epoch 23/30\n",
            "223/223 [==============================] - ETA: 0s - loss: 0.0276 - accuracy: 0.9895\n",
            "Epoch 23: val_accuracy did not improve from 0.81517\n",
            "223/223 [==============================] - 110s 494ms/step - loss: 0.0276 - accuracy: 0.9895 - val_loss: 0.8363 - val_accuracy: 0.7994\n",
            "Epoch 24/30\n",
            "223/223 [==============================] - ETA: 0s - loss: 0.0284 - accuracy: 0.9896\n",
            "Epoch 24: val_accuracy did not improve from 0.81517\n",
            "223/223 [==============================] - 112s 504ms/step - loss: 0.0284 - accuracy: 0.9896 - val_loss: 0.8229 - val_accuracy: 0.8031\n",
            "Epoch 25/30\n",
            "223/223 [==============================] - ETA: 0s - loss: 0.0266 - accuracy: 0.9906\n",
            "Epoch 25: val_accuracy did not improve from 0.81517\n",
            "223/223 [==============================] - 109s 491ms/step - loss: 0.0266 - accuracy: 0.9906 - val_loss: 0.7698 - val_accuracy: 0.8046\n",
            "Epoch 26/30\n",
            "223/223 [==============================] - ETA: 0s - loss: 0.0211 - accuracy: 0.9920\n",
            "Epoch 26: val_accuracy did not improve from 0.81517\n",
            "223/223 [==============================] - 108s 486ms/step - loss: 0.0211 - accuracy: 0.9920 - val_loss: 0.8503 - val_accuracy: 0.8067\n",
            "Epoch 27/30\n",
            "223/223 [==============================] - ETA: 0s - loss: 0.0220 - accuracy: 0.9921\n",
            "Epoch 27: val_accuracy did not improve from 0.81517\n",
            "223/223 [==============================] - 110s 492ms/step - loss: 0.0220 - accuracy: 0.9921 - val_loss: 0.8214 - val_accuracy: 0.8115\n",
            "Epoch 28/30\n",
            "223/223 [==============================] - ETA: 0s - loss: 0.0229 - accuracy: 0.9930\n",
            "Epoch 28: val_accuracy did not improve from 0.81517\n",
            "223/223 [==============================] - 111s 497ms/step - loss: 0.0229 - accuracy: 0.9930 - val_loss: 0.8484 - val_accuracy: 0.8020\n",
            "Epoch 29/30\n",
            "223/223 [==============================] - ETA: 0s - loss: 0.0249 - accuracy: 0.9926\n",
            "Epoch 29: val_accuracy did not improve from 0.81517\n",
            "223/223 [==============================] - 112s 505ms/step - loss: 0.0249 - accuracy: 0.9926 - val_loss: 0.8442 - val_accuracy: 0.8041\n",
            "Epoch 30/30\n",
            "223/223 [==============================] - ETA: 0s - loss: 0.0201 - accuracy: 0.9928\n",
            "Epoch 30: val_accuracy did not improve from 0.81517\n",
            "223/223 [==============================] - 110s 494ms/step - loss: 0.0201 - accuracy: 0.9928 - val_loss: 0.8774 - val_accuracy: 0.8025\n"
          ]
        }
      ]
    },
    {
      "cell_type": "code",
      "source": [
        "evaluate_and_plot(resnet_history)"
      ],
      "metadata": {
        "id": "YHoku9BXmnu2",
        "outputId": "ea5527a4-3c32-41f5-b07d-f0f87984e327",
        "colab": {
          "base_uri": "https://localhost:8080/",
          "height": 545
        }
      },
      "execution_count": 58,
      "outputs": [
        {
          "output_type": "stream",
          "name": "stdout",
          "text": [
            "Best Training Accuracy: 0.9937\n",
            "Best Validation Accuracy: 0.8152\n",
            "Best Training Loss: 0.0194\n",
            "Best Validation Loss: 0.4271\n"
          ]
        },
        {
          "output_type": "display_data",
          "data": {
            "text/plain": [
              "<Figure size 1200x500 with 2 Axes>"
            ],
            "image/png": "[encoded data removed]"
          },
          "metadata": {}
        }
      ]
    },
    {
      "cell_type": "markdown",
      "source": [
        "# Under 19\n"
      ],
      "metadata": {
        "id": "uxYaCzYufsM7"
      }
    },
    {
      "cell_type": "code",
      "source": [],
      "metadata": {
        "id": "B7KwzgtpiFVa"
      },
      "execution_count": null,
      "outputs": []
    },
    {
      "cell_type": "markdown",
      "source": [
        "# 4. Normalizing age group distribution\n",
        "Methods\n",
        "1. Age groups 0-2 and 3-9 are combined into 0-9\n",
        "3. Add data from UTKface to: 0-9, 10-19, 40-49, 50-59, 60-69, and 70+"
      ],
      "metadata": {
        "id": "U1vfFp2GiFZJ"
      }
    },
    {
      "cell_type": "markdown",
      "source": [
        "## Current distributions"
      ],
      "metadata": {
        "id": "Sz_dkYRSiFZK"
      }
    },
    {
      "cell_type": "code",
      "source": [
        "import matplotlib.pyplot as plt\n",
        "import seaborn as sns\n",
        "\n",
        "# Create a figure with two subplots\n",
        "fig, axes = plt.subplots(1, 2, figsize=(16, 6), sharey=True)\n",
        "\n",
        "# Plot the first distribution for the UTKFace dataset\n",
        "sns.countplot(data=df_utkface_code, x='age_code', ax=axes[0])\n",
        "axes[0].set_title('Age Group Distribution UTKFace')\n",
        "axes[0].set_xlabel('Age Group')\n",
        "axes[0].set_ylabel('Count')\n",
        "axes[0].set_xticks(range(len(age_map)))\n",
        "axes[0].set_xticklabels(age_map.keys())\n",
        "\n",
        "# Plot the second distribution for the FairFace dataset\n",
        "sns.countplot(data=df_fairface_code, x='age_code', ax=axes[1])\n",
        "axes[1].set_title('Age Group Distribution FairFace')\n",
        "axes[1].set_xlabel('Age Group')\n",
        "axes[1].set_ylabel('Count')\n",
        "axes[1].set_xticks(range(len(age_map)))\n",
        "axes[1].set_xticklabels(age_map.keys())\n",
        "\n",
        "# Adjust the layout and show the plots\n",
        "plt.suptitle('Age Group Distribution Comparison between UTKFace and FairFace Datasets')\n",
        "plt.tight_layout()\n",
        "plt.show()"
      ],
      "metadata": {
        "colab": {
          "base_uri": "https://localhost:8080/",
          "height": 432
        },
        "outputId": "b1d8ddac-6c79-4567-85bc-edd86673fdab",
        "id": "jR8mCBKziFZL"
      },
      "execution_count": 108,
      "outputs": [
        {
          "output_type": "display_data",
          "data": {
            "text/plain": [
              "<Figure size 1600x600 with 2 Axes>"
            ],
            "image/png": "[encoded data removed]"
          },
          "metadata": {}
        }
      ]
    },
    {
      "cell_type": "markdown",
      "source": [
        "## Fairface"
      ],
      "metadata": {
        "id": "2PTo1K7liFZL"
      }
    },
    {
      "cell_type": "code",
      "source": [
        "# Step 1: Define the mapping to merge age groups\n",
        "def merge_age_groups(age_code):\n",
        "    if age_code in [0, 1]:\n",
        "        return 0  # Merge age groups 0 (0-2) and 1 (3-9)\n",
        "    #elif age_code in [6, 7, 8]:\n",
        "        #return 7  # Merge age groups 7(60-69), and 8(70+) into group 7(60-69)\n",
        "    else:\n",
        "        return age_code  # Keep other age groups unchanged\n",
        "\n",
        "# Make sure df_fairface is a true copy to avoid modifying a slice\n",
        "df_fairface = df_fairface_code.copy()\n",
        "\n",
        "# Apply the merge mapping to the 'age_code' column using .loc to avoid SettingWithCopyWarning\n",
        "df_fairface.loc[:, 'age_code'] = df_fairface['age_code'].map(merge_age_groups)\n",
        "\n",
        "# Step 2: Create a sequential mapping for the merged groups\n",
        "sequential_mapping = {\n",
        "    0: 0,  # '0-9'\n",
        "    2: 1,  # '10-19'\n",
        "    3: 2,  # '20-29'\n",
        "    4: 3,  # '30-39'\n",
        "    5: 4,  # '40-49'\n",
        "    6: 5,  # 50-59\n",
        "    7: 6,  # 60-69\n",
        "    8: 7,  # 70+\n",
        "}\n",
        "\n",
        "# Apply the sequential mapping using .loc\n",
        "df_fairface.loc[:, 'age_code'] = df_fairface['age_code'].map(sequential_mapping)\n",
        "\n",
        "# Step 3: Update the age group labels accordingly\n",
        "age_group_mapping = {\n",
        "    0: '0-9',     # Group 0\n",
        "    1: '10-19',   # Group 1 (previously group 2)\n",
        "    2: '20-29',   # Group 2\n",
        "    3: '30-39',   # Group 3\n",
        "    4: '40-49',   # Group 4\n",
        "    5: '50-59',   # Group 5 (previously group 6)\n",
        "    6: '60-69',   # Group 6 (previously group 7)\n",
        "    7: '70+',   # Group 7 (previously group 8)\n",
        "}\n",
        "\n",
        "# Map the new age group labels based on the updated 'age_code' using .loc\n",
        "df_fairface.loc[:, 'age'] = df_fairface['age_code'].map(age_group_mapping)\n"
      ],
      "metadata": {
        "id": "PYp9bz4iiFZM"
      },
      "execution_count": 109,
      "outputs": []
    },
    {
      "cell_type": "code",
      "source": [
        "import matplotlib.pyplot as plt\n",
        "import seaborn as sns\n",
        "\n",
        "# Define the correct order of the age groups based on the mapping\n",
        "age_order = sorted(df_fairface['age_code'].unique())\n",
        "age_labels = [age_group_mapping[code] for code in age_order]  # Corresponding labels\n",
        "\n",
        "# Plot the countplot with the specified order and labels\n",
        "sns.countplot(data=df_fairface, x='age_code', order=age_order)\n",
        "plt.xticks(ticks=age_order, labels=age_labels)  # Set the x-tick labels directly\n",
        "\n",
        "# Adding plot labels\n",
        "plt.title('FairFace Age Group Distribution After Merging')\n",
        "plt.xlabel('Age Group')\n",
        "plt.ylabel('Count')\n",
        "\n",
        "# Show the plot\n",
        "plt.show()"
      ],
      "metadata": {
        "colab": {
          "base_uri": "https://localhost:8080/",
          "height": 472
        },
        "outputId": "81fdb9c8-441a-4722-d421-b92f9c536f08",
        "id": "Y2UmkFWEiFZM"
      },
      "execution_count": 110,
      "outputs": [
        {
          "output_type": "display_data",
          "data": {
            "text/plain": [
              "<Figure size 640x480 with 1 Axes>"
            ],
            "image/png": "[encoded data removed]"
          },
          "metadata": {}
        }
      ]
    },
    {
      "cell_type": "markdown",
      "source": [
        "## UTKFace"
      ],
      "metadata": {
        "id": "DG9TY1xBiFZN"
      }
    },
    {
      "cell_type": "code",
      "source": [
        "# Step 1: Define the mapping to merge age groups\n",
        "def merge_age_groups(age_code):\n",
        "    if age_code in [0, 1]:\n",
        "        return 0  # Merge age groups 0 (0-2) and 1 (3-9)\n",
        "    #elif age_code in [7, 8]:\n",
        "        #return 7  # Merge age groups 7(60-69), and 8(70+) into group 7(60-69)\n",
        "    else:\n",
        "        return age_code  # Keep other age groups unchanged\n",
        "\n",
        "# Make sure df_fairface is a true copy to avoid modifying a slice\n",
        "df_utkface = df_utkface_code.copy()\n",
        "\n",
        "# Explicitly cast the 'age_code' column to a larger integer type to avoid dtype issues\n",
        "df_utkface['age_code'] = df_utkface['age_code'].astype('int64')\n",
        "\n",
        "# Apply the merge mapping to the 'age_code' column using .loc to avoid SettingWithCopyWarning\n",
        "df_utkface.loc[:, 'age_code'] = df_utkface['age_code'].map(merge_age_groups)\n",
        "\n",
        "# Step 2: Create a sequential mapping for the merged groups\n",
        "sequential_mapping = {\n",
        "    0: 0,  # '0-9'\n",
        "    2: 1,  # '10-19'\n",
        "    3: 2,  # '20-29'\n",
        "    4: 3,  # '30-39'\n",
        "    5: 4,  # '40-49'\n",
        "    6: 5,  # 50-59\n",
        "    7: 6,  # 60-69\n",
        "    8: 7,  # 70+\n",
        "}\n",
        "\n",
        "# Apply the sequential mapping using .loc\n",
        "df_utkface.loc[:, 'age_code'] = df_utkface['age_code'].map(sequential_mapping)\n",
        "\n",
        "# Step 3: Update the age group labels accordingly\n",
        "age_group_mapping = {\n",
        "    0: '0-9',     # Group 0\n",
        "    1: '10-19',   # Group 1 (previously group 2)\n",
        "    2: '20-29',   # Group 2\n",
        "    3: '30-39',   # Group 3\n",
        "    4: '40-49',   # Group 4\n",
        "    5: '50-59',   # Group 5 (previously group 6)\n",
        "    6: '60-69',   # Group 6 (previously group 7)\n",
        "    7: '70+',   # Group 7 (previously group 8)\n",
        "}\n",
        "\n",
        "# Map the new age group labels based on the updated 'age_code' using .loc\n",
        "df_utkface.loc[:, 'age'] = df_utkface['age_code'].map(age_group_mapping)"
      ],
      "metadata": {
        "id": "PwicnT1_iFZN"
      },
      "execution_count": 111,
      "outputs": []
    },
    {
      "cell_type": "code",
      "source": [
        "import matplotlib.pyplot as plt\n",
        "import seaborn as sns\n",
        "\n",
        "# Define the correct order of the age groups based on the mapping\n",
        "age_order = sorted(df_utkface['age_code'].unique())\n",
        "age_labels = [age_group_mapping[code] for code in age_order]  # Corresponding labels\n",
        "\n",
        "# Plot the countplot with the specified order and labels\n",
        "sns.countplot(data=df_utkface, x='age_code', order=age_order)\n",
        "plt.xticks(ticks=age_order, labels=age_labels)  # Set the x-tick labels directly\n",
        "\n",
        "# Adding plot labels\n",
        "plt.title('UTKface Age Group Distribution After Merging')\n",
        "plt.xlabel('Age Group')\n",
        "plt.ylabel('Count')\n",
        "\n",
        "# Show the plot\n",
        "plt.show()"
      ],
      "metadata": {
        "colab": {
          "base_uri": "https://localhost:8080/",
          "height": 472
        },
        "outputId": "214d6a82-8863-4850-e2b7-df7bced4b172",
        "id": "j7nGevwGiFZO"
      },
      "execution_count": 112,
      "outputs": [
        {
          "output_type": "display_data",
          "data": {
            "text/plain": [
              "<Figure size 640x480 with 1 Axes>"
            ],
            "image/png": "[encoded data removed]"
          },
          "metadata": {}
        }
      ]
    },
    {
      "cell_type": "markdown",
      "source": [
        "## Concatenating age groups 0, 1, 4, 5, and 6\n",
        "- Age groups: 0-9, 10-19, 40-49, 50-59, and 60+"
      ],
      "metadata": {
        "id": "UsQSv-cpiFZO"
      }
    },
    {
      "cell_type": "code",
      "source": [
        "import pandas as pd\n",
        "\n",
        "# Step 1: Filter `df_utkface` to include only the specified age groups\n",
        "filtered_utkface = df_utkface[df_utkface['age_code'].isin([0, 1, 4, 5, 6, 7])]\n",
        "\n",
        "# Add columns indicating if the image is from UTK or FairFace\n",
        "filtered_utkface['dataset'] = 'UTK'\n",
        "df_fairface['dataset'] = 'FairFace'\n",
        "\n",
        "# Step 2: Concatenate the filtered `df_utkface` with `df_fairface`\n",
        "df = pd.concat([df_fairface, filtered_utkface], ignore_index=True)\n",
        "\n",
        "# Define the correct order of the age groups based on the mapping\n",
        "age_order = sorted(df['age_code'].unique())\n",
        "age_labels = [age_group_mapping[code] for code in age_order]  # Corresponding labels\n",
        "\n",
        "# Plot the countplot with the specified order and labels\n",
        "sns.countplot(data=df, x='age_code', order=age_order)\n",
        "plt.xticks(ticks=age_order, labels=age_labels)  # Set the x-tick labels directly\n",
        "\n",
        "# Adding plot labels\n",
        "plt.title('Combined Datasets Age Group Distribution')\n",
        "plt.xlabel('Age Group')\n",
        "plt.ylabel('Count')\n",
        "\n",
        "# Show the plot\n",
        "plt.show()"
      ],
      "metadata": {
        "colab": {
          "base_uri": "https://localhost:8080/",
          "height": 576
        },
        "outputId": "cce2c49d-b655-4cdf-c93f-96f97d3e90ea",
        "id": "lW1EclPEiFZP"
      },
      "execution_count": 113,
      "outputs": [
        {
          "output_type": "stream",
          "name": "stderr",
          "text": [
            "<ipython-input-113-aa1b0141c384>:7: SettingWithCopyWarning: \n",
            "A value is trying to be set on a copy of a slice from a DataFrame.\n",
            "Try using .loc[row_indexer,col_indexer] = value instead\n",
            "\n",
            "See the caveats in the documentation: https://pandas.pydata.org/pandas-docs/stable/user_guide/indexing.html#returning-a-view-versus-a-copy\n",
            "  filtered_utkface['dataset'] = 'UTK'\n"
          ]
        },
        {
          "output_type": "display_data",
          "data": {
            "text/plain": [
              "<Figure size 640x480 with 1 Axes>"
            ],
            "image/png": "[encoded data removed]"
          },
          "metadata": {}
        }
      ]
    },
    {
      "cell_type": "code",
      "source": [
        "df['age_code'] = df['age_code'].apply(lambda x: 0 if 0 <= x <= 1 else 1)"
      ],
      "metadata": {
        "id": "tl61spwMiFZP"
      },
      "execution_count": 114,
      "outputs": []
    },
    {
      "cell_type": "code",
      "source": [
        "# Find age group with lowest n\n",
        "lowest_n = df['age'].value_counts().sort_values(ascending=True).iloc[0]\n",
        "\n",
        "# Downsample\n",
        "df_down = df.groupby('age').apply(lambda x: x.sample(lowest_n)).reset_index(drop=True)\n",
        "\n",
        "# Display\n",
        "df_down.head()"
      ],
      "metadata": {
        "colab": {
          "base_uri": "https://localhost:8080/",
          "height": 261
        },
        "id": "lre-KK0MfvTg",
        "outputId": "440ba4c9-772a-4eaf-f600-8b6c531bf865"
      },
      "execution_count": 115,
      "outputs": [
        {
          "output_type": "stream",
          "name": "stderr",
          "text": [
            "<ipython-input-115-11961f80dd77>:5: DeprecationWarning: DataFrameGroupBy.apply operated on the grouping columns. This behavior is deprecated, and in a future version of pandas the grouping columns will be excluded from the operation. Either pass `include_groups=False` to exclude the groupings or explicitly select the grouping columns after groupby to silence this warning.\n",
            "  df_down = df.groupby('age').apply(lambda x: x.sample(lowest_n)).reset_index(drop=True)\n"
          ]
        },
        {
          "output_type": "execute_result",
          "data": {
            "text/plain": [
              "                                                file  age_code  gender_code  \\\n",
              "0  /content/extracted/part1/2_1_4_201612212015365...         0            1   \n",
              "1                 /content/extracted/train/27381.jpg         0            0   \n",
              "2                 /content/extracted/train/40903.jpg         0            0   \n",
              "3  /content/extracted/part1/6_1_2_201612192057489...         0            1   \n",
              "4                 /content/extracted/train/51590.jpg         0            0   \n",
              "\n",
              "   race_code  age   dataset  \n",
              "0          4  0-9       UTK  \n",
              "1          4  0-9  FairFace  \n",
              "2          2  0-9  FairFace  \n",
              "3          2  0-9       UTK  \n",
              "4          4  0-9  FairFace  "
            ],
            "text/html": [
              "\n",
              "  <div id=\"df-1e0c816d-9661-4475-bb6b-ede87414a95f\" class=\"colab-df-container\">\n",
              "    <div>\n",
              "<style scoped>\n",
              "    .dataframe tbody tr th:only-of-type {\n",
              "        vertical-align: middle;\n",
              "    }\n",
              "\n",
              "    .dataframe tbody tr th {\n",
              "        vertical-align: top;\n",
              "    }\n",
              "\n",
              "    .dataframe thead th {\n",
              "        text-align: right;\n",
              "    }\n",
              "</style>\n",
              "<table border=\"1\" class=\"dataframe\">\n",
              "  <thead>\n",
              "    <tr style=\"text-align: right;\">\n",
              "      <th></th>\n",
              "      <th>file</th>\n",
              "      <th>age_code</th>\n",
              "      <th>gender_code</th>\n",
              "      <th>race_code</th>\n",
              "      <th>age</th>\n",
              "      <th>dataset</th>\n",
              "    </tr>\n",
              "  </thead>\n",
              "  <tbody>\n",
              "    <tr>\n",
              "      <th>0</th>\n",
              "      <td>/content/extracted/part1/2_1_4_201612212015365...</td>\n",
              "      <td>0</td>\n",
              "      <td>1</td>\n",
              "      <td>4</td>\n",
              "      <td>0-9</td>\n",
              "      <td>UTK</td>\n",
              "    </tr>\n",
              "    <tr>\n",
              "      <th>1</th>\n",
              "      <td>/content/extracted/train/27381.jpg</td>\n",
              "      <td>0</td>\n",
              "      <td>0</td>\n",
              "      <td>4</td>\n",
              "      <td>0-9</td>\n",
              "      <td>FairFace</td>\n",
              "    </tr>\n",
              "    <tr>\n",
              "      <th>2</th>\n",
              "      <td>/content/extracted/train/40903.jpg</td>\n",
              "      <td>0</td>\n",
              "      <td>0</td>\n",
              "      <td>2</td>\n",
              "      <td>0-9</td>\n",
              "      <td>FairFace</td>\n",
              "    </tr>\n",
              "    <tr>\n",
              "      <th>3</th>\n",
              "      <td>/content/extracted/part1/6_1_2_201612192057489...</td>\n",
              "      <td>0</td>\n",
              "      <td>1</td>\n",
              "      <td>2</td>\n",
              "      <td>0-9</td>\n",
              "      <td>UTK</td>\n",
              "    </tr>\n",
              "    <tr>\n",
              "      <th>4</th>\n",
              "      <td>/content/extracted/train/51590.jpg</td>\n",
              "      <td>0</td>\n",
              "      <td>0</td>\n",
              "      <td>4</td>\n",
              "      <td>0-9</td>\n",
              "      <td>FairFace</td>\n",
              "    </tr>\n",
              "  </tbody>\n",
              "</table>\n",
              "</div>\n",
              "    <div class=\"colab-df-buttons\">\n",
              "\n",
              "  <div class=\"colab-df-container\">\n",
              "    <button class=\"colab-df-convert\" onclick=\"convertToInteractive('df-1e0c816d-9661-4475-bb6b-ede87414a95f')\"\n",
              "            title=\"Convert this dataframe to an interactive table.\"\n",
              "            style=\"display:none;\">\n",
              "\n",
              "  <svg xmlns=\"http://www.w3.org/2000/svg\" height=\"24px\" viewBox=\"0 -960 960 960\">\n",
              "    <path d=\"M120-120v-720h720v720H120Zm60-500h600v-160H180v160Zm220 220h160v-160H400v160Zm0 220h160v-160H400v160ZM180-400h160v-160H180v160Zm440 0h160v-160H620v160ZM180-180h160v-160H180v160Zm440 0h160v-160H620v160Z\"/>\n",
              "  </svg>\n",
              "    </button>\n",
              "\n",
              "  <style>\n",
              "    .colab-df-container {\n",
              "      display:flex;\n",
              "      gap: 12px;\n",
              "    }\n",
              "\n",
              "    .colab-df-convert {\n",
              "      background-color: #E8F0FE;\n",
              "      border: none;\n",
              "      border-radius: 50%;\n",
              "      cursor: pointer;\n",
              "      display: none;\n",
              "      fill: #1967D2;\n",
              "      height: 32px;\n",
              "      padding: 0 0 0 0;\n",
              "      width: 32px;\n",
              "    }\n",
              "\n",
              "    .colab-df-convert:hover {\n",
              "      background-color: #E2EBFA;\n",
              "      box-shadow: 0px 1px 2px rgba(60, 64, 67, 0.3), 0px 1px 3px 1px rgba(60, 64, 67, 0.15);\n",
              "      fill: #174EA6;\n",
              "    }\n",
              "\n",
              "    .colab-df-buttons div {\n",
              "      margin-bottom: 4px;\n",
              "    }\n",
              "\n",
              "    [theme=dark] .colab-df-convert {\n",
              "      background-color: #3B4455;\n",
              "      fill: #D2E3FC;\n",
              "    }\n",
              "\n",
              "    [theme=dark] .colab-df-convert:hover {\n",
              "      background-color: #434B5C;\n",
              "      box-shadow: 0px 1px 3px 1px rgba(0, 0, 0, 0.15);\n",
              "      filter: drop-shadow(0px 1px 2px rgba(0, 0, 0, 0.3));\n",
              "      fill: #FFFFFF;\n",
              "    }\n",
              "  </style>\n",
              "\n",
              "    <script>\n",
              "      const buttonEl =\n",
              "        document.querySelector('#df-1e0c816d-9661-4475-bb6b-ede87414a95f button.colab-df-convert');\n",
              "      buttonEl.style.display =\n",
              "        google.colab.kernel.accessAllowed ? 'block' : 'none';\n",
              "\n",
              "      async function convertToInteractive(key) {\n",
              "        const element = document.querySelector('#df-1e0c816d-9661-4475-bb6b-ede87414a95f');\n",
              "        const dataTable =\n",
              "          await google.colab.kernel.invokeFunction('convertToInteractive',\n",
              "                                                    [key], {});\n",
              "        if (!dataTable) return;\n",
              "\n",
              "        const docLinkHtml = 'Like what you see? Visit the ' +\n",
              "          '<a target=\"_blank\" href=https://colab.research.google.com/notebooks/data_table.ipynb>data table notebook</a>'\n",
              "          + ' to learn more about interactive tables.';\n",
              "        element.innerHTML = '';\n",
              "        dataTable['output_type'] = 'display_data';\n",
              "        await google.colab.output.renderOutput(dataTable, element);\n",
              "        const docLink = document.createElement('div');\n",
              "        docLink.innerHTML = docLinkHtml;\n",
              "        element.appendChild(docLink);\n",
              "      }\n",
              "    </script>\n",
              "  </div>\n",
              "\n",
              "\n",
              "<div id=\"df-965befcd-8b53-4a26-99eb-6ea263d2fa77\">\n",
              "  <button class=\"colab-df-quickchart\" onclick=\"quickchart('df-965befcd-8b53-4a26-99eb-6ea263d2fa77')\"\n",
              "            title=\"Suggest charts\"\n",
              "            style=\"display:none;\">\n",
              "\n",
              "<svg xmlns=\"http://www.w3.org/2000/svg\" height=\"24px\"viewBox=\"0 0 24 24\"\n",
              "     width=\"24px\">\n",
              "    <g>\n",
              "        <path d=\"M19 3H5c-1.1 0-2 .9-2 2v14c0 1.1.9 2 2 2h14c1.1 0 2-.9 2-2V5c0-1.1-.9-2-2-2zM9 17H7v-7h2v7zm4 0h-2V7h2v10zm4 0h-2v-4h2v4z\"/>\n",
              "    </g>\n",
              "</svg>\n",
              "  </button>\n",
              "\n",
              "<style>\n",
              "  .colab-df-quickchart {\n",
              "      --bg-color: #E8F0FE;\n",
              "      --fill-color: #1967D2;\n",
              "      --hover-bg-color: #E2EBFA;\n",
              "      --hover-fill-color: #174EA6;\n",
              "      --disabled-fill-color: #AAA;\n",
              "      --disabled-bg-color: #DDD;\n",
              "  }\n",
              "\n",
              "  [theme=dark] .colab-df-quickchart {\n",
              "      --bg-color: #3B4455;\n",
              "      --fill-color: #D2E3FC;\n",
              "      --hover-bg-color: #434B5C;\n",
              "      --hover-fill-color: #FFFFFF;\n",
              "      --disabled-bg-color: #3B4455;\n",
              "      --disabled-fill-color: #666;\n",
              "  }\n",
              "\n",
              "  .colab-df-quickchart {\n",
              "    background-color: var(--bg-color);\n",
              "    border: none;\n",
              "    border-radius: 50%;\n",
              "    cursor: pointer;\n",
              "    display: none;\n",
              "    fill: var(--fill-color);\n",
              "    height: 32px;\n",
              "    padding: 0;\n",
              "    width: 32px;\n",
              "  }\n",
              "\n",
              "  .colab-df-quickchart:hover {\n",
              "    background-color: var(--hover-bg-color);\n",
              "    box-shadow: 0 1px 2px rgba(60, 64, 67, 0.3), 0 1px 3px 1px rgba(60, 64, 67, 0.15);\n",
              "    fill: var(--button-hover-fill-color);\n",
              "  }\n",
              "\n",
              "  .colab-df-quickchart-complete:disabled,\n",
              "  .colab-df-quickchart-complete:disabled:hover {\n",
              "    background-color: var(--disabled-bg-color);\n",
              "    fill: var(--disabled-fill-color);\n",
              "    box-shadow: none;\n",
              "  }\n",
              "\n",
              "  .colab-df-spinner {\n",
              "    border: 2px solid var(--fill-color);\n",
              "    border-color: transparent;\n",
              "    border-bottom-color: var(--fill-color);\n",
              "    animation:\n",
              "      spin 1s steps(1) infinite;\n",
              "  }\n",
              "\n",
              "  @keyframes spin {\n",
              "    0% {\n",
              "      border-color: transparent;\n",
              "      border-bottom-color: var(--fill-color);\n",
              "      border-left-color: var(--fill-color);\n",
              "    }\n",
              "    20% {\n",
              "      border-color: transparent;\n",
              "      border-left-color: var(--fill-color);\n",
              "      border-top-color: var(--fill-color);\n",
              "    }\n",
              "    30% {\n",
              "      border-color: transparent;\n",
              "      border-left-color: var(--fill-color);\n",
              "      border-top-color: var(--fill-color);\n",
              "      border-right-color: var(--fill-color);\n",
              "    }\n",
              "    40% {\n",
              "      border-color: transparent;\n",
              "      border-right-color: var(--fill-color);\n",
              "      border-top-color: var(--fill-color);\n",
              "    }\n",
              "    60% {\n",
              "      border-color: transparent;\n",
              "      border-right-color: var(--fill-color);\n",
              "    }\n",
              "    80% {\n",
              "      border-color: transparent;\n",
              "      border-right-color: var(--fill-color);\n",
              "      border-bottom-color: var(--fill-color);\n",
              "    }\n",
              "    90% {\n",
              "      border-color: transparent;\n",
              "      border-bottom-color: var(--fill-color);\n",
              "    }\n",
              "  }\n",
              "</style>\n",
              "\n",
              "  <script>\n",
              "    async function quickchart(key) {\n",
              "      const quickchartButtonEl =\n",
              "        document.querySelector('#' + key + ' button');\n",
              "      quickchartButtonEl.disabled = true;  // To prevent multiple clicks.\n",
              "      quickchartButtonEl.classList.add('colab-df-spinner');\n",
              "      try {\n",
              "        const charts = await google.colab.kernel.invokeFunction(\n",
              "            'suggestCharts', [key], {});\n",
              "      } catch (error) {\n",
              "        console.error('Error during call to suggestCharts:', error);\n",
              "      }\n",
              "      quickchartButtonEl.classList.remove('colab-df-spinner');\n",
              "      quickchartButtonEl.classList.add('colab-df-quickchart-complete');\n",
              "    }\n",
              "    (() => {\n",
              "      let quickchartButtonEl =\n",
              "        document.querySelector('#df-965befcd-8b53-4a26-99eb-6ea263d2fa77 button');\n",
              "      quickchartButtonEl.style.display =\n",
              "        google.colab.kernel.accessAllowed ? 'block' : 'none';\n",
              "    })();\n",
              "  </script>\n",
              "</div>\n",
              "\n",
              "    </div>\n",
              "  </div>\n"
            ],
            "application/vnd.google.colaboratory.intrinsic+json": {
              "type": "dataframe",
              "variable_name": "df_down",
              "summary": "{\n  \"name\": \"df_down\",\n  \"rows\": 18992,\n  \"fields\": [\n    {\n      \"column\": \"file\",\n      \"properties\": {\n        \"dtype\": \"string\",\n        \"num_unique_values\": 18992,\n        \"samples\": [\n          \"/content/extracted/train/82567.jpg\",\n          \"/content/extracted/train/13872.jpg\",\n          \"/content/extracted/train/10640.jpg\"\n        ],\n        \"semantic_type\": \"\",\n        \"description\": \"\"\n      }\n    },\n    {\n      \"column\": \"age_code\",\n      \"properties\": {\n        \"dtype\": \"number\",\n        \"std\": 0,\n        \"min\": 0,\n        \"max\": 1,\n        \"num_unique_values\": 2,\n        \"samples\": [\n          1,\n          0\n        ],\n        \"semantic_type\": \"\",\n        \"description\": \"\"\n      }\n    },\n    {\n      \"column\": \"gender_code\",\n      \"properties\": {\n        \"dtype\": \"number\",\n        \"std\": 0,\n        \"min\": 0,\n        \"max\": 1,\n        \"num_unique_values\": 2,\n        \"samples\": [\n          0,\n          1\n        ],\n        \"semantic_type\": \"\",\n        \"description\": \"\"\n      }\n    },\n    {\n      \"column\": \"race_code\",\n      \"properties\": {\n        \"dtype\": \"number\",\n        \"std\": 1,\n        \"min\": 0,\n        \"max\": 4,\n        \"num_unique_values\": 5,\n        \"samples\": [\n          2,\n          1\n        ],\n        \"semantic_type\": \"\",\n        \"description\": \"\"\n      }\n    },\n    {\n      \"column\": \"age\",\n      \"properties\": {\n        \"dtype\": \"category\",\n        \"num_unique_values\": 8,\n        \"samples\": [\n          \"10-19\",\n          \"50-59\"\n        ],\n        \"semantic_type\": \"\",\n        \"description\": \"\"\n      }\n    },\n    {\n      \"column\": \"dataset\",\n      \"properties\": {\n        \"dtype\": \"category\",\n        \"num_unique_values\": 2,\n        \"samples\": [\n          \"FairFace\",\n          \"UTK\"\n        ],\n        \"semantic_type\": \"\",\n        \"description\": \"\"\n      }\n    }\n  ]\n}"
            }
          },
          "metadata": {},
          "execution_count": 115
        }
      ]
    },
    {
      "cell_type": "markdown",
      "source": [
        "# Splitting data and model"
      ],
      "metadata": {
        "id": "E8ZTS9ARisUt"
      }
    },
    {
      "cell_type": "code",
      "source": [
        "from keras.applications.resnet_v2 import preprocess_input  # Update the import for ResNet50V2\n",
        "from keras.applications import ResNet50V2  # Import the ResNet50V2 model\n",
        "from keras import layers, models  # Import the required modules\n",
        "\n",
        "# Step 1: Create lists of images and labels\n",
        "images, ages, races, genders = create_lists(df_down)\n",
        "print(f\"Loaded {len(images)} images.\")\n",
        "\n",
        "# Step 2: Apply ResNet preprocessing\n",
        "images_preprocessed = preprocess_input(images)\n",
        "\n",
        "# Step 3: Get the number of classes for each target variable\n",
        "num_classes_age = len(set(ages))\n",
        "num_classes_gender = len(set(genders))\n",
        "num_classes_ethnicity = len(set(races))\n",
        "print(f\"Number of age classes: {num_classes_age}\")\n",
        "print(f\"Number of gender classes: {num_classes_gender}\")\n",
        "print(f\"Number of ethnicity classes: {num_classes_ethnicity}\")\n",
        "\n",
        "# Step 4: Split the preprocessed data into training, validation, and test sets\n",
        "X_train, X_val, X_test, y_train_age, y_val_age, y_test_age, y_train_races, y_val_races, y_test_races, y_train_gender, y_val_gender, y_test_gender = split_data(images_preprocessed, ages, races, genders)\n",
        "\n",
        "# Print the shapes of the resulting datasets\n",
        "print(f\"Training set shape: {X_train.shape}\")\n",
        "print(f\"Validation set shape: {X_val.shape}\")\n",
        "print(f\"Test set shape: {X_test.shape}\")"
      ],
      "metadata": {
        "colab": {
          "base_uri": "https://localhost:8080/"
        },
        "id": "RGQoAoXzivfL",
        "outputId": "52618221-3a42-43b7-bfc8-c26c646423ac"
      },
      "execution_count": 119,
      "outputs": [
        {
          "output_type": "stream",
          "name": "stdout",
          "text": [
            "Loaded 18992 images.\n",
            "Number of age classes: 2\n",
            "Number of gender classes: 2\n",
            "Number of ethnicity classes: 5\n",
            "Training set: (7122, 224, 224, 3), Training labels: (7122,)\n",
            "Age validation set: (1899, 224, 224, 3), Age validation labels: (1899,)\n",
            "Age test set: (475, 224, 224, 3), Age test labels: (475,)\n",
            "Race validation labels: (1899,)\n",
            "Race test labels: (475,)\n",
            "Gender validation labels: (1899,)\n",
            "Gender test labels: (475,)\n",
            "Training set shape: (7122, 224, 224, 3)\n",
            "Validation set shape: (1899, 224, 224, 3)\n",
            "Test set shape: (475, 224, 224, 3)\n"
          ]
        }
      ]
    },
    {
      "cell_type": "code",
      "source": [
        "# Now proceed with the ResNet50V2 model using the preprocessed images\n",
        "conv_base = ResNet50V2(\n",
        "    include_top=False,  # Exclude the top fully connected layers\n",
        "    weights=\"imagenet\",  # Load pre-trained ImageNet weights\n",
        "    input_shape=(images_preprocessed[0].shape[0], images_preprocessed[0].shape[1], images_preprocessed[0].shape[2]),  # Input shape from the preprocessed images\n",
        ")\n",
        "\n",
        "conv_base.trainable = False  # Freeze the pre-trained layers\n",
        "\n",
        "# Create the new model using ResNet50V2 as the base\n",
        "inputs = keras.Input(shape=(images_preprocessed[0].shape[0], images_preprocessed[0].shape[1], images_preprocessed[0].shape[2]))\n",
        "x = conv_base(inputs)\n",
        "x = layers.GlobalAveragePooling2D()(x)\n",
        "x = layers.BatchNormalization()(x)\n",
        "x = layers.Dense(512, activation='relu')(x)\n",
        "x = layers.BatchNormalization()(x)\n",
        "x = layers.Dense(256, activation='relu')(x)\n",
        "x = layers.BatchNormalization()(x)\n",
        "x = layers.Dense(128, activation='relu')(x)\n",
        "x = layers.BatchNormalization()(x)\n",
        "x = layers.Dense(64, activation='relu')(x)\n",
        "\n",
        "# Adjust the number of classes for the output layers based on your task (e.g., age prediction, races, gender)\n",
        "outputs = layers.Dense(num_classes_age, activation=\"softmax\")(x)\n",
        "\n",
        "model = keras.Model(inputs=inputs, outputs=outputs)\n",
        "model.summary()"
      ],
      "metadata": {
        "colab": {
          "base_uri": "https://localhost:8080/"
        },
        "id": "G_kSP-Ovi0xw",
        "outputId": "b5e72957-a727-4568-8957-e5c5d70a02c5"
      },
      "execution_count": 120,
      "outputs": [
        {
          "output_type": "stream",
          "name": "stdout",
          "text": [
            "Model: \"model_1\"\n",
            "_________________________________________________________________\n",
            " Layer (type)                Output Shape              Param #   \n",
            "=================================================================\n",
            " input_4 (InputLayer)        [(None, 224, 224, 3)]     0         \n",
            "                                                                 \n",
            " resnet50v2 (Functional)     (None, 7, 7, 2048)        23564800  \n",
            "                                                                 \n",
            " global_average_pooling2d_1  (None, 2048)              0         \n",
            "  (GlobalAveragePooling2D)                                       \n",
            "                                                                 \n",
            " batch_normalization_4 (Bat  (None, 2048)              8192      \n",
            " chNormalization)                                                \n",
            "                                                                 \n",
            " dense_5 (Dense)             (None, 512)               1049088   \n",
            "                                                                 \n",
            " batch_normalization_5 (Bat  (None, 512)               2048      \n",
            " chNormalization)                                                \n",
            "                                                                 \n",
            " dense_6 (Dense)             (None, 256)               131328    \n",
            "                                                                 \n",
            " batch_normalization_6 (Bat  (None, 256)               1024      \n",
            " chNormalization)                                                \n",
            "                                                                 \n",
            " dense_7 (Dense)             (None, 128)               32896     \n",
            "                                                                 \n",
            " batch_normalization_7 (Bat  (None, 128)               512       \n",
            " chNormalization)                                                \n",
            "                                                                 \n",
            " dense_8 (Dense)             (None, 64)                8256      \n",
            "                                                                 \n",
            " dense_9 (Dense)             (None, 2)                 130       \n",
            "                                                                 \n",
            "=================================================================\n",
            "Total params: 24798274 (94.60 MB)\n",
            "Trainable params: 1227586 (4.68 MB)\n",
            "Non-trainable params: 23570688 (89.92 MB)\n",
            "_________________________________________________________________\n"
          ]
        }
      ]
    },
    {
      "cell_type": "code",
      "source": [
        "# Compile the model\n",
        "optimizer = keras.optimizers.Adam(learning_rate=1.5e-4)\n",
        "model.compile(loss=\"sparse_categorical_crossentropy\",\n",
        "              optimizer=optimizer,\n",
        "              metrics=[\"accuracy\"])\n",
        "\n",
        "# Define the callback for saving the best model\n",
        "from tensorflow.keras.callbacks import ModelCheckpoint\n",
        "file_path = save_model_path + \"/\"\n",
        "model_name = '19_resnet50v2_model_baseline.keras'\n",
        "\n",
        "# Save the model in the new Keras format with the best validation accuracy\n",
        "checkpoint = ModelCheckpoint(file_path + model_name,\n",
        "                             monitor='val_accuracy',\n",
        "                             verbose=1,\n",
        "                             save_best_only=True,\n",
        "                             mode='max')\n",
        "\n",
        "# Train the model\n",
        "resnet_history = model.fit(\n",
        "    X_train,\n",
        "    y_train_age,\n",
        "    epochs=10,\n",
        "    batch_size=32,\n",
        "    validation_data=(X_val, y_val_age),\n",
        "    callbacks=[checkpoint]\n",
        ")\n"
      ],
      "metadata": {
        "colab": {
          "base_uri": "https://localhost:8080/"
        },
        "id": "p-8lDhMei3Mb",
        "outputId": "75cc1deb-95d8-409d-a425-3dcd462d1d6d"
      },
      "execution_count": 121,
      "outputs": [
        {
          "output_type": "stream",
          "name": "stdout",
          "text": [
            "Epoch 1/10\n",
            "223/223 [==============================] - ETA: 0s - loss: 0.4270 - accuracy: 0.8030\n",
            "Epoch 1: val_accuracy improved from -inf to 0.83465, saving model to /content/drive/MyDrive/Visual reg/Project/19_resnet50v2_model_baseline.keras\n",
            "223/223 [==============================] - 119s 515ms/step - loss: 0.4270 - accuracy: 0.8030 - val_loss: 0.3768 - val_accuracy: 0.8346\n",
            "Epoch 2/10\n",
            "223/223 [==============================] - ETA: 0s - loss: 0.2574 - accuracy: 0.8947\n",
            "Epoch 2: val_accuracy improved from 0.83465 to 0.83834, saving model to /content/drive/MyDrive/Visual reg/Project/19_resnet50v2_model_baseline.keras\n",
            "223/223 [==============================] - 113s 509ms/step - loss: 0.2574 - accuracy: 0.8947 - val_loss: 0.3744 - val_accuracy: 0.8383\n",
            "Epoch 3/10\n",
            "223/223 [==============================] - ETA: 0s - loss: 0.1887 - accuracy: 0.9260\n",
            "Epoch 3: val_accuracy improved from 0.83834 to 0.84044, saving model to /content/drive/MyDrive/Visual reg/Project/19_resnet50v2_model_baseline.keras\n",
            "223/223 [==============================] - 111s 499ms/step - loss: 0.1887 - accuracy: 0.9260 - val_loss: 0.3896 - val_accuracy: 0.8404\n",
            "Epoch 4/10\n",
            "223/223 [==============================] - ETA: 0s - loss: 0.1346 - accuracy: 0.9524\n",
            "Epoch 4: val_accuracy did not improve from 0.84044\n",
            "223/223 [==============================] - 110s 496ms/step - loss: 0.1346 - accuracy: 0.9524 - val_loss: 0.4066 - val_accuracy: 0.8399\n",
            "Epoch 5/10\n",
            "223/223 [==============================] - ETA: 0s - loss: 0.0979 - accuracy: 0.9678\n",
            "Epoch 5: val_accuracy improved from 0.84044 to 0.84518, saving model to /content/drive/MyDrive/Visual reg/Project/19_resnet50v2_model_baseline.keras\n",
            "223/223 [==============================] - 111s 497ms/step - loss: 0.0979 - accuracy: 0.9678 - val_loss: 0.4216 - val_accuracy: 0.8452\n",
            "Epoch 6/10\n",
            "223/223 [==============================] - ETA: 0s - loss: 0.0698 - accuracy: 0.9796\n",
            "Epoch 6: val_accuracy did not improve from 0.84518\n",
            "223/223 [==============================] - 109s 488ms/step - loss: 0.0698 - accuracy: 0.9796 - val_loss: 0.4692 - val_accuracy: 0.8420\n",
            "Epoch 7/10\n",
            "223/223 [==============================] - ETA: 0s - loss: 0.0626 - accuracy: 0.9795\n",
            "Epoch 7: val_accuracy did not improve from 0.84518\n",
            "223/223 [==============================] - 110s 492ms/step - loss: 0.0626 - accuracy: 0.9795 - val_loss: 0.4718 - val_accuracy: 0.8431\n",
            "Epoch 8/10\n",
            "223/223 [==============================] - ETA: 0s - loss: 0.0496 - accuracy: 0.9844\n",
            "Epoch 8: val_accuracy did not improve from 0.84518\n",
            "223/223 [==============================] - 109s 490ms/step - loss: 0.0496 - accuracy: 0.9844 - val_loss: 0.5028 - val_accuracy: 0.8331\n",
            "Epoch 9/10\n",
            "223/223 [==============================] - ETA: 0s - loss: 0.0426 - accuracy: 0.9874\n",
            "Epoch 9: val_accuracy did not improve from 0.84518\n",
            "223/223 [==============================] - 111s 500ms/step - loss: 0.0426 - accuracy: 0.9874 - val_loss: 0.5533 - val_accuracy: 0.8331\n",
            "Epoch 10/10\n",
            "223/223 [==============================] - ETA: 0s - loss: 0.0355 - accuracy: 0.9900\n",
            "Epoch 10: val_accuracy did not improve from 0.84518\n",
            "223/223 [==============================] - 113s 505ms/step - loss: 0.0355 - accuracy: 0.9900 - val_loss: 0.5769 - val_accuracy: 0.8336\n"
          ]
        }
      ]
    },
    {
      "cell_type": "code",
      "source": [
        "evaluate_and_plot(resnet_history)"
      ],
      "metadata": {
        "colab": {
          "base_uri": "https://localhost:8080/",
          "height": 545
        },
        "id": "rrXmwS8bnoGi",
        "outputId": "57a505a1-5608-4e3b-9b93-d8a8e0fec4eb"
      },
      "execution_count": 122,
      "outputs": [
        {
          "output_type": "stream",
          "name": "stdout",
          "text": [
            "Best Training Accuracy: 0.9900\n",
            "Best Validation Accuracy: 0.8452\n",
            "Best Training Loss: 0.0355\n",
            "Best Validation Loss: 0.3744\n"
          ]
        },
        {
          "output_type": "display_data",
          "data": {
            "text/plain": [
              "<Figure size 1200x500 with 2 Axes>"
            ],
            "image/png": "[encoded data removed]"
          },
          "metadata": {}
        }
      ]
    }
  ]
}