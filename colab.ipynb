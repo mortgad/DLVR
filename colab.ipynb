{
  "cells": [
    {
      "cell_type": "markdown",
      "metadata": {
        "id": "view-in-github",
        "colab_type": "text"
      },
      "source": [
        "<a href=\"https://colab.research.google.com/github/mortgad/DLVR/blob/main/colab.ipynb\" target=\"_parent\"><img src=\"https://colab.research.google.com/assets/colab-badge.svg\" alt=\"Open In Colab\"/></a>"
      ]
    },
    {
      "cell_type": "code",
      "execution_count": 1,
      "metadata": {
        "colab": {
          "base_uri": "https://localhost:8080/"
        },
        "id": "Jj-m44YttBVO",
        "outputId": "c735f19e-0ceb-466e-df4e-260dc4c276d8"
      },
      "outputs": [
        {
          "output_type": "stream",
          "name": "stdout",
          "text": [
            "Mounted at /content/drive\n"
          ]
        }
      ],
      "source": [
        "from google.colab import drive\n",
        "drive.mount('/content/drive')"
      ]
    },
    {
      "cell_type": "markdown",
      "metadata": {
        "id": "QABKoE2fXlJZ"
      },
      "source": [
        "# Loading the data"
      ]
    },
    {
      "cell_type": "code",
      "execution_count": 2,
      "metadata": {
        "colab": {
          "base_uri": "https://localhost:8080/"
        },
        "id": "SAQuSTHHVEKd",
        "outputId": "66cfa45c-2806-4e8f-a379-9df31b7e7559"
      },
      "outputs": [
        {
          "output_type": "stream",
          "name": "stdout",
          "text": [
            "Requirement already satisfied: PyDrive in /usr/local/lib/python3.10/dist-packages (1.3.1)\n",
            "Requirement already satisfied: google-api-python-client>=1.2 in /usr/local/lib/python3.10/dist-packages (from PyDrive) (2.137.0)\n",
            "Requirement already satisfied: oauth2client>=4.0.0 in /usr/local/lib/python3.10/dist-packages (from PyDrive) (4.1.3)\n",
            "Requirement already satisfied: PyYAML>=3.0 in /usr/local/lib/python3.10/dist-packages (from PyDrive) (6.0.2)\n",
            "Requirement already satisfied: httplib2<1.dev0,>=0.19.0 in /usr/local/lib/python3.10/dist-packages (from google-api-python-client>=1.2->PyDrive) (0.22.0)\n",
            "Requirement already satisfied: google-auth!=2.24.0,!=2.25.0,<3.0.0.dev0,>=1.32.0 in /usr/local/lib/python3.10/dist-packages (from google-api-python-client>=1.2->PyDrive) (2.27.0)\n",
            "Requirement already satisfied: google-auth-httplib2<1.0.0,>=0.2.0 in /usr/local/lib/python3.10/dist-packages (from google-api-python-client>=1.2->PyDrive) (0.2.0)\n",
            "Requirement already satisfied: google-api-core!=2.0.*,!=2.1.*,!=2.2.*,!=2.3.0,<3.0.0.dev0,>=1.31.5 in /usr/local/lib/python3.10/dist-packages (from google-api-python-client>=1.2->PyDrive) (2.19.2)\n",
            "Requirement already satisfied: uritemplate<5,>=3.0.1 in /usr/local/lib/python3.10/dist-packages (from google-api-python-client>=1.2->PyDrive) (4.1.1)\n",
            "Requirement already satisfied: pyasn1>=0.1.7 in /usr/local/lib/python3.10/dist-packages (from oauth2client>=4.0.0->PyDrive) (0.6.1)\n",
            "Requirement already satisfied: pyasn1-modules>=0.0.5 in /usr/local/lib/python3.10/dist-packages (from oauth2client>=4.0.0->PyDrive) (0.4.1)\n",
            "Requirement already satisfied: rsa>=3.1.4 in /usr/local/lib/python3.10/dist-packages (from oauth2client>=4.0.0->PyDrive) (4.9)\n",
            "Requirement already satisfied: six>=1.6.1 in /usr/local/lib/python3.10/dist-packages (from oauth2client>=4.0.0->PyDrive) (1.16.0)\n",
            "Requirement already satisfied: googleapis-common-protos<2.0.dev0,>=1.56.2 in /usr/local/lib/python3.10/dist-packages (from google-api-core!=2.0.*,!=2.1.*,!=2.2.*,!=2.3.0,<3.0.0.dev0,>=1.31.5->google-api-python-client>=1.2->PyDrive) (1.65.0)\n",
            "Requirement already satisfied: protobuf!=3.20.0,!=3.20.1,!=4.21.0,!=4.21.1,!=4.21.2,!=4.21.3,!=4.21.4,!=4.21.5,<6.0.0.dev0,>=3.19.5 in /usr/local/lib/python3.10/dist-packages (from google-api-core!=2.0.*,!=2.1.*,!=2.2.*,!=2.3.0,<3.0.0.dev0,>=1.31.5->google-api-python-client>=1.2->PyDrive) (3.20.3)\n",
            "Requirement already satisfied: proto-plus<2.0.0dev,>=1.22.3 in /usr/local/lib/python3.10/dist-packages (from google-api-core!=2.0.*,!=2.1.*,!=2.2.*,!=2.3.0,<3.0.0.dev0,>=1.31.5->google-api-python-client>=1.2->PyDrive) (1.24.0)\n",
            "Requirement already satisfied: requests<3.0.0.dev0,>=2.18.0 in /usr/local/lib/python3.10/dist-packages (from google-api-core!=2.0.*,!=2.1.*,!=2.2.*,!=2.3.0,<3.0.0.dev0,>=1.31.5->google-api-python-client>=1.2->PyDrive) (2.32.3)\n",
            "Requirement already satisfied: cachetools<6.0,>=2.0.0 in /usr/local/lib/python3.10/dist-packages (from google-auth!=2.24.0,!=2.25.0,<3.0.0.dev0,>=1.32.0->google-api-python-client>=1.2->PyDrive) (5.5.0)\n",
            "Requirement already satisfied: pyparsing!=3.0.0,!=3.0.1,!=3.0.2,!=3.0.3,<4,>=2.4.2 in /usr/local/lib/python3.10/dist-packages (from httplib2<1.dev0,>=0.19.0->google-api-python-client>=1.2->PyDrive) (3.1.4)\n",
            "Requirement already satisfied: charset-normalizer<4,>=2 in /usr/local/lib/python3.10/dist-packages (from requests<3.0.0.dev0,>=2.18.0->google-api-core!=2.0.*,!=2.1.*,!=2.2.*,!=2.3.0,<3.0.0.dev0,>=1.31.5->google-api-python-client>=1.2->PyDrive) (3.3.2)\n",
            "Requirement already satisfied: idna<4,>=2.5 in /usr/local/lib/python3.10/dist-packages (from requests<3.0.0.dev0,>=2.18.0->google-api-core!=2.0.*,!=2.1.*,!=2.2.*,!=2.3.0,<3.0.0.dev0,>=1.31.5->google-api-python-client>=1.2->PyDrive) (3.10)\n",
            "Requirement already satisfied: urllib3<3,>=1.21.1 in /usr/local/lib/python3.10/dist-packages (from requests<3.0.0.dev0,>=2.18.0->google-api-core!=2.0.*,!=2.1.*,!=2.2.*,!=2.3.0,<3.0.0.dev0,>=1.31.5->google-api-python-client>=1.2->PyDrive) (2.0.7)\n",
            "Requirement already satisfied: certifi>=2017.4.17 in /usr/local/lib/python3.10/dist-packages (from requests<3.0.0.dev0,>=2.18.0->google-api-core!=2.0.*,!=2.1.*,!=2.2.*,!=2.3.0,<3.0.0.dev0,>=1.31.5->google-api-python-client>=1.2->PyDrive) (2024.8.30)\n"
          ]
        }
      ],
      "source": [
        "!pip install PyDrive"
      ]
    },
    {
      "cell_type": "code",
      "execution_count": 3,
      "metadata": {
        "colab": {
          "base_uri": "https://localhost:8080/"
        },
        "id": "gto-tpYtXBjb",
        "outputId": "9eebfb66-dd81-4d45-dd08-77b0f8009626"
      },
      "outputs": [
        {
          "output_type": "stream",
          "name": "stderr",
          "text": [
            "WARNING:root:pydrive is deprecated and no longer maintained. We recommend that you migrate your projects to pydrive2, the maintained fork of pydrive\n"
          ]
        },
        {
          "output_type": "stream",
          "name": "stdout",
          "text": [
            "Downloading part3.tar.gz\n",
            "Extracted part3.tar.gz\n",
            "Downloading part2.tar.gz\n",
            "Extracted part2.tar.gz\n",
            "Downloading part1.tar.gz\n",
            "Extracted part1.tar.gz\n"
          ]
        }
      ],
      "source": [
        "from pydrive.auth import GoogleAuth\n",
        "from pydrive.drive import GoogleDrive\n",
        "from google.colab import auth\n",
        "from oauth2client.client import GoogleCredentials\n",
        "import os\n",
        "import tarfile\n",
        "\n",
        "# Authenticate PyDrive\n",
        "auth.authenticate_user()\n",
        "gauth = GoogleAuth()\n",
        "gauth.credentials = GoogleCredentials.get_application_default()\n",
        "drive = GoogleDrive(gauth)\n",
        "\n",
        "# Folder ID from the shared Google Drive folder\n",
        "folder_id = '1HROmgviy4jUUUaCdvvrQ8PcqtNg2jn3G'\n",
        "file_list = drive.ListFile({'q': f\"'{folder_id}' in parents and trashed=false\"}).GetList()\n",
        "\n",
        "# Loop through the files and download each .tar.gz file\n",
        "for file in file_list:\n",
        "    if file['title'].endswith('.tar.gz'):\n",
        "        print(f'Downloading {file[\"title\"]}')\n",
        "        file.GetContentFile(file['title'])\n",
        "\n",
        "        # Extract the .tar.gz file\n",
        "        tar = tarfile.open(file['title'])\n",
        "        tar.extractall('/content/extracted')  # Extract all files to /content/extracted directory\n",
        "        tar.close()\n",
        "\n",
        "        print(f'Extracted {file[\"title\"]}')"
      ]
    },
    {
      "cell_type": "markdown",
      "metadata": {
        "id": "s3f-KT5mXn9V"
      },
      "source": [
        "# Data Test"
      ]
    },
    {
      "cell_type": "code",
      "execution_count": null,
      "metadata": {
        "id": "vlvThZ88d9KD",
        "colab": {
          "base_uri": "https://localhost:8080/"
        },
        "outputId": "c7f2cf13-ee3b-4731-caae-9140b78edec4"
      },
      "outputs": [
        {
          "output_type": "display_data",
          "data": {
            "text/plain": [
              "<Figure size 640x480 with 1 Axes>"
            ],
            "image/png": "[encoded data removed]"
          },
          "metadata": {}
        },
        {
          "output_type": "stream",
          "name": "stdout",
          "text": [
            "Shape: (224, 224, 3)\n"
          ]
        }
      ],
      "source": [
        "import cv2\n",
        "import matplotlib.pyplot as plt\n",
        "\n",
        "file_path = '/content/extracted/part3/100_1_0_20170119212053665.jpg'\n",
        "image = cv2.imread(file_path)\n",
        "\n",
        "# Convert BGR to RGB\n",
        "image_rgb = cv2.cvtColor(image, cv2.COLOR_BGR2RGB)\n",
        "\n",
        "# Display the image\n",
        "plt.imshow(image_rgb)\n",
        "plt.axis('off')  # Hide axes\n",
        "plt.show()\n",
        "\n",
        "# Print the shape of the image\n",
        "print(f\"Shape: {image.shape}\")\n"
      ]
    },
    {
      "cell_type": "markdown",
      "metadata": {
        "id": "RwJLHgJZYmsY"
      },
      "source": [
        "# Data Cleaning"
      ]
    },
    {
      "cell_type": "code",
      "execution_count": 4,
      "metadata": {
        "id": "YBQeJQWZylfM",
        "colab": {
          "base_uri": "https://localhost:8080/"
        },
        "outputId": "854a563e-0f5c-4010-9678-5a247cd94d04"
      },
      "outputs": [
        {
          "output_type": "stream",
          "name": "stdout",
          "text": [
            "Deleted: /content/extracted/part3/55_0_0_20170116232725357jpg\n",
            "Deleted: /content/extracted/part3/.DS_Store\n",
            "Deleted: /content/extracted/part3/44_1_4_20170116235150272.pg\n"
          ]
        }
      ],
      "source": [
        "import os\n",
        "\n",
        "def delete_non_image_files(directories, allowed_extensions=('.jpg', '.jpeg', '.png', '.bmp', '.tiff')):\n",
        "    for directory in directories:\n",
        "        for filename in os.listdir(directory):\n",
        "            if not filename.lower().endswith(allowed_extensions):\n",
        "                file_path = os.path.join(directory, filename)\n",
        "                os.remove(file_path)\n",
        "                print(f\"Deleted: {file_path}\")\n",
        "\n",
        "# Specify the directories\n",
        "directories = [\n",
        "    '/content/extracted/part1',\n",
        "    '/content/extracted/part2',\n",
        "    '/content/extracted/part3'\n",
        "]\n",
        "\n",
        "# Run the function to delete non-image files\n",
        "delete_non_image_files(directories)"
      ]
    },
    {
      "cell_type": "code",
      "execution_count": 5,
      "metadata": {
        "id": "cWs_va084ScO",
        "colab": {
          "base_uri": "https://localhost:8080/"
        },
        "outputId": "b8104469-1c7c-4990-823f-50bf62823453"
      },
      "outputs": [
        {
          "output_type": "stream",
          "name": "stdout",
          "text": [
            "Deleted: /content/extracted/part1/61_1_20170109142408075.jpg\n",
            "Deleted: /content/extracted/part1/61_3_20170109150557335.jpg\n",
            "Deleted: /content/extracted/part2/53__0_20170116184028385.jpg\n",
            "Deleted: /content/extracted/part2/39_1_20170116174525125.jpg\n",
            "Deleted: /content/extracted/part3/24_0_1_20170116220224657 .jpg\n"
          ]
        }
      ],
      "source": [
        "import os\n",
        "import re\n",
        "\n",
        "def delete_invalid_images(directories):\n",
        "    # Regular expression pattern to match the desired format\n",
        "    pattern = re.compile(r'^\\d+_\\d+_\\d+_\\d+\\.\\w+$')\n",
        "\n",
        "    for directory in directories:\n",
        "        for filename in os.listdir(directory):\n",
        "            # Check if the filename matches the desired pattern\n",
        "            if not pattern.match(filename):\n",
        "                file_path = os.path.join(directory, filename)\n",
        "                os.remove(file_path)\n",
        "                print(f\"Deleted: {file_path}\")\n",
        "\n",
        "# Specify the directories\n",
        "directories = [\n",
        "    '/content/extracted/part1',\n",
        "    '/content/extracted/part2',\n",
        "    '/content/extracted/part3'\n",
        "]\n",
        "\n",
        "# Run the function to delete invalid images\n",
        "delete_invalid_images(directories)"
      ]
    },
    {
      "cell_type": "code",
      "execution_count": 6,
      "metadata": {
        "id": "9QYb2hvrk9zy"
      },
      "outputs": [],
      "source": [
        "import cv2\n",
        "import os\n",
        "\n",
        "def resize_images_in_directories(directories, target_size=(224, 224)):\n",
        "    supported_extensions = ('.jpg', '.jpeg', '.png', '.bmp', '.tiff')\n",
        "\n",
        "    for directory in directories:\n",
        "        for filename in os.listdir(directory):\n",
        "            if filename.lower().endswith(supported_extensions):\n",
        "                file_path = os.path.join(directory, filename)\n",
        "\n",
        "                # Read the image\n",
        "                image = cv2.imread(file_path)\n",
        "\n",
        "                if image is not None:\n",
        "                    # Resize the image to the target size\n",
        "                    resized_image = cv2.resize(image, target_size)\n",
        "\n",
        "                    # Save the resized image back to the same path, or specify a different path if needed\n",
        "                    cv2.imwrite(file_path, resized_image)\n",
        "                else:\n",
        "                    print(f\"Warning: Failed to load {file_path}, skipping.\")\n",
        "            else:\n",
        "                print(f\"Skipping non-image file: {filename}\")\n",
        "\n",
        "# Specify the directories\n",
        "directories = [\n",
        "    '/content/extracted/part1',\n",
        "    '/content/extracted/part2',\n",
        "    '/content/extracted/part3'\n",
        "]\n",
        "\n",
        "resize_images_in_directories(directories)"
      ]
    },
    {
      "cell_type": "code",
      "execution_count": 7,
      "metadata": {
        "colab": {
          "base_uri": "https://localhost:8080/"
        },
        "id": "iqNUDzlg0hwl",
        "outputId": "3e3377f4-d8e0-41b5-97d1-bfbfe5c074bf"
      },
      "outputs": [
        {
          "output_type": "stream",
          "name": "stdout",
          "text": [
            "Number of files in /content/extracted/part1: 10135\n",
            "Number of files in /content/extracted/part2: 10717\n",
            "Number of files in /content/extracted/part3: 3249\n"
          ]
        }
      ],
      "source": [
        "import os\n",
        "\n",
        "def count_files_in_directories(directories):\n",
        "    file_counts = {}\n",
        "\n",
        "    for directory in directories:\n",
        "        count = len(os.listdir(directory))\n",
        "        file_counts[directory] = count\n",
        "\n",
        "    return file_counts\n",
        "\n",
        "# Specify the directories\n",
        "directories = [\n",
        "    '/content/extracted/part1',\n",
        "    '/content/extracted/part2',\n",
        "    '/content/extracted/part3'\n",
        "]\n",
        "\n",
        "# Run the function and print the counts\n",
        "file_counts = count_files_in_directories(directories)\n",
        "\n",
        "for directory, count in file_counts.items():\n",
        "    print(f\"Number of files in {directory}: {count}\")"
      ]
    },
    {
      "cell_type": "code",
      "execution_count": 8,
      "metadata": {
        "colab": {
          "base_uri": "https://localhost:8080/"
        },
        "id": "JNo5m_S7eSDz",
        "outputId": "13347320-6dd6-4532-8d4a-f8cf1851bdb9"
      },
      "outputs": [
        {
          "output_type": "stream",
          "name": "stdout",
          "text": [
            "Processing from: /content/extracted/part1\n",
            "Processing from: /content/extracted/part2\n",
            "Processing from: /content/extracted/part3\n"
          ]
        }
      ],
      "source": [
        "import os\n",
        "import cv2\n",
        "import numpy as np\n",
        "import pandas as pd\n",
        "\n",
        "# Specify the directories\n",
        "directories = [\n",
        "    '/content/extracted/part1',\n",
        "    '/content/extracted/part2',\n",
        "    '/content/extracted/part3'\n",
        "]\n",
        "\n",
        "# Process each directory\n",
        "i = 1  # Moved this outside the loop to avoid resetting\n",
        "# Initialize lists to store images and labels\n",
        "images = []\n",
        "ages = []\n",
        "genders = []\n",
        "ethnicities = []\n",
        "\n",
        "for directory in directories:\n",
        "    print(f\"Processing from: {directory}\")\n",
        "    files = os.listdir(directory)\n",
        "\n",
        "    for file in files:\n",
        "        file_path = os.path.join(directory, file)\n",
        "\n",
        "        # Read the image\n",
        "        image = cv2.imread(file_path)\n",
        "\n",
        "        if image is not None:  # Check if the image was loaded successfully\n",
        "            # Convert BGR to RGB\n",
        "            image_rgb = cv2.cvtColor(image, cv2.COLOR_BGR2RGB)\n",
        "\n",
        "            # Append the flattened image and labels to their respective lists\n",
        "            images.append(image_rgb)\n",
        "            split_var = file.split('_')\n",
        "            ages.append(int(split_var[0]))\n",
        "            genders.append(int(split_var[1]))\n",
        "            ethnicities.append(int(split_var[2]))\n",
        "        else:\n",
        "            print(f\"Failed to load image: {file_path}\")\n",
        "\n",
        "    i += 1  # Increment the counter\n"
      ]
    },
    {
      "cell_type": "code",
      "execution_count": 9,
      "metadata": {
        "colab": {
          "base_uri": "https://localhost:8080/"
        },
        "id": "6qsvtOgoNMml",
        "outputId": "0fb11ed9-2d51-4281-f62f-10e257630842"
      },
      "outputs": [
        {
          "output_type": "stream",
          "name": "stdout",
          "text": [
            "Length of ages: 24101\n",
            "Length of genders: 24101\n",
            "Length of ethnicities: 24101\n",
            "Length of images: 24101\n"
          ]
        }
      ],
      "source": [
        "# After processing each directory, you can print the lengths of your lists:\n",
        "print(f\"Length of ages: {len(ages)}\")\n",
        "print(f\"Length of genders: {len(genders)}\")\n",
        "print(f\"Length of ethnicities: {len(ethnicities)}\")\n",
        "print(f\"Length of images: {len(images)}\")"
      ]
    },
    {
      "cell_type": "markdown",
      "source": [],
      "metadata": {
        "id": "WTeWX5iyxEWx"
      }
    },
    {
      "cell_type": "markdown",
      "source": [
        "#EDA\n"
      ],
      "metadata": {
        "id": "kpNnfmSgTCcb"
      }
    },
    {
      "cell_type": "code",
      "source": [
        "# Get libraries for loading data and plotting subgroups\n",
        "\n",
        "import pandas as pd\n",
        "import seaborn as sns\n",
        "import matplotlib as plt\n",
        "import numpy as np\n",
        "\n",
        "\n",
        "# Make one dataframe with all lists:\n",
        "# Creating DataFrame\n",
        "df = pd.DataFrame({\n",
        "    'Image': images,\n",
        "    'Age': ages,\n",
        "    'Gender': genders,\n",
        "    'Ethnicity': ethnicities\n",
        "})\n",
        "\n",
        "df.head(10)"
      ],
      "metadata": {
        "id": "6CzC_UueTWla",
        "outputId": "c4d5e78c-73f8-43c5-c185-ca483df4970f",
        "colab": {
          "base_uri": "https://localhost:8080/",
          "height": 363
        }
      },
      "execution_count": 11,
      "outputs": [
        {
          "output_type": "execute_result",
          "data": {
            "text/plain": [
              "                                               Image  Age  Gender  Ethnicity\n",
              "0  [[[227, 244, 252], [227, 244, 252], [226, 243,...   20       1          4\n",
              "1  [[[10, 11, 6], [10, 11, 6], [9, 10, 5], [9, 10...    2       1          2\n",
              "2  [[[165, 164, 160], [167, 166, 162], [169, 168,...    4       0          2\n",
              "3  [[[48, 43, 40], [48, 43, 40], [48, 43, 40], [4...   28       0          3\n",
              "4  [[[91, 95, 98], [0, 0, 0], [8, 1, 0], [9, 0, 0...   52       1          0\n",
              "5  [[[8, 7, 3], [22, 21, 17], [34, 30, 27], [14, ...   90       0          0\n",
              "6  [[[150, 210, 218], [152, 211, 219], [156, 210,...    8       1          0\n",
              "7  [[[64, 66, 55], [61, 63, 52], [62, 65, 54], [5...   54       1          0\n",
              "8  [[[255, 255, 255], [255, 255, 255], [255, 255,...    1       1          3\n",
              "9  [[[26, 18, 0], [27, 15, 0], [29, 11, 0], [38, ...   85       0          0"
            ],
            "text/html": [
              "\n",
              "  <div id=\"df-65da45ed-acb3-426a-b9c3-954aff38f765\" class=\"colab-df-container\">\n",
              "    <div>\n",
              "<style scoped>\n",
              "    .dataframe tbody tr th:only-of-type {\n",
              "        vertical-align: middle;\n",
              "    }\n",
              "\n",
              "    .dataframe tbody tr th {\n",
              "        vertical-align: top;\n",
              "    }\n",
              "\n",
              "    .dataframe thead th {\n",
              "        text-align: right;\n",
              "    }\n",
              "</style>\n",
              "<table border=\"1\" class=\"dataframe\">\n",
              "  <thead>\n",
              "    <tr style=\"text-align: right;\">\n",
              "      <th></th>\n",
              "      <th>Image</th>\n",
              "      <th>Age</th>\n",
              "      <th>Gender</th>\n",
              "      <th>Ethnicity</th>\n",
              "    </tr>\n",
              "  </thead>\n",
              "  <tbody>\n",
              "    <tr>\n",
              "      <th>0</th>\n",
              "      <td>[[[227, 244, 252], [227, 244, 252], [226, 243,...</td>\n",
              "      <td>20</td>\n",
              "      <td>1</td>\n",
              "      <td>4</td>\n",
              "    </tr>\n",
              "    <tr>\n",
              "      <th>1</th>\n",
              "      <td>[[[10, 11, 6], [10, 11, 6], [9, 10, 5], [9, 10...</td>\n",
              "      <td>2</td>\n",
              "      <td>1</td>\n",
              "      <td>2</td>\n",
              "    </tr>\n",
              "    <tr>\n",
              "      <th>2</th>\n",
              "      <td>[[[165, 164, 160], [167, 166, 162], [169, 168,...</td>\n",
              "      <td>4</td>\n",
              "      <td>0</td>\n",
              "      <td>2</td>\n",
              "    </tr>\n",
              "    <tr>\n",
              "      <th>3</th>\n",
              "      <td>[[[48, 43, 40], [48, 43, 40], [48, 43, 40], [4...</td>\n",
              "      <td>28</td>\n",
              "      <td>0</td>\n",
              "      <td>3</td>\n",
              "    </tr>\n",
              "    <tr>\n",
              "      <th>4</th>\n",
              "      <td>[[[91, 95, 98], [0, 0, 0], [8, 1, 0], [9, 0, 0...</td>\n",
              "      <td>52</td>\n",
              "      <td>1</td>\n",
              "      <td>0</td>\n",
              "    </tr>\n",
              "    <tr>\n",
              "      <th>5</th>\n",
              "      <td>[[[8, 7, 3], [22, 21, 17], [34, 30, 27], [14, ...</td>\n",
              "      <td>90</td>\n",
              "      <td>0</td>\n",
              "      <td>0</td>\n",
              "    </tr>\n",
              "    <tr>\n",
              "      <th>6</th>\n",
              "      <td>[[[150, 210, 218], [152, 211, 219], [156, 210,...</td>\n",
              "      <td>8</td>\n",
              "      <td>1</td>\n",
              "      <td>0</td>\n",
              "    </tr>\n",
              "    <tr>\n",
              "      <th>7</th>\n",
              "      <td>[[[64, 66, 55], [61, 63, 52], [62, 65, 54], [5...</td>\n",
              "      <td>54</td>\n",
              "      <td>1</td>\n",
              "      <td>0</td>\n",
              "    </tr>\n",
              "    <tr>\n",
              "      <th>8</th>\n",
              "      <td>[[[255, 255, 255], [255, 255, 255], [255, 255,...</td>\n",
              "      <td>1</td>\n",
              "      <td>1</td>\n",
              "      <td>3</td>\n",
              "    </tr>\n",
              "    <tr>\n",
              "      <th>9</th>\n",
              "      <td>[[[26, 18, 0], [27, 15, 0], [29, 11, 0], [38, ...</td>\n",
              "      <td>85</td>\n",
              "      <td>0</td>\n",
              "      <td>0</td>\n",
              "    </tr>\n",
              "  </tbody>\n",
              "</table>\n",
              "</div>\n",
              "    <div class=\"colab-df-buttons\">\n",
              "\n",
              "  <div class=\"colab-df-container\">\n",
              "    <button class=\"colab-df-convert\" onclick=\"convertToInteractive('df-65da45ed-acb3-426a-b9c3-954aff38f765')\"\n",
              "            title=\"Convert this dataframe to an interactive table.\"\n",
              "            style=\"display:none;\">\n",
              "\n",
              "  <svg xmlns=\"http://www.w3.org/2000/svg\" height=\"24px\" viewBox=\"0 -960 960 960\">\n",
              "    <path d=\"M120-120v-720h720v720H120Zm60-500h600v-160H180v160Zm220 220h160v-160H400v160Zm0 220h160v-160H400v160ZM180-400h160v-160H180v160Zm440 0h160v-160H620v160ZM180-180h160v-160H180v160Zm440 0h160v-160H620v160Z\"/>\n",
              "  </svg>\n",
              "    </button>\n",
              "\n",
              "  <style>\n",
              "    .colab-df-container {\n",
              "      display:flex;\n",
              "      gap: 12px;\n",
              "    }\n",
              "\n",
              "    .colab-df-convert {\n",
              "      background-color: #E8F0FE;\n",
              "      border: none;\n",
              "      border-radius: 50%;\n",
              "      cursor: pointer;\n",
              "      display: none;\n",
              "      fill: #1967D2;\n",
              "      height: 32px;\n",
              "      padding: 0 0 0 0;\n",
              "      width: 32px;\n",
              "    }\n",
              "\n",
              "    .colab-df-convert:hover {\n",
              "      background-color: #E2EBFA;\n",
              "      box-shadow: 0px 1px 2px rgba(60, 64, 67, 0.3), 0px 1px 3px 1px rgba(60, 64, 67, 0.15);\n",
              "      fill: #174EA6;\n",
              "    }\n",
              "\n",
              "    .colab-df-buttons div {\n",
              "      margin-bottom: 4px;\n",
              "    }\n",
              "\n",
              "    [theme=dark] .colab-df-convert {\n",
              "      background-color: #3B4455;\n",
              "      fill: #D2E3FC;\n",
              "    }\n",
              "\n",
              "    [theme=dark] .colab-df-convert:hover {\n",
              "      background-color: #434B5C;\n",
              "      box-shadow: 0px 1px 3px 1px rgba(0, 0, 0, 0.15);\n",
              "      filter: drop-shadow(0px 1px 2px rgba(0, 0, 0, 0.3));\n",
              "      fill: #FFFFFF;\n",
              "    }\n",
              "  </style>\n",
              "\n",
              "    <script>\n",
              "      const buttonEl =\n",
              "        document.querySelector('#df-65da45ed-acb3-426a-b9c3-954aff38f765 button.colab-df-convert');\n",
              "      buttonEl.style.display =\n",
              "        google.colab.kernel.accessAllowed ? 'block' : 'none';\n",
              "\n",
              "      async function convertToInteractive(key) {\n",
              "        const element = document.querySelector('#df-65da45ed-acb3-426a-b9c3-954aff38f765');\n",
              "        const dataTable =\n",
              "          await google.colab.kernel.invokeFunction('convertToInteractive',\n",
              "                                                    [key], {});\n",
              "        if (!dataTable) return;\n",
              "\n",
              "        const docLinkHtml = 'Like what you see? Visit the ' +\n",
              "          '<a target=\"_blank\" href=https://colab.research.google.com/notebooks/data_table.ipynb>data table notebook</a>'\n",
              "          + ' to learn more about interactive tables.';\n",
              "        element.innerHTML = '';\n",
              "        dataTable['output_type'] = 'display_data';\n",
              "        await google.colab.output.renderOutput(dataTable, element);\n",
              "        const docLink = document.createElement('div');\n",
              "        docLink.innerHTML = docLinkHtml;\n",
              "        element.appendChild(docLink);\n",
              "      }\n",
              "    </script>\n",
              "  </div>\n",
              "\n",
              "\n",
              "<div id=\"df-6e7e1b87-b1b4-4d2b-a531-f1e89b47cad4\">\n",
              "  <button class=\"colab-df-quickchart\" onclick=\"quickchart('df-6e7e1b87-b1b4-4d2b-a531-f1e89b47cad4')\"\n",
              "            title=\"Suggest charts\"\n",
              "            style=\"display:none;\">\n",
              "\n",
              "<svg xmlns=\"http://www.w3.org/2000/svg\" height=\"24px\"viewBox=\"0 0 24 24\"\n",
              "     width=\"24px\">\n",
              "    <g>\n",
              "        <path d=\"M19 3H5c-1.1 0-2 .9-2 2v14c0 1.1.9 2 2 2h14c1.1 0 2-.9 2-2V5c0-1.1-.9-2-2-2zM9 17H7v-7h2v7zm4 0h-2V7h2v10zm4 0h-2v-4h2v4z\"/>\n",
              "    </g>\n",
              "</svg>\n",
              "  </button>\n",
              "\n",
              "<style>\n",
              "  .colab-df-quickchart {\n",
              "      --bg-color: #E8F0FE;\n",
              "      --fill-color: #1967D2;\n",
              "      --hover-bg-color: #E2EBFA;\n",
              "      --hover-fill-color: #174EA6;\n",
              "      --disabled-fill-color: #AAA;\n",
              "      --disabled-bg-color: #DDD;\n",
              "  }\n",
              "\n",
              "  [theme=dark] .colab-df-quickchart {\n",
              "      --bg-color: #3B4455;\n",
              "      --fill-color: #D2E3FC;\n",
              "      --hover-bg-color: #434B5C;\n",
              "      --hover-fill-color: #FFFFFF;\n",
              "      --disabled-bg-color: #3B4455;\n",
              "      --disabled-fill-color: #666;\n",
              "  }\n",
              "\n",
              "  .colab-df-quickchart {\n",
              "    background-color: var(--bg-color);\n",
              "    border: none;\n",
              "    border-radius: 50%;\n",
              "    cursor: pointer;\n",
              "    display: none;\n",
              "    fill: var(--fill-color);\n",
              "    height: 32px;\n",
              "    padding: 0;\n",
              "    width: 32px;\n",
              "  }\n",
              "\n",
              "  .colab-df-quickchart:hover {\n",
              "    background-color: var(--hover-bg-color);\n",
              "    box-shadow: 0 1px 2px rgba(60, 64, 67, 0.3), 0 1px 3px 1px rgba(60, 64, 67, 0.15);\n",
              "    fill: var(--button-hover-fill-color);\n",
              "  }\n",
              "\n",
              "  .colab-df-quickchart-complete:disabled,\n",
              "  .colab-df-quickchart-complete:disabled:hover {\n",
              "    background-color: var(--disabled-bg-color);\n",
              "    fill: var(--disabled-fill-color);\n",
              "    box-shadow: none;\n",
              "  }\n",
              "\n",
              "  .colab-df-spinner {\n",
              "    border: 2px solid var(--fill-color);\n",
              "    border-color: transparent;\n",
              "    border-bottom-color: var(--fill-color);\n",
              "    animation:\n",
              "      spin 1s steps(1) infinite;\n",
              "  }\n",
              "\n",
              "  @keyframes spin {\n",
              "    0% {\n",
              "      border-color: transparent;\n",
              "      border-bottom-color: var(--fill-color);\n",
              "      border-left-color: var(--fill-color);\n",
              "    }\n",
              "    20% {\n",
              "      border-color: transparent;\n",
              "      border-left-color: var(--fill-color);\n",
              "      border-top-color: var(--fill-color);\n",
              "    }\n",
              "    30% {\n",
              "      border-color: transparent;\n",
              "      border-left-color: var(--fill-color);\n",
              "      border-top-color: var(--fill-color);\n",
              "      border-right-color: var(--fill-color);\n",
              "    }\n",
              "    40% {\n",
              "      border-color: transparent;\n",
              "      border-right-color: var(--fill-color);\n",
              "      border-top-color: var(--fill-color);\n",
              "    }\n",
              "    60% {\n",
              "      border-color: transparent;\n",
              "      border-right-color: var(--fill-color);\n",
              "    }\n",
              "    80% {\n",
              "      border-color: transparent;\n",
              "      border-right-color: var(--fill-color);\n",
              "      border-bottom-color: var(--fill-color);\n",
              "    }\n",
              "    90% {\n",
              "      border-color: transparent;\n",
              "      border-bottom-color: var(--fill-color);\n",
              "    }\n",
              "  }\n",
              "</style>\n",
              "\n",
              "  <script>\n",
              "    async function quickchart(key) {\n",
              "      const quickchartButtonEl =\n",
              "        document.querySelector('#' + key + ' button');\n",
              "      quickchartButtonEl.disabled = true;  // To prevent multiple clicks.\n",
              "      quickchartButtonEl.classList.add('colab-df-spinner');\n",
              "      try {\n",
              "        const charts = await google.colab.kernel.invokeFunction(\n",
              "            'suggestCharts', [key], {});\n",
              "      } catch (error) {\n",
              "        console.error('Error during call to suggestCharts:', error);\n",
              "      }\n",
              "      quickchartButtonEl.classList.remove('colab-df-spinner');\n",
              "      quickchartButtonEl.classList.add('colab-df-quickchart-complete');\n",
              "    }\n",
              "    (() => {\n",
              "      let quickchartButtonEl =\n",
              "        document.querySelector('#df-6e7e1b87-b1b4-4d2b-a531-f1e89b47cad4 button');\n",
              "      quickchartButtonEl.style.display =\n",
              "        google.colab.kernel.accessAllowed ? 'block' : 'none';\n",
              "    })();\n",
              "  </script>\n",
              "</div>\n",
              "\n",
              "    </div>\n",
              "  </div>\n"
            ],
            "application/vnd.google.colaboratory.intrinsic+json": {
              "type": "dataframe",
              "variable_name": "df",
              "summary": "{\n  \"name\": \"df\",\n  \"rows\": 24101,\n  \"fields\": [\n    {\n      \"column\": \"Image\",\n      \"properties\": {\n        \"dtype\": \"object\",\n        \"semantic_type\": \"\",\n        \"description\": \"\"\n      }\n    },\n    {\n      \"column\": \"Age\",\n      \"properties\": {\n        \"dtype\": \"number\",\n        \"std\": 20,\n        \"min\": 1,\n        \"max\": 116,\n        \"num_unique_values\": 104,\n        \"samples\": [\n          16,\n          12,\n          41\n        ],\n        \"semantic_type\": \"\",\n        \"description\": \"\"\n      }\n    },\n    {\n      \"column\": \"Gender\",\n      \"properties\": {\n        \"dtype\": \"number\",\n        \"std\": 0,\n        \"min\": 0,\n        \"max\": 1,\n        \"num_unique_values\": 2,\n        \"samples\": [\n          0,\n          1\n        ],\n        \"semantic_type\": \"\",\n        \"description\": \"\"\n      }\n    },\n    {\n      \"column\": \"Ethnicity\",\n      \"properties\": {\n        \"dtype\": \"number\",\n        \"std\": 1,\n        \"min\": 0,\n        \"max\": 4,\n        \"num_unique_values\": 5,\n        \"samples\": [\n          2,\n          1\n        ],\n        \"semantic_type\": \"\",\n        \"description\": \"\"\n      }\n    }\n  ]\n}"
            }
          },
          "metadata": {},
          "execution_count": 11
        }
      ]
    },
    {
      "cell_type": "code",
      "source": [
        "# As the img_name have no relevance for predictions, it is deleted.\n",
        "df = df.drop(\"Image\", axis = 1)\n",
        "\n",
        "# Looking at simple descriptive statistic, which may only be releveant for the numeric collumn age\n",
        "df.describe()\n",
        "\n",
        "# We see that there are age from 1 - 116. It could be discussed whehter pictures of babies are needed to build this model.\n",
        "# I should maybe also discuss whether 116 is an outlier."
      ],
      "metadata": {
        "id": "yI-bPnuPUx2_",
        "outputId": "12627e2d-2437-4ba6-de5c-2575a1538083",
        "colab": {
          "base_uri": "https://localhost:8080/",
          "height": 300
        }
      },
      "execution_count": 12,
      "outputs": [
        {
          "output_type": "execute_result",
          "data": {
            "text/plain": [
              "                Age        Gender     Ethnicity\n",
              "count  24101.000000  24101.000000  24101.000000\n",
              "mean      33.042156      0.478030      1.271731\n",
              "std       20.139284      0.499527      1.343888\n",
              "min        1.000000      0.000000      0.000000\n",
              "25%       23.000000      0.000000      0.000000\n",
              "50%       29.000000      0.000000      1.000000\n",
              "75%       45.000000      1.000000      2.000000\n",
              "max      116.000000      1.000000      4.000000"
            ],
            "text/html": [
              "\n",
              "  <div id=\"df-76d9a4c4-8587-40c8-b0a5-8c54818955d7\" class=\"colab-df-container\">\n",
              "    <div>\n",
              "<style scoped>\n",
              "    .dataframe tbody tr th:only-of-type {\n",
              "        vertical-align: middle;\n",
              "    }\n",
              "\n",
              "    .dataframe tbody tr th {\n",
              "        vertical-align: top;\n",
              "    }\n",
              "\n",
              "    .dataframe thead th {\n",
              "        text-align: right;\n",
              "    }\n",
              "</style>\n",
              "<table border=\"1\" class=\"dataframe\">\n",
              "  <thead>\n",
              "    <tr style=\"text-align: right;\">\n",
              "      <th></th>\n",
              "      <th>Age</th>\n",
              "      <th>Gender</th>\n",
              "      <th>Ethnicity</th>\n",
              "    </tr>\n",
              "  </thead>\n",
              "  <tbody>\n",
              "    <tr>\n",
              "      <th>count</th>\n",
              "      <td>24101.000000</td>\n",
              "      <td>24101.000000</td>\n",
              "      <td>24101.000000</td>\n",
              "    </tr>\n",
              "    <tr>\n",
              "      <th>mean</th>\n",
              "      <td>33.042156</td>\n",
              "      <td>0.478030</td>\n",
              "      <td>1.271731</td>\n",
              "    </tr>\n",
              "    <tr>\n",
              "      <th>std</th>\n",
              "      <td>20.139284</td>\n",
              "      <td>0.499527</td>\n",
              "      <td>1.343888</td>\n",
              "    </tr>\n",
              "    <tr>\n",
              "      <th>min</th>\n",
              "      <td>1.000000</td>\n",
              "      <td>0.000000</td>\n",
              "      <td>0.000000</td>\n",
              "    </tr>\n",
              "    <tr>\n",
              "      <th>25%</th>\n",
              "      <td>23.000000</td>\n",
              "      <td>0.000000</td>\n",
              "      <td>0.000000</td>\n",
              "    </tr>\n",
              "    <tr>\n",
              "      <th>50%</th>\n",
              "      <td>29.000000</td>\n",
              "      <td>0.000000</td>\n",
              "      <td>1.000000</td>\n",
              "    </tr>\n",
              "    <tr>\n",
              "      <th>75%</th>\n",
              "      <td>45.000000</td>\n",
              "      <td>1.000000</td>\n",
              "      <td>2.000000</td>\n",
              "    </tr>\n",
              "    <tr>\n",
              "      <th>max</th>\n",
              "      <td>116.000000</td>\n",
              "      <td>1.000000</td>\n",
              "      <td>4.000000</td>\n",
              "    </tr>\n",
              "  </tbody>\n",
              "</table>\n",
              "</div>\n",
              "    <div class=\"colab-df-buttons\">\n",
              "\n",
              "  <div class=\"colab-df-container\">\n",
              "    <button class=\"colab-df-convert\" onclick=\"convertToInteractive('df-76d9a4c4-8587-40c8-b0a5-8c54818955d7')\"\n",
              "            title=\"Convert this dataframe to an interactive table.\"\n",
              "            style=\"display:none;\">\n",
              "\n",
              "  <svg xmlns=\"http://www.w3.org/2000/svg\" height=\"24px\" viewBox=\"0 -960 960 960\">\n",
              "    <path d=\"M120-120v-720h720v720H120Zm60-500h600v-160H180v160Zm220 220h160v-160H400v160Zm0 220h160v-160H400v160ZM180-400h160v-160H180v160Zm440 0h160v-160H620v160ZM180-180h160v-160H180v160Zm440 0h160v-160H620v160Z\"/>\n",
              "  </svg>\n",
              "    </button>\n",
              "\n",
              "  <style>\n",
              "    .colab-df-container {\n",
              "      display:flex;\n",
              "      gap: 12px;\n",
              "    }\n",
              "\n",
              "    .colab-df-convert {\n",
              "      background-color: #E8F0FE;\n",
              "      border: none;\n",
              "      border-radius: 50%;\n",
              "      cursor: pointer;\n",
              "      display: none;\n",
              "      fill: #1967D2;\n",
              "      height: 32px;\n",
              "      padding: 0 0 0 0;\n",
              "      width: 32px;\n",
              "    }\n",
              "\n",
              "    .colab-df-convert:hover {\n",
              "      background-color: #E2EBFA;\n",
              "      box-shadow: 0px 1px 2px rgba(60, 64, 67, 0.3), 0px 1px 3px 1px rgba(60, 64, 67, 0.15);\n",
              "      fill: #174EA6;\n",
              "    }\n",
              "\n",
              "    .colab-df-buttons div {\n",
              "      margin-bottom: 4px;\n",
              "    }\n",
              "\n",
              "    [theme=dark] .colab-df-convert {\n",
              "      background-color: #3B4455;\n",
              "      fill: #D2E3FC;\n",
              "    }\n",
              "\n",
              "    [theme=dark] .colab-df-convert:hover {\n",
              "      background-color: #434B5C;\n",
              "      box-shadow: 0px 1px 3px 1px rgba(0, 0, 0, 0.15);\n",
              "      filter: drop-shadow(0px 1px 2px rgba(0, 0, 0, 0.3));\n",
              "      fill: #FFFFFF;\n",
              "    }\n",
              "  </style>\n",
              "\n",
              "    <script>\n",
              "      const buttonEl =\n",
              "        document.querySelector('#df-76d9a4c4-8587-40c8-b0a5-8c54818955d7 button.colab-df-convert');\n",
              "      buttonEl.style.display =\n",
              "        google.colab.kernel.accessAllowed ? 'block' : 'none';\n",
              "\n",
              "      async function convertToInteractive(key) {\n",
              "        const element = document.querySelector('#df-76d9a4c4-8587-40c8-b0a5-8c54818955d7');\n",
              "        const dataTable =\n",
              "          await google.colab.kernel.invokeFunction('convertToInteractive',\n",
              "                                                    [key], {});\n",
              "        if (!dataTable) return;\n",
              "\n",
              "        const docLinkHtml = 'Like what you see? Visit the ' +\n",
              "          '<a target=\"_blank\" href=https://colab.research.google.com/notebooks/data_table.ipynb>data table notebook</a>'\n",
              "          + ' to learn more about interactive tables.';\n",
              "        element.innerHTML = '';\n",
              "        dataTable['output_type'] = 'display_data';\n",
              "        await google.colab.output.renderOutput(dataTable, element);\n",
              "        const docLink = document.createElement('div');\n",
              "        docLink.innerHTML = docLinkHtml;\n",
              "        element.appendChild(docLink);\n",
              "      }\n",
              "    </script>\n",
              "  </div>\n",
              "\n",
              "\n",
              "<div id=\"df-e49c0d3e-5482-4480-a21e-15da42011c78\">\n",
              "  <button class=\"colab-df-quickchart\" onclick=\"quickchart('df-e49c0d3e-5482-4480-a21e-15da42011c78')\"\n",
              "            title=\"Suggest charts\"\n",
              "            style=\"display:none;\">\n",
              "\n",
              "<svg xmlns=\"http://www.w3.org/2000/svg\" height=\"24px\"viewBox=\"0 0 24 24\"\n",
              "     width=\"24px\">\n",
              "    <g>\n",
              "        <path d=\"M19 3H5c-1.1 0-2 .9-2 2v14c0 1.1.9 2 2 2h14c1.1 0 2-.9 2-2V5c0-1.1-.9-2-2-2zM9 17H7v-7h2v7zm4 0h-2V7h2v10zm4 0h-2v-4h2v4z\"/>\n",
              "    </g>\n",
              "</svg>\n",
              "  </button>\n",
              "\n",
              "<style>\n",
              "  .colab-df-quickchart {\n",
              "      --bg-color: #E8F0FE;\n",
              "      --fill-color: #1967D2;\n",
              "      --hover-bg-color: #E2EBFA;\n",
              "      --hover-fill-color: #174EA6;\n",
              "      --disabled-fill-color: #AAA;\n",
              "      --disabled-bg-color: #DDD;\n",
              "  }\n",
              "\n",
              "  [theme=dark] .colab-df-quickchart {\n",
              "      --bg-color: #3B4455;\n",
              "      --fill-color: #D2E3FC;\n",
              "      --hover-bg-color: #434B5C;\n",
              "      --hover-fill-color: #FFFFFF;\n",
              "      --disabled-bg-color: #3B4455;\n",
              "      --disabled-fill-color: #666;\n",
              "  }\n",
              "\n",
              "  .colab-df-quickchart {\n",
              "    background-color: var(--bg-color);\n",
              "    border: none;\n",
              "    border-radius: 50%;\n",
              "    cursor: pointer;\n",
              "    display: none;\n",
              "    fill: var(--fill-color);\n",
              "    height: 32px;\n",
              "    padding: 0;\n",
              "    width: 32px;\n",
              "  }\n",
              "\n",
              "  .colab-df-quickchart:hover {\n",
              "    background-color: var(--hover-bg-color);\n",
              "    box-shadow: 0 1px 2px rgba(60, 64, 67, 0.3), 0 1px 3px 1px rgba(60, 64, 67, 0.15);\n",
              "    fill: var(--button-hover-fill-color);\n",
              "  }\n",
              "\n",
              "  .colab-df-quickchart-complete:disabled,\n",
              "  .colab-df-quickchart-complete:disabled:hover {\n",
              "    background-color: var(--disabled-bg-color);\n",
              "    fill: var(--disabled-fill-color);\n",
              "    box-shadow: none;\n",
              "  }\n",
              "\n",
              "  .colab-df-spinner {\n",
              "    border: 2px solid var(--fill-color);\n",
              "    border-color: transparent;\n",
              "    border-bottom-color: var(--fill-color);\n",
              "    animation:\n",
              "      spin 1s steps(1) infinite;\n",
              "  }\n",
              "\n",
              "  @keyframes spin {\n",
              "    0% {\n",
              "      border-color: transparent;\n",
              "      border-bottom-color: var(--fill-color);\n",
              "      border-left-color: var(--fill-color);\n",
              "    }\n",
              "    20% {\n",
              "      border-color: transparent;\n",
              "      border-left-color: var(--fill-color);\n",
              "      border-top-color: var(--fill-color);\n",
              "    }\n",
              "    30% {\n",
              "      border-color: transparent;\n",
              "      border-left-color: var(--fill-color);\n",
              "      border-top-color: var(--fill-color);\n",
              "      border-right-color: var(--fill-color);\n",
              "    }\n",
              "    40% {\n",
              "      border-color: transparent;\n",
              "      border-right-color: var(--fill-color);\n",
              "      border-top-color: var(--fill-color);\n",
              "    }\n",
              "    60% {\n",
              "      border-color: transparent;\n",
              "      border-right-color: var(--fill-color);\n",
              "    }\n",
              "    80% {\n",
              "      border-color: transparent;\n",
              "      border-right-color: var(--fill-color);\n",
              "      border-bottom-color: var(--fill-color);\n",
              "    }\n",
              "    90% {\n",
              "      border-color: transparent;\n",
              "      border-bottom-color: var(--fill-color);\n",
              "    }\n",
              "  }\n",
              "</style>\n",
              "\n",
              "  <script>\n",
              "    async function quickchart(key) {\n",
              "      const quickchartButtonEl =\n",
              "        document.querySelector('#' + key + ' button');\n",
              "      quickchartButtonEl.disabled = true;  // To prevent multiple clicks.\n",
              "      quickchartButtonEl.classList.add('colab-df-spinner');\n",
              "      try {\n",
              "        const charts = await google.colab.kernel.invokeFunction(\n",
              "            'suggestCharts', [key], {});\n",
              "      } catch (error) {\n",
              "        console.error('Error during call to suggestCharts:', error);\n",
              "      }\n",
              "      quickchartButtonEl.classList.remove('colab-df-spinner');\n",
              "      quickchartButtonEl.classList.add('colab-df-quickchart-complete');\n",
              "    }\n",
              "    (() => {\n",
              "      let quickchartButtonEl =\n",
              "        document.querySelector('#df-e49c0d3e-5482-4480-a21e-15da42011c78 button');\n",
              "      quickchartButtonEl.style.display =\n",
              "        google.colab.kernel.accessAllowed ? 'block' : 'none';\n",
              "    })();\n",
              "  </script>\n",
              "</div>\n",
              "\n",
              "    </div>\n",
              "  </div>\n"
            ],
            "application/vnd.google.colaboratory.intrinsic+json": {
              "type": "dataframe",
              "summary": "{\n  \"name\": \"# I should maybe also discuss whether 116 is an outlier\",\n  \"rows\": 8,\n  \"fields\": [\n    {\n      \"column\": \"Age\",\n      \"properties\": {\n        \"dtype\": \"number\",\n        \"std\": 8507.56400454153,\n        \"min\": 1.0,\n        \"max\": 24101.0,\n        \"num_unique_values\": 8,\n        \"samples\": [\n          33.04215592713995,\n          29.0,\n          24101.0\n        ],\n        \"semantic_type\": \"\",\n        \"description\": \"\"\n      }\n    },\n    {\n      \"column\": \"Gender\",\n      \"properties\": {\n        \"dtype\": \"number\",\n        \"std\": 8520.839887484744,\n        \"min\": 0.0,\n        \"max\": 24101.0,\n        \"num_unique_values\": 5,\n        \"samples\": [\n          0.4780299572631841,\n          1.0,\n          0.4995274473317707\n        ],\n        \"semantic_type\": \"\",\n        \"description\": \"\"\n      }\n    },\n    {\n      \"column\": \"Ethnicity\",\n      \"properties\": {\n        \"dtype\": \"number\",\n        \"std\": 8520.504698589035,\n        \"min\": 0.0,\n        \"max\": 24101.0,\n        \"num_unique_values\": 7,\n        \"samples\": [\n          24101.0,\n          1.271731463424754,\n          2.0\n        ],\n        \"semantic_type\": \"\",\n        \"description\": \"\"\n      }\n    }\n  ]\n}"
            }
          },
          "metadata": {},
          "execution_count": 12
        }
      ]
    },
    {
      "cell_type": "code",
      "source": [
        "# Look at the categorical variables.\n",
        "\n",
        "# First Ethnicity\n",
        "sns.countplot(data=df, x ='Ethnicity', hue ='Ethnicity')\n",
        "\n",
        "# There are way more white people than any other Ethnicity"
      ],
      "metadata": {
        "id": "-FU30_bOVdfb",
        "outputId": "97c742f5-bec4-4dfd-ca75-8df6907aec55",
        "colab": {
          "base_uri": "https://localhost:8080/",
          "height": 466
        }
      },
      "execution_count": 14,
      "outputs": [
        {
          "output_type": "execute_result",
          "data": {
            "text/plain": [
              "<Axes: xlabel='Ethnicity', ylabel='count'>"
            ]
          },
          "metadata": {},
          "execution_count": 14
        },
        {
          "output_type": "display_data",
          "data": {
            "text/plain": [
              "<Figure size 640x480 with 1 Axes>"
            ],
            "image/png": "[encoded data removed]"
          },
          "metadata": {}
        }
      ]
    },
    {
      "cell_type": "code",
      "source": [
        "# Then gender distribution is almost perfectly 50/50\n",
        "sns.countplot(data=df, x ='Gender', hue ='Gender')"
      ],
      "metadata": {
        "id": "pl-Ep8tFVpg0",
        "outputId": "3e86c6a5-5165-4ceb-fae1-3601d5c5c83e",
        "colab": {
          "base_uri": "https://localhost:8080/",
          "height": 466
        }
      },
      "execution_count": 16,
      "outputs": [
        {
          "output_type": "execute_result",
          "data": {
            "text/plain": [
              "<Axes: xlabel='Gender', ylabel='count'>"
            ]
          },
          "metadata": {},
          "execution_count": 16
        },
        {
          "output_type": "display_data",
          "data": {
            "text/plain": [
              "<Figure size 640x480 with 1 Axes>"
            ],
            "image/png": "[encoded data removed]"
          },
          "metadata": {}
        }
      ]
    },
    {
      "cell_type": "code",
      "source": [
        "# Plot of the age for all observations:\n",
        "sns.kdeplot(data=df, x='Age')\n",
        "\n",
        "# It may be a bit problematic, there is only a few of the observations which is around the threshold\n",
        "# between 15-20 which is where we will have our cut off."
      ],
      "metadata": {
        "id": "mWNZKEdKV5UZ",
        "outputId": "49004dd5-d88c-49c8-e0ed-1d05b3562178",
        "colab": {
          "base_uri": "https://localhost:8080/",
          "height": 466
        }
      },
      "execution_count": 18,
      "outputs": [
        {
          "output_type": "execute_result",
          "data": {
            "text/plain": [
              "<Axes: xlabel='Age', ylabel='Density'>"
            ]
          },
          "metadata": {},
          "execution_count": 18
        },
        {
          "output_type": "display_data",
          "data": {
            "text/plain": [
              "<Figure size 640x480 with 1 Axes>"
            ],
            "image/png": "[encoded data removed]"
          },
          "metadata": {}
        }
      ]
    },
    {
      "cell_type": "code",
      "source": [
        "# Plot age for the etnicity to tell if it is the same acroos all etnicities\n",
        "sns.kdeplot(data=df, x='Age', hue='Ethnicity')\n",
        "\n",
        "# We see that the distribution of age throughout the classes are almost the same with the exeption\n",
        "# of 0 which have more peoepl between 15-20 as well as 60-65"
      ],
      "metadata": {
        "id": "zl7KOOxYV98o",
        "outputId": "91a7b779-be17-4c51-b090-fffc0c9f9396",
        "colab": {
          "base_uri": "https://localhost:8080/",
          "height": 466
        }
      },
      "execution_count": 20,
      "outputs": [
        {
          "output_type": "execute_result",
          "data": {
            "text/plain": [
              "<Axes: xlabel='Age', ylabel='Density'>"
            ]
          },
          "metadata": {},
          "execution_count": 20
        },
        {
          "output_type": "display_data",
          "data": {
            "text/plain": [
              "<Figure size 640x480 with 1 Axes>"
            ],
            "image/png": "[encoded data removed]"
          },
          "metadata": {}
        }
      ]
    },
    {
      "cell_type": "markdown",
      "metadata": {
        "id": "acZdxl5IhQKO"
      },
      "source": [
        "# Preprocessing for a sub part of the data."
      ]
    },
    {
      "cell_type": "code",
      "source": [
        "# Convert your labels to numpy arrays\n",
        "ages_array = np.array(ages)\n",
        "genders_array = np.array(genders)\n",
        "ethnicities_array = np.array(ethnicities)\n",
        "images_array = np.array(images)\n",
        "\n",
        "# Select subset of data\n",
        "images_subset = images_array[:2000]\n",
        "ages_subset = ages_array[:2000]\n",
        "genders_subset = genders_array[:2000]\n",
        "ethnicities_subset = ethnicities_array[:2000]\n",
        "\n",
        "# Normalize\n",
        "images_subset = images_subset /255.0"
      ],
      "metadata": {
        "id": "z7UlYBztkADt"
      },
      "execution_count": null,
      "outputs": []
    },
    {
      "cell_type": "code",
      "execution_count": null,
      "metadata": {
        "id": "vqPFPy_khSV-"
      },
      "outputs": [],
      "source": [
        "from sklearn.model_selection import train_test_split\n",
        "x_train, x_test, y_train, y_test = train_test_split(images_subset, ages_subset, test_size=0.2,shuffle  = True)"
      ]
    },
    {
      "cell_type": "markdown",
      "source": [
        "#Example 1 -- Small homemade model"
      ],
      "metadata": {
        "id": "JHpzoFzjzX0E"
      }
    },
    {
      "cell_type": "code",
      "source": [
        "from keras.models import Sequential\n",
        "from keras.layers import Conv2D, MaxPooling2D, Flatten, Dense, Input\n",
        "\n",
        "# Building the Sequential model\n",
        "model = Sequential()\n",
        "\n",
        "# Adding the Input layer explicitly with shape (224, 224, 3)\n",
        "model.add(Input(shape=(224, 224, 3)))\n",
        "\n",
        "# Convolutional layers with ReLU activation and MaxPooling\n",
        "model.add(Conv2D(32, (3, 3), activation='relu'))\n",
        "model.add(MaxPooling2D(pool_size=(2, 2)))\n",
        "\n",
        "# Flattening the output before feeding into Dense layers\n",
        "model.add(Flatten())\n",
        "\n",
        "# Dense layer with 64 units and ReLU activation\n",
        "model.add(Dense(64, activation='relu'))\n",
        "\n",
        "# Output layer for regression (1 output for age)\n",
        "model.add(Dense(1))  # No activation or linear (default for regression)\n",
        "\n",
        "# Compile the model with mean_squared_error loss function and Adam optimizer\n",
        "model.compile(optimizer='adam', loss='mean_squared_error', metrics=['mean_absolute_error'])\n",
        "\n",
        "# Train the model\n",
        "model.fit(x_train, y_train, epochs=10, batch_size=32,validation_data=(x_test,y_test))"
      ],
      "metadata": {
        "colab": {
          "base_uri": "https://localhost:8080/"
        },
        "id": "GCsJjkW9iX6y",
        "outputId": "66c4a286-8206-4e52-901b-694cbafb070d"
      },
      "execution_count": null,
      "outputs": [
        {
          "output_type": "stream",
          "name": "stdout",
          "text": [
            "Epoch 1/10\n",
            "50/50 [==============================] - 14s 261ms/step - loss: 1037.0350 - mean_absolute_error: 25.4156 - val_loss: 762.1317 - val_mean_absolute_error: 21.9873\n",
            "Epoch 2/10\n",
            "50/50 [==============================] - 13s 251ms/step - loss: 629.4100 - mean_absolute_error: 20.7675 - val_loss: 648.0220 - val_mean_absolute_error: 20.4149\n",
            "Epoch 3/10\n",
            "50/50 [==============================] - 13s 255ms/step - loss: 546.7781 - mean_absolute_error: 19.0382 - val_loss: 599.4694 - val_mean_absolute_error: 20.6011\n",
            "Epoch 4/10\n",
            "50/50 [==============================] - 13s 254ms/step - loss: 489.9562 - mean_absolute_error: 18.1018 - val_loss: 565.5044 - val_mean_absolute_error: 19.1698\n",
            "Epoch 5/10\n",
            "50/50 [==============================] - 13s 252ms/step - loss: 472.8340 - mean_absolute_error: 17.6083 - val_loss: 565.7286 - val_mean_absolute_error: 19.0844\n",
            "Epoch 6/10\n",
            "50/50 [==============================] - 13s 253ms/step - loss: 438.2677 - mean_absolute_error: 16.7424 - val_loss: 571.0479 - val_mean_absolute_error: 20.1714\n",
            "Epoch 7/10\n",
            "50/50 [==============================] - 13s 253ms/step - loss: 421.9225 - mean_absolute_error: 16.4364 - val_loss: 553.9292 - val_mean_absolute_error: 19.5237\n",
            "Epoch 8/10\n",
            "50/50 [==============================] - 13s 251ms/step - loss: 373.1039 - mean_absolute_error: 15.4424 - val_loss: 541.1142 - val_mean_absolute_error: 18.5900\n",
            "Epoch 9/10\n",
            "50/50 [==============================] - 13s 253ms/step - loss: 367.6318 - mean_absolute_error: 15.2489 - val_loss: 550.4237 - val_mean_absolute_error: 18.5442\n",
            "Epoch 10/10\n",
            "50/50 [==============================] - 13s 253ms/step - loss: 347.2715 - mean_absolute_error: 14.6832 - val_loss: 567.0654 - val_mean_absolute_error: 18.5213\n"
          ]
        },
        {
          "output_type": "execute_result",
          "data": {
            "text/plain": [
              "<keras.src.callbacks.History at 0x790c402a59c0>"
            ]
          },
          "metadata": {},
          "execution_count": 25
        }
      ]
    },
    {
      "cell_type": "markdown",
      "source": [
        "#Example 2 -- Slightly larger homemade model"
      ],
      "metadata": {
        "id": "AXa0hFSDzc57"
      }
    },
    {
      "cell_type": "code",
      "source": [
        "import keras\n",
        "from keras import layers, models  # Import the required modules\n",
        "\n",
        "# Input layer\n",
        "inputs = keras.Input(shape=(224, 224, 3))\n",
        "\n",
        "x = layers.Rescaling(1./255)(inputs)\n",
        "# First Convolutional Block\n",
        "x = layers.Conv2D(32, (3, 3), activation='relu')(x)\n",
        "x = layers.MaxPooling2D((2, 2))(x)\n",
        "\n",
        "# Second Convolutional Block\n",
        "x = layers.Conv2D(64, (3, 3), activation='relu')(x)\n",
        "x = layers.MaxPooling2D((2, 2))(x)\n",
        "\n",
        "# Third Convolutional Block\n",
        "x = layers.Conv2D(128, (3, 3), activation='relu')(x)\n",
        "x = layers.MaxPooling2D((2, 2))(x)\n",
        "\n",
        "# Flatten and Dense Layers\n",
        "x = layers.Flatten()(x)\n",
        "x = layers.Dense(64, activation='relu')(x)\n",
        "outputs = layers.Dense(1, activation='relu')(x)  # 10 classes in CIFAR-10\n",
        "\n",
        "# Model creation\n",
        "model = models.Model(inputs=inputs, outputs=outputs)\n",
        "\n",
        "# Display model summary\n",
        "model.summary()\n"
      ],
      "metadata": {
        "id": "YApi-5sB0SxP",
        "colab": {
          "base_uri": "https://localhost:8080/"
        },
        "outputId": "baa0077b-b530-4fba-88d7-63ea02f3c0d8"
      },
      "execution_count": null,
      "outputs": [
        {
          "output_type": "stream",
          "name": "stdout",
          "text": [
            "Model: \"model\"\n",
            "_________________________________________________________________\n",
            " Layer (type)                Output Shape              Param #   \n",
            "=================================================================\n",
            " input_3 (InputLayer)        [(None, 224, 224, 3)]     0         \n",
            "                                                                 \n",
            " rescaling (Rescaling)       (None, 224, 224, 3)       0         \n",
            "                                                                 \n",
            " conv2d_2 (Conv2D)           (None, 222, 222, 32)      896       \n",
            "                                                                 \n",
            " max_pooling2d_2 (MaxPoolin  (None, 111, 111, 32)      0         \n",
            " g2D)                                                            \n",
            "                                                                 \n",
            " conv2d_3 (Conv2D)           (None, 109, 109, 64)      18496     \n",
            "                                                                 \n",
            " max_pooling2d_3 (MaxPoolin  (None, 54, 54, 64)        0         \n",
            " g2D)                                                            \n",
            "                                                                 \n",
            " conv2d_4 (Conv2D)           (None, 52, 52, 128)       73856     \n",
            "                                                                 \n",
            " max_pooling2d_4 (MaxPoolin  (None, 26, 26, 128)       0         \n",
            " g2D)                                                            \n",
            "                                                                 \n",
            " flatten_2 (Flatten)         (None, 86528)             0         \n",
            "                                                                 \n",
            " dense_4 (Dense)             (None, 64)                5537856   \n",
            "                                                                 \n",
            " dense_5 (Dense)             (None, 1)                 65        \n",
            "                                                                 \n",
            "=================================================================\n",
            "Total params: 5631169 (21.48 MB)\n",
            "Trainable params: 5631169 (21.48 MB)\n",
            "Non-trainable params: 0 (0.00 Byte)\n",
            "_________________________________________________________________\n"
          ]
        }
      ]
    },
    {
      "cell_type": "code",
      "source": [
        "model.compile(optimizer='adam',\n",
        "              loss='mae',\n",
        "              metrics=['mae'])\n",
        "\n",
        "\n",
        "# Now you can train your model\n",
        "history = model.fit(x_train, y_train, epochs=10,\n",
        "                    batch_size=32,\n",
        "                    validation_data = (x_test, y_test))\n",
        "\n",
        "history = model.fit(x_train, y_train, epochs=10,\n",
        "                    validation_data = (x_test, y_test))"
      ],
      "metadata": {
        "id": "r-uWqRqg31oF",
        "colab": {
          "base_uri": "https://localhost:8080/"
        },
        "outputId": "d1ca6e78-3e48-4a46-b55e-de50a6d43077"
      },
      "execution_count": null,
      "outputs": [
        {
          "output_type": "stream",
          "name": "stdout",
          "text": [
            "Epoch 1/10\n",
            "50/50 [==============================] - 22s 425ms/step - loss: 22.1879 - mae: 22.1879 - val_loss: 21.2383 - val_mae: 21.2383\n",
            "Epoch 2/10\n",
            "50/50 [==============================] - 21s 412ms/step - loss: 20.8519 - mae: 20.8519 - val_loss: 20.7659 - val_mae: 20.7659\n",
            "Epoch 3/10\n",
            "50/50 [==============================] - 20s 405ms/step - loss: 20.5604 - mae: 20.5604 - val_loss: 19.6273 - val_mae: 19.6273\n",
            "Epoch 4/10\n",
            "50/50 [==============================] - 20s 404ms/step - loss: 20.1753 - mae: 20.1753 - val_loss: 18.7297 - val_mae: 18.7297\n",
            "Epoch 5/10\n",
            "50/50 [==============================] - 20s 404ms/step - loss: 19.1903 - mae: 19.1903 - val_loss: 18.0645 - val_mae: 18.0645\n",
            "Epoch 6/10\n",
            "50/50 [==============================] - 20s 402ms/step - loss: 19.2341 - mae: 19.2341 - val_loss: 18.5726 - val_mae: 18.5726\n",
            "Epoch 7/10\n",
            "50/50 [==============================] - 20s 399ms/step - loss: 19.3065 - mae: 19.3065 - val_loss: 18.0503 - val_mae: 18.0503\n",
            "Epoch 8/10\n",
            "50/50 [==============================] - 20s 399ms/step - loss: 18.8250 - mae: 18.8250 - val_loss: 18.1753 - val_mae: 18.1753\n",
            "Epoch 9/10\n",
            "50/50 [==============================] - 20s 394ms/step - loss: 18.7430 - mae: 18.7430 - val_loss: 17.5218 - val_mae: 17.5218\n",
            "Epoch 10/10\n",
            "50/50 [==============================] - 20s 398ms/step - loss: 18.5437 - mae: 18.5437 - val_loss: 19.9005 - val_mae: 19.9005\n",
            "Epoch 1/10\n",
            "50/50 [==============================] - 20s 406ms/step - loss: 18.5664 - mae: 18.5664 - val_loss: 17.8624 - val_mae: 17.8624\n",
            "Epoch 2/10\n",
            "50/50 [==============================] - 20s 397ms/step - loss: 18.3491 - mae: 18.3491 - val_loss: 17.8229 - val_mae: 17.8229\n",
            "Epoch 3/10\n",
            "50/50 [==============================] - 20s 397ms/step - loss: 18.3653 - mae: 18.3653 - val_loss: 17.6224 - val_mae: 17.6224\n",
            "Epoch 4/10\n",
            "50/50 [==============================] - 20s 397ms/step - loss: 18.0820 - mae: 18.0820 - val_loss: 17.2428 - val_mae: 17.2428\n",
            "Epoch 5/10\n",
            "50/50 [==============================] - 20s 398ms/step - loss: 18.1019 - mae: 18.1019 - val_loss: 17.1798 - val_mae: 17.1798\n",
            "Epoch 6/10\n",
            "50/50 [==============================] - 20s 398ms/step - loss: 17.6523 - mae: 17.6523 - val_loss: 17.1053 - val_mae: 17.1053\n",
            "Epoch 7/10\n",
            "50/50 [==============================] - 20s 398ms/step - loss: 17.3887 - mae: 17.3887 - val_loss: 17.0776 - val_mae: 17.0776\n",
            "Epoch 8/10\n",
            "50/50 [==============================] - 20s 398ms/step - loss: 17.1915 - mae: 17.1915 - val_loss: 17.1553 - val_mae: 17.1553\n",
            "Epoch 9/10\n",
            "50/50 [==============================] - 20s 400ms/step - loss: 16.8128 - mae: 16.8128 - val_loss: 16.9228 - val_mae: 16.9228\n",
            "Epoch 10/10\n",
            "50/50 [==============================] - 20s 396ms/step - loss: 17.9757 - mae: 17.9757 - val_loss: 16.6420 - val_mae: 16.6420\n"
          ]
        }
      ]
    },
    {
      "cell_type": "markdown",
      "metadata": {
        "id": "hS-U6wkqfvoW"
      },
      "source": [
        "# Transfer learning with inceptionV3"
      ]
    },
    {
      "cell_type": "code",
      "execution_count": null,
      "metadata": {
        "id": "V4FzPUejggWu"
      },
      "outputs": [],
      "source": [
        "from keras import layers\n",
        "import numpy as np\n",
        "import pandas as pd\n",
        "import os\n",
        "import cv2\n",
        "import matplotlib.pyplot as plt\n",
        "import keras\n",
        "from keras.layers import *\n",
        "from keras.models import *\n",
        "from keras import backend as K\n",
        "from keras.applications import InceptionV3\n",
        "from sklearn.metrics import confusion_matrix, ConfusionMatrixDisplay"
      ]
    },
    {
      "cell_type": "code",
      "execution_count": null,
      "metadata": {
        "id": "MP_5Kk0cfxaM"
      },
      "outputs": [],
      "source": [
        "conv_base = keras.applications.InceptionV3(\n",
        "    include_top=False,  # Exclude the top fully connected layers\n",
        "    weights=\"imagenet\"  # Load pre-trained ImageNet weights\n",
        ")\n",
        "\n",
        "conv_base.trainable = False  # Freeze the pre-trained layers\n"
      ]
    },
    {
      "cell_type": "code",
      "execution_count": null,
      "metadata": {
        "colab": {
          "base_uri": "https://localhost:8080/"
        },
        "id": "V6bk9G0rgr1h",
        "outputId": "3272e91b-d04a-4d86-d316-b5483351b5d4"
      },
      "outputs": [
        {
          "output_type": "stream",
          "name": "stdout",
          "text": [
            "Model: \"model_2\"\n",
            "_________________________________________________________________\n",
            " Layer (type)                Output Shape              Param #   \n",
            "=================================================================\n",
            " input_8 (InputLayer)        [(None, 224, 224, 3)]     0         \n",
            "                                                                 \n",
            " tf.math.truediv_1 (TFOpLam  (None, 224, 224, 3)       0         \n",
            " bda)                                                            \n",
            "                                                                 \n",
            " tf.math.subtract_1 (TFOpLa  (None, 224, 224, 3)       0         \n",
            " mbda)                                                           \n",
            "                                                                 \n",
            " inception_v3 (Functional)   (None, None, None, 2048   21802784  \n",
            "                             )                                   \n",
            "                                                                 \n",
            " flatten_5 (Flatten)         (None, 51200)             0         \n",
            "                                                                 \n",
            " dense_11 (Dense)            (None, 512)               26214912  \n",
            "                                                                 \n",
            " dense_12 (Dense)            (None, 512)               262656    \n",
            "                                                                 \n",
            " dropout_1 (Dropout)         (None, 512)               0         \n",
            "                                                                 \n",
            " dense_13 (Dense)            (None, 1)                 513       \n",
            "                                                                 \n",
            "=================================================================\n",
            "Total params: 48280865 (184.18 MB)\n",
            "Trainable params: 26478081 (101.01 MB)\n",
            "Non-trainable params: 21802784 (83.17 MB)\n",
            "_________________________________________________________________\n"
          ]
        }
      ],
      "source": [
        "inputs = keras.Input(shape=(images[0].shape[0],images[0].shape[1],images[0].shape[2]))\n",
        "x = keras.applications.inception_v3.preprocess_input(inputs)\n",
        "x = conv_base(x)\n",
        "x = layers.Flatten()(x)\n",
        "x = layers.Dense(512, activation=\"relu\")(x)  # Add activation function (e.g., ReLU)\n",
        "x = layers.Dense(512, activation=\"relu\")(x)  # Add activation function (e.g., ReLU)\n",
        "x = layers.Dropout(0.3)(x)  # Increased dropout for better regularization\n",
        "outputs = layers.Dense(1, activation=\"relu\")(x)\n",
        "\n",
        "inception = keras.Model(inputs=inputs, outputs=outputs)\n",
        "inception.summary()\n",
        "\n",
        "\n",
        "# Set custom learning rate for RMSProp optimizer\n",
        "learning_rate = 0.001  # Adjust as needed\n",
        "rmsprop_optimizer = keras.optimizers.RMSprop(learning_rate=learning_rate)\n",
        "\n",
        "inception.compile(loss=\"mae\",\n",
        "                  optimizer=rmsprop_optimizer,\n",
        "                  metrics=[\"mae\"])"
      ]
    },
    {
      "cell_type": "code",
      "execution_count": null,
      "metadata": {
        "colab": {
          "base_uri": "https://localhost:8080/"
        },
        "id": "FslTRdmpjHUw",
        "outputId": "85cd0d88-600a-4a58-95f4-0938b207624a",
        "collapsed": true
      },
      "outputs": [
        {
          "output_type": "stream",
          "name": "stdout",
          "text": [
            "Epoch 1/10\n",
            "50/50 [==============================] - 23s 363ms/step - loss: 30.0381 - mae: 30.0381 - val_loss: 28.6325 - val_mae: 28.6325\n",
            "Epoch 2/10\n",
            "50/50 [==============================] - 16s 324ms/step - loss: 28.6912 - mae: 28.6912 - val_loss: 28.6325 - val_mae: 28.6325\n",
            "Epoch 3/10\n",
            "50/50 [==============================] - 16s 327ms/step - loss: 28.6912 - mae: 28.6912 - val_loss: 28.6325 - val_mae: 28.6325\n",
            "Epoch 4/10\n",
            "50/50 [==============================] - 16s 330ms/step - loss: 28.6912 - mae: 28.6912 - val_loss: 28.6325 - val_mae: 28.6325\n",
            "Epoch 5/10\n",
            "50/50 [==============================] - 16s 323ms/step - loss: 28.6912 - mae: 28.6912 - val_loss: 28.6325 - val_mae: 28.6325\n",
            "Epoch 6/10\n",
            "50/50 [==============================] - 17s 341ms/step - loss: 28.6912 - mae: 28.6912 - val_loss: 28.6325 - val_mae: 28.6325\n",
            "Epoch 7/10\n",
            "50/50 [==============================] - 16s 331ms/step - loss: 28.6912 - mae: 28.6912 - val_loss: 28.6325 - val_mae: 28.6325\n",
            "Epoch 8/10\n",
            "50/50 [==============================] - 16s 330ms/step - loss: 28.6912 - mae: 28.6912 - val_loss: 28.6325 - val_mae: 28.6325\n",
            "Epoch 9/10\n",
            "50/50 [==============================] - 17s 339ms/step - loss: 28.6912 - mae: 28.6912 - val_loss: 28.6325 - val_mae: 28.6325\n",
            "Epoch 10/10\n",
            "50/50 [==============================] - 17s 336ms/step - loss: 28.6912 - mae: 28.6912 - val_loss: 28.6325 - val_mae: 28.6325\n"
          ]
        }
      ],
      "source": [
        "inception_history = inception.fit(\n",
        "    x_train,\n",
        "    y_train,\n",
        "    epochs = 10,\n",
        "    validation_data = (x_test, y_test))"
      ]
    },
    {
      "cell_type": "code",
      "execution_count": null,
      "metadata": {
        "id": "l-9CUeNqjwQa"
      },
      "outputs": [],
      "source": [
        "########## We dont use this as we are predicting numeric. However we might need it for later when we put people into age groups.###################\n",
        "\n",
        "# Get the predicted probabilities\n",
        "y_pred_probs = inception.predict(x_test)\n",
        "\n",
        "# Convert the probabilities to class labels\n",
        "y_pred = np.argmax(y_pred_probs, axis=1)\n",
        "\n",
        "# If y_test is one-hot encoded, convert it back to class labels\n",
        "y_true = np.argmax(y_test, axis=1)\n",
        "\n",
        "# Get confusion matrix\n",
        "# Generate confusion matrix\n",
        "cm = confusion_matrix(y_true, y_pred)\n",
        "\n",
        "# Class names\n",
        "class_names = age_groups.columns\n",
        "\n",
        "# Plot confusion matrix with labels\n",
        "disp = ConfusionMatrixDisplay(confusion_matrix=cm, display_labels=class_names)\n",
        "disp.plot(cmap=plt.cm.Blues)\n",
        "plt.title('Confusion Matrix')\n",
        "plt.xlabel('Predicted Label')\n",
        "plt.ylabel('True Label')\n",
        "plt.show()"
      ]
    },
    {
      "cell_type": "markdown",
      "source": [
        "# Data preprocessing for all data"
      ],
      "metadata": {
        "id": "Bs3Gg73h1FBe"
      }
    },
    {
      "cell_type": "code",
      "source": [
        "# Convert your labels to numpy arrays\n",
        "ages_array = np.array(ages)\n",
        "genders_array = np.array(genders)\n",
        "ethnicities_array = np.array(ethnicities)\n",
        "images_array = np.array(images)\n",
        "\n",
        "# Normalize entire dataset\n",
        "images_array = images_array /255.0"
      ],
      "metadata": {
        "id": "1g94jrRw5UqY"
      },
      "execution_count": null,
      "outputs": []
    },
    {
      "cell_type": "code",
      "source": [
        "# Consistency check --> All appear to be fine\n",
        "print(\"Length of ages_array:\", len(ages_array))\n",
        "print(\"Length of genders_array:\", len(genders_array))\n",
        "print(\"Length of ethnicities_array:\", len(ethnicities_array))\n",
        "print(\"Length of images_array:\", len(images_array))"
      ],
      "metadata": {
        "colab": {
          "base_uri": "https://localhost:8080/"
        },
        "id": "puv0h0JO5e1M",
        "outputId": "665a1e89-10e8-4516-962a-9706217b6e8b"
      },
      "execution_count": null,
      "outputs": [
        {
          "output_type": "stream",
          "name": "stdout",
          "text": [
            "Length of ages_array: 24101\n",
            "Length of genders_array: 24101\n",
            "Length of ethnicities_array: 24101\n",
            "Length of images_array: 24101\n"
          ]
        }
      ]
    },
    {
      "cell_type": "code",
      "source": [
        "# Getting training and test data\n",
        "from sklearn.model_selection import train_test_split\n",
        "x_train, x_test, y_train, y_test = train_test_split(images_array, ages_array, test_size=0.2,shuffle  = True)"
      ],
      "metadata": {
        "id": "hS6psljM-iiM"
      },
      "execution_count": null,
      "outputs": []
    },
    {
      "cell_type": "code",
      "source": [
        "from keras.models import Sequential\n",
        "from keras.layers import Conv2D, MaxPooling2D, Flatten, Dense, Input\n",
        "\n",
        "# Building the Sequential model\n",
        "model = Sequential()\n",
        "\n",
        "# Adding the Input layer explicitly with shape (224, 224, 3)\n",
        "model.add(Input(shape=(224, 224, 3)))\n",
        "\n",
        "# Convolutional layers with ReLU activation and MaxPooling\n",
        "model.add(Conv2D(32, (3, 3), activation='relu'))\n",
        "model.add(MaxPooling2D(pool_size=(2, 2)))\n",
        "\n",
        "# Flattening the output before feeding into Dense layers\n",
        "model.add(Flatten())\n",
        "\n",
        "# Dense layer with 64 units and ReLU activation\n",
        "model.add(Dense(64, activation='relu'))\n",
        "\n",
        "# Output layer for regression (1 output for age)\n",
        "model.add(Dense(1))  # No activation or linear (default for regression)\n",
        "\n",
        "# Compile the model with mean_squared_error loss function and Adam optimizer\n",
        "model.compile(optimizer='adam', loss='mean_squared_error', metrics=['mean_absolute_error'])\n",
        "\n",
        "# Train the model\n",
        "model.fit(x_train, y_train, epochs=10, batch_size=32,validation_data=(x_test,y_test))"
      ],
      "metadata": {
        "colab": {
          "base_uri": "https://localhost:8080/"
        },
        "id": "sTFWq8AL7Lmt",
        "outputId": "23496917-6acb-4824-ea9d-633b3886de95"
      },
      "execution_count": null,
      "outputs": [
        {
          "output_type": "stream",
          "name": "stdout",
          "text": [
            "Epoch 1/10\n",
            "603/603 [==============================] - 161s 266ms/step - loss: 1484.0032 - mean_absolute_error: 32.7710 - val_loss: 1500.4591 - val_mean_absolute_error: 32.9207\n",
            "Epoch 2/10\n",
            "603/603 [==============================] - 155s 257ms/step - loss: 1430.2340 - mean_absolute_error: 32.0559 - val_loss: 1461.9413 - val_mean_absolute_error: 32.3495\n",
            "Epoch 3/10\n",
            "603/603 [==============================] - 153s 254ms/step - loss: 1392.7925 - mean_absolute_error: 31.5148 - val_loss: 1424.2252 - val_mean_absolute_error: 31.8272\n",
            "Epoch 4/10\n",
            "603/603 [==============================] - 153s 254ms/step - loss: 1356.1556 - mean_absolute_error: 30.9919 - val_loss: 1387.3282 - val_mean_absolute_error: 31.3215\n",
            "Epoch 5/10\n",
            "603/603 [==============================] - 154s 256ms/step - loss: 1320.3806 - mean_absolute_error: 30.4932 - val_loss: 1351.3138 - val_mean_absolute_error: 30.8289\n",
            "Epoch 6/10\n",
            "603/603 [==============================] - 156s 259ms/step - loss: 1285.4086 - mean_absolute_error: 30.0024 - val_loss: 1316.0569 - val_mean_absolute_error: 30.3491\n",
            "Epoch 7/10\n",
            "603/603 [==============================] - 155s 258ms/step - loss: 1251.1881 - mean_absolute_error: 29.5231 - val_loss: 1281.5417 - val_mean_absolute_error: 29.8737\n",
            "Epoch 8/10\n",
            "603/603 [==============================] - 156s 259ms/step - loss: 1217.7124 - mean_absolute_error: 29.0524 - val_loss: 1247.7729 - val_mean_absolute_error: 29.4091\n",
            "Epoch 9/10\n",
            "603/603 [==============================] - 156s 259ms/step - loss: 1184.9519 - mean_absolute_error: 28.5903 - val_loss: 1214.6957 - val_mean_absolute_error: 28.9485\n",
            "Epoch 10/10\n",
            "603/603 [==============================] - 155s 257ms/step - loss: 1152.9326 - mean_absolute_error: 28.1354 - val_loss: 1182.3787 - val_mean_absolute_error: 28.4940\n"
          ]
        },
        {
          "output_type": "execute_result",
          "data": {
            "text/plain": [
              "<keras.src.callbacks.History at 0x790c481ce200>"
            ]
          },
          "metadata": {},
          "execution_count": 40
        }
      ]
    },
    {
      "cell_type": "markdown",
      "source": [
        "# Inception full data"
      ],
      "metadata": {
        "id": "KCxK3GEHB8z4"
      }
    },
    {
      "cell_type": "code",
      "source": [
        "conv_base = keras.applications.InceptionV3(\n",
        "    include_top=False,  # Exclude the top fully connected layers\n",
        "    weights=\"imagenet\"  # Load pre-trained ImageNet weights\n",
        ")\n",
        "\n",
        "conv_base.trainable = False  # Freeze the pre-trained layers\n"
      ],
      "metadata": {
        "id": "Kz_jZQv9B-1l"
      },
      "execution_count": null,
      "outputs": []
    },
    {
      "cell_type": "code",
      "source": [
        "inputs = keras.Input(shape=(images[0].shape[0],images[0].shape[1],images[0].shape[2]))\n",
        "x = keras.applications.inception_v3.preprocess_input(inputs)\n",
        "x = conv_base(x)\n",
        "x = layers.Flatten()(x)\n",
        "x = layers.Dense(512, activation=\"relu\")(x)  # Add activation function (e.g., ReLU)\n",
        "x = layers.Dense(512, activation=\"relu\")(x)  # Add activation function (e.g., ReLU)\n",
        "x = layers.Dropout(0.3)(x)  # Increased dropout for better regularization\n",
        "outputs = layers.Dense(1, activation=\"relu\")(x)\n",
        "\n",
        "inception = keras.Model(inputs=inputs, outputs=outputs)\n",
        "inception.summary()\n",
        "\n",
        "\n",
        "# Set custom learning rate for RMSProp optimizer\n",
        "learning_rate = 0.001  # Adjust as needed\n",
        "rmsprop_optimizer = keras.optimizers.RMSprop(learning_rate=learning_rate)\n",
        "\n",
        "inception.compile(loss=\"mae\",\n",
        "                  optimizer=rmsprop_optimizer,\n",
        "                  metrics=[\"mae\"])\n",
        "\n",
        "inception_history = inception.fit(\n",
        "    x_train,\n",
        "    y_train,\n",
        "    epochs = 10,\n",
        "    validation_data = (x_test, y_test))"
      ],
      "metadata": {
        "colab": {
          "base_uri": "https://localhost:8080/"
        },
        "id": "CCCPkOFzB_cl",
        "outputId": "0e7ee524-eab3-4353-fe29-ccc15696e631"
      },
      "execution_count": null,
      "outputs": [
        {
          "output_type": "stream",
          "name": "stdout",
          "text": [
            "Model: \"model_3\"\n",
            "_________________________________________________________________\n",
            " Layer (type)                Output Shape              Param #   \n",
            "=================================================================\n",
            " input_11 (InputLayer)       [(None, 224, 224, 3)]     0         \n",
            "                                                                 \n",
            " tf.math.truediv_2 (TFOpLam  (None, 224, 224, 3)       0         \n",
            " bda)                                                            \n",
            "                                                                 \n",
            " tf.math.subtract_2 (TFOpLa  (None, 224, 224, 3)       0         \n",
            " mbda)                                                           \n",
            "                                                                 \n",
            " inception_v3 (Functional)   (None, None, None, 2048   21802784  \n",
            "                             )                                   \n",
            "                                                                 \n",
            " flatten_7 (Flatten)         (None, 51200)             0         \n",
            "                                                                 \n",
            " dense_16 (Dense)            (None, 512)               26214912  \n",
            "                                                                 \n",
            " dense_17 (Dense)            (None, 512)               262656    \n",
            "                                                                 \n",
            " dropout_2 (Dropout)         (None, 512)               0         \n",
            "                                                                 \n",
            " dense_18 (Dense)            (None, 1)                 513       \n",
            "                                                                 \n",
            "=================================================================\n",
            "Total params: 48280865 (184.18 MB)\n",
            "Trainable params: 26478081 (101.01 MB)\n",
            "Non-trainable params: 21802784 (83.17 MB)\n",
            "_________________________________________________________________\n",
            "Epoch 1/10\n",
            "603/603 [==============================] - 209s 341ms/step - loss: 15.4599 - mae: 15.4599 - val_loss: 14.3231 - val_mae: 14.3231\n",
            "Epoch 2/10\n",
            "488/603 [=======================>......] - ETA: 33s - loss: 14.3120 - mae: 14.3120"
          ]
        }
      ]
    }
  ],
  "metadata": {
    "colab": {
      "provenance": [],
      "include_colab_link": true
    },
    "kernelspec": {
      "display_name": "Python 3",
      "name": "python3"
    },
    "language_info": {
      "name": "python"
    }
  },
  "nbformat": 4,
  "nbformat_minor": 0
}