{
  "cells": [
    {
      "cell_type": "markdown",
      "metadata": {
        "id": "Gklqcqz1-beW"
      },
      "source": [
        "[![Open In Colab](https://colab.research.google.com/assets/colab-badge.svg)](https://colab.research.google.com/github/mortgad/DLVR/blob/main/test.ipynb)"
      ]
    },
    {
      "cell_type": "code",
      "source": [
        "!git clone https://github.com/mortgad/DLVR.git\n",
        "%cd DLVR\n",
        "!pwd"
      ],
      "metadata": {
        "id": "wlu1u_cV-tHk",
        "outputId": "63ac90d9-66f6-44b0-b185-8000e8a91ea6",
        "colab": {
          "base_uri": "https://localhost:8080/"
        }
      },
      "execution_count": 6,
      "outputs": [
        {
          "output_type": "stream",
          "name": "stdout",
          "text": [
            "Cloning into 'DLVR'...\n",
            "remote: Enumerating objects: 47, done.\u001b[K\n",
            "remote: Counting objects: 100% (47/47), done.\u001b[K\n",
            "remote: Compressing objects: 100% (39/39), done.\u001b[K\n",
            "remote: Total 47 (delta 19), reused 14 (delta 5), pack-reused 0 (from 0)\u001b[K\n",
            "Receiving objects: 100% (47/47), 379.39 KiB | 5.27 MiB/s, done.\n",
            "Resolving deltas: 100% (19/19), done.\n",
            "/content/DLVR/DLVR\n",
            "/content/DLVR/DLVR\n"
          ]
        }
      ]
    },
    {
      "cell_type": "code",
      "execution_count": 8,
      "metadata": {
        "id": "HMAjCB2b2H8Q",
        "outputId": "508dcd69-e2d7-46a1-b408-dcb6526c41b7",
        "colab": {
          "base_uri": "https://localhost:8080/"
        }
      },
      "outputs": [
        {
          "output_type": "stream",
          "name": "stdout",
          "text": [
            "['Hello', 'world']\n"
          ]
        }
      ],
      "source": [
        "from utils.tokenizer import tokenize\n",
        "text = \"Hello world\"\n",
        "tokens = tokenize(text)\n",
        "print(tokens)"
      ]
    }
  ],
  "metadata": {
    "colab": {
      "provenance": []
    },
    "kernelspec": {
      "display_name": "football-env",
      "language": "python",
      "name": "football-env"
    },
    "language_info": {
      "codemirror_mode": {
        "name": "ipython",
        "version": 3
      },
      "file_extension": ".py",
      "mimetype": "text/x-python",
      "name": "python",
      "nbconvert_exporter": "python",
      "pygments_lexer": "ipython3",
      "version": "3.11.4"
    }
  },
  "nbformat": 4,
  "nbformat_minor": 0
}