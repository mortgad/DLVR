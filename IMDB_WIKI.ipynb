{
 "cells": [
  {
   "cell_type": "markdown",
   "metadata": {},
   "source": [
    "<a href=\"https://colab.research.google.com/github/mortgad/DLVR/blob/main/IMDB_WIKI.ipynb\" target=\"_parent\"><img src=\"https://colab.research.google.com/assets/colab-badge.svg\" alt=\"Open In Colab\"/></a>"
   ]
  },
  {
   "cell_type": "code",
   "execution_count": null,
   "metadata": {},
   "outputs": [],
   "source": [
    "import os\n",
    "import tarfile\n",
    "import urllib.request\n",
    "\n",
    "# Function to download and extract tar files\n",
    "def download_and_extract(url, destination_path):\n",
    "    # File name based on URL\n",
    "    file_name = url.split('/')[-1]\n",
    "    file_path = os.path.join(destination_path, file_name)\n",
    "    \n",
    "    # Download the file\n",
    "    print(f\"Downloading {file_name}...\")\n",
    "    urllib.request.urlretrieve(url, file_path)\n",
    "    print(f\"Downloaded {file_name}.\")\n",
    "\n",
    "    # Extract the tar file\n",
    "    print(f\"Extracting {file_name}...\")\n",
    "    with tarfile.open(file_path, \"r\") as tar:\n",
    "        tar.extractall(destination_path)\n",
    "    print(f\"Extracted {file_name}.\")\n",
    "\n",
    "    # Remove the tar file after extraction to save space\n",
    "    os.remove(file_path)\n",
    "    print(f\"Removed {file_name}.\")\n",
    "\n",
    "# Define URLs and destination path\n",
    "urls = [\n",
    "    \"https://data.vision.ee.ethz.ch/cvl/rrothe/imdb-wiki/static/wiki_crop.tar\",\n",
    "    \"https://data.vision.ee.ethz.ch/cvl/rrothe/imdb-wiki/static/imdb_crop.tar\"\n",
    "]\n",
    "destination_path = \"/content/datasets\"\n",
    "\n",
    "# Create the destination directory if it doesn't exist\n",
    "os.makedirs(destination_path, exist_ok=True)\n",
    "\n",
    "# Download and extract each dataset\n",
    "for url in urls:\n",
    "    download_and_extract(url, destination_path)\n",
    "\n",
    "print(\"All datasets downloaded and extracted.\")"
   ]
  }
 ],
 "metadata": {
  "kernelspec": {
   "display_name": "Python 3",
   "language": "python",
   "name": "python3"
  },
  "language_info": {
   "name": "python",
   "version": "3.11.4"
  }
 },
 "nbformat": 4,
 "nbformat_minor": 2
}
