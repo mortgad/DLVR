{
  "nbformat": 4,
  "nbformat_minor": 0,
  "metadata": {
    "colab": {
      "provenance": [],
      "authorship_tag": "ABX9TyPB5KojYFnsfFPx83ZepKXq",
      "include_colab_link": true
    },
    "kernelspec": {
      "name": "python3",
      "display_name": "Python 3"
    },
    "language_info": {
      "name": "python"
    }
  },
  "cells": [
    {
      "cell_type": "markdown",
      "metadata": {
        "id": "view-in-github",
        "colab_type": "text"
      },
      "source": [
        "<a href=\"https://colab.research.google.com/github/mortgad/DLVR/blob/main/Fresh_Start.ipynb\" target=\"_parent\"><img src=\"https://colab.research.google.com/assets/colab-badge.svg\" alt=\"Open In Colab\"/></a>"
      ]
    },
    {
      "cell_type": "markdown",
      "source": [
        "# Loading data FairFace"
      ],
      "metadata": {
        "id": "grevdoSo2f7f"
      }
    },
    {
      "cell_type": "code",
      "execution_count": null,
      "metadata": {
        "id": "_5Uv7foe15oa"
      },
      "outputs": [],
      "source": [
        "# Mount drive\n",
        "from google.colab import drive\n",
        "drive.mount('/content/drive')"
      ]
    },
    {
      "cell_type": "code",
      "source": [
        "!git clone https://github.com/mortgad/DLVR.git\n",
        "%cd DLVR"
      ],
      "metadata": {
        "id": "wZtE0wgV2nWu"
      },
      "execution_count": null,
      "outputs": []
    },
    {
      "cell_type": "code",
      "source": [
        "from utils.fairface import load_fairface\n",
        "df_fairface_train, df_fairface_val = load_fairface()"
      ],
      "metadata": {
        "id": "bUr-KTCH2t1G"
      },
      "execution_count": null,
      "outputs": []
    },
    {
      "cell_type": "markdown",
      "source": [
        "# Loading UTK"
      ],
      "metadata": {
        "id": "lcf5j2Zn3U9w"
      }
    },
    {
      "cell_type": "markdown",
      "source": [
        "# Merging datasets if needed"
      ],
      "metadata": {
        "id": "tRl2jvuk3bIm"
      }
    }
  ]
}